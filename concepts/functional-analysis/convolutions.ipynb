{
 "cells": [
  {
   "cell_type": "markdown",
   "metadata": {},
   "source": [
    "# Convolutions\n",
    "They're small transformations we can do to a dataset. For example, say we're working with grayscale images. These images are stored as a matrix, where the cell values are the intensity level of a specific pixel. \n",
    "\n",
    "We can find horizontal lines by applying the convolution: $\\begin{pmatrix}1&1\\\\-1&-1\\end{pmatrix}$\n",
    "\n",
    "\n",
    "We don't define the \n"
   ]
  },
  {
   "cell_type": "markdown",
   "metadata": {},
   "source": [
    "### Resources:\n",
    "* [Kaggle Deep Learning Course](https://www.kaggle.com/learn/deep-learning)"
   ]
  },
  {
   "cell_type": "code",
   "execution_count": null,
   "metadata": {},
   "outputs": [],
   "source": []
  }
 ],
 "metadata": {
  "kernelspec": {
   "display_name": "Python 3",
   "language": "python",
   "name": "python3"
  },
  "language_info": {
   "codemirror_mode": {
    "name": "ipython",
    "version": 3
   },
   "file_extension": ".py",
   "mimetype": "text/x-python",
   "name": "python",
   "nbconvert_exporter": "python",
   "pygments_lexer": "ipython3",
   "version": "3.7.4"
  }
 },
 "nbformat": 4,
 "nbformat_minor": 2
}
