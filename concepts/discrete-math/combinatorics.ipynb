{
 "cells": [
  {
   "cell_type": "markdown",
   "metadata": {},
   "source": [
    "# Combinatorics"
   ]
  },
  {
   "cell_type": "markdown",
   "metadata": {},
   "source": [
    "How many ways can I sell `tickets_left` over `days_left`? Let's say I have `5` tickets, and `2` days to sell them. \n",
    "* (0, 5)\n",
    "* (5, 0)\n",
    "* (1, 4)\n",
    "* (4, 1)\n",
    "* (3, 2)\n",
    "* (2, 3)\n",
    "\n",
    "That gives me `6` ways to get to `5`. Cool, but is there a generic solution for this? I can frame this as a combinatorics problem where I'm looking for all the ways in which we can split `tickets_left` with `days_left - 1` dividers. \n",
    "\n",
    "Imagine the problem as a row of `5` one's. \n",
    "`11111`\n",
    "\n",
    "I can then split it into `2` groups by adding a divider somewhere along that row.<br>\n",
    "`|1111` (0, 5)<br>\n",
    "`1|1111` (1, 4)<br>\n",
    "`11|111` (2, 3)<br>\n",
    "`111|11` (3, 2)<br>\n",
    "$\\dots$\n",
    "\n",
    "From this point of view, the problem becomes: how many ways can I order `ticket_left` + `days_left - 1`, or $n + k$, items.\n",
    "\n",
    "$f(n, k) = \\frac{(n+k)!}{n!k!}$"
   ]
  },
  {
   "cell_type": "code",
   "execution_count": null,
   "metadata": {},
   "outputs": [],
   "source": []
  }
 ],
 "metadata": {
  "kernelspec": {
   "display_name": "Python 3",
   "language": "python",
   "name": "python3"
  },
  "language_info": {
   "codemirror_mode": {
    "name": "ipython",
    "version": 3
   },
   "file_extension": ".py",
   "mimetype": "text/x-python",
   "name": "python",
   "nbconvert_exporter": "python",
   "pygments_lexer": "ipython3",
   "version": "3.7.3"
  }
 },
 "nbformat": 4,
 "nbformat_minor": 2
}
