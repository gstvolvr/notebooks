{
 "cells": [
  {
   "cell_type": "markdown",
   "metadata": {},
   "source": [
    "# Feasibility\n",
    "\n",
    "Say we have a problem:\n",
    "$$P: \\min f(x)~\\text{s.t.}~x\\in X$$\n",
    "\n",
    "* Any $x$ in $X$ is a feasible solution of $P$\n",
    "* feasible solution of = a solution that satisfies all constraints\n",
    "* if $X = \\emptyset$, then no feasible solutions exists, and the problem is said to be infeasible\n",
    "* The problem $\\min\\{3x+2y:x+y\\le1,x\\ge2,y\\ge2\\}$ is infeasible\n",
    "\n",
    "## Unbounded\n",
    "* The optimization problem $P$ is unbounded, if there are feasible solutions with arbitrarily small objective values. \n",
    "* Formally, $(P)$ is unbounded if there exists a sequence of feasible solutions $x^i\\in X$ such that $\\lim_{i\\rightarrow\\infty} f(x^i) = -\\infty$\n",
    "\n",
    "## Possible outcomes of optimization\n",
    "* Infeasible: $X = \\emptyset$\n",
    "* Unbounded: $f(x^i)\\rightarrow -\\infty \\text{for some} \\{x^i\\} \\in X$\n",
    "* Optimal solutions exists: There is $x^* \\in X$ such that $f(x^*) \\le f(x)$ for all $x \\in X$.\n",
    "* None of the above \n",
    "\n",
    "## Existence of optimal solutions\n",
    "### Weirestrass's Theorem\n",
    "If $f$ is a `continuous function` and $X$ is `nonempty`, `closed` and `bounded`, then $(P)$ has an optimal solution, $i.e.$ there exists $x^* \\in X$ such that $f(x^*)\\le f(x)$ for all $x \\in X$\n",
    "* $X$ is not empty, thus $(P)$ cannot be infeasible\n",
    "* $X$ is bounded, thus $(P)$ cannot be unbounded\n",
    "* Then continuity and closedness guarantees an optimal solution exists. "
   ]
  },
  {
   "cell_type": "code",
   "execution_count": null,
   "metadata": {},
   "outputs": [],
   "source": []
  }
 ],
 "metadata": {
  "kernelspec": {
   "display_name": "Python 3",
   "language": "python",
   "name": "python3"
  },
  "language_info": {
   "codemirror_mode": {
    "name": "ipython",
    "version": 3
   },
   "file_extension": ".py",
   "mimetype": "text/x-python",
   "name": "python",
   "nbconvert_exporter": "python",
   "pygments_lexer": "ipython3",
   "version": "3.7.4"
  }
 },
 "nbformat": 4,
 "nbformat_minor": 2
}
