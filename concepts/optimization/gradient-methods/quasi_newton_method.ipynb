{
 "cells": [
  {
   "cell_type": "markdown",
   "metadata": {},
   "source": [
    "# Quasi-Newton Method\n",
    "\n",
    "* blend of gradient descent and `newton's` method\n",
    "* avoids computation of the `hessian` and its inverse\n",
    "* update iteration using:\n",
    "$$x^{k+1} = x^k - \\alpha_k H_k \\nabla f(x^k)$$\n",
    "\n",
    "where $\\alpha_k$ is determined by line-search and $H_k$ is an approximation to $[\\nabla^2 f(x^k)]^{-1}$\n",
    "\n",
    "--- \n",
    "Where does this come from? Here are some required properties\n",
    "\n",
    "* $H_k$ should be symmetric and `positive definite`\n",
    "* Since $H_{k+1}^{-1}$ apprimxates the `hessian` — roughly the rate of change of the derivatives\n",
    "$$H_{k+1}(\\nabla f(x^{k+1}) - \\nabla f(x^k)) = x^{k+1} - x^k$$\n",
    "* Along with the iteration, the matrix $H_k$ is updated in each iteration using some update formulas that preserve above properties. \n",
    "\n",
    "### Broyden-Fletcher-Golfarb-Shanno (BFGS)\n",
    "\n",
    "`TODO:` add details\n",
    "\n",
    "$$H_{k+1} = H_k - \\frac{d_k g_k^T H_k + H_k g_k d_k^T}{d_k^T g_k} + (1 + \\frac{g_k^T H_k g_k}{d_k^T g_k}) \\frac{d_k d^T}{d_k^T g_k}$$\n",
    "\n",
    "where $g_k = \\nabla f(x^{k+1}) - \\nabla f(x^k)$ and $d_k = x^{k+1} - x^l$"
   ]
  },
  {
   "cell_type": "markdown",
   "metadata": {},
   "source": [
    "### Resources:\n",
    "* [ISyE 6669 Deterministic Optimization — Newton's Method](https://courses.edx.org/courses/course-v1:GTx+ISYE6669+2T2019/courseware/4f017d33a98749118de2413c8a8e4660/5131388fa021401a88546a6414af852e/1?activate_block_id=block-v1%3AGTx%2BISYE6669%2B2T2019%2Btype%40vertical%2Bblock%40ac9c0cad50ca493299d2832467f26b04)"
   ]
  }
 ],
 "metadata": {
  "kernelspec": {
   "display_name": "Python 3",
   "language": "python",
   "name": "python3"
  },
  "language_info": {
   "codemirror_mode": {
    "name": "ipython",
    "version": 3
   },
   "file_extension": ".py",
   "mimetype": "text/x-python",
   "name": "python",
   "nbconvert_exporter": "python",
   "pygments_lexer": "ipython3",
   "version": "3.7.4"
  }
 },
 "nbformat": 4,
 "nbformat_minor": 2
}
