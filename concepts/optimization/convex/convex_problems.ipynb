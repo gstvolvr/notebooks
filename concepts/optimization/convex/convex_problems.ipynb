{
 "cells": [
  {
   "cell_type": "markdown",
   "metadata": {},
   "source": [
    "# Convex Optimization Problems\n",
    "\n",
    "An optimization problem (in minimization) form a `convex optimization` problem if$\\dots$\n",
    "* the objective function is a `convex function` and constraint set is a `convext set`\n",
    "* The problem $min_x\\{f(x): x\\in X\\}$ is a convex optimizatino problem if $f$ is a convex function and X is a convex set. \n",
    "* Examples:\n",
    " * $\\text{min}\\{x^2: -1 \\le x \\le 1\\}$ is a `convex opt. problem`\n",
    " * $\\text{min}\\{-x^2: -1 \\le x \\le 1\\}$ is <b>not</b> a `convex opt. problem`\n",
    " * $\\text{min}\\{x^2: -5\\le x \\le5, x \\in \\mathbb{Z}\\}$ is <b>not</b> a `convex opt. problem`"
   ]
  },
  {
   "cell_type": "code",
   "execution_count": null,
   "metadata": {},
   "outputs": [],
   "source": []
  }
 ],
 "metadata": {
  "kernelspec": {
   "display_name": "Python 3",
   "language": "python",
   "name": "python3"
  },
  "language_info": {
   "codemirror_mode": {
    "name": "ipython",
    "version": 3
   },
   "file_extension": ".py",
   "mimetype": "text/x-python",
   "name": "python",
   "nbconvert_exporter": "python",
   "pygments_lexer": "ipython3",
   "version": "3.7.4"
  }
 },
 "nbformat": 4,
 "nbformat_minor": 2
}
