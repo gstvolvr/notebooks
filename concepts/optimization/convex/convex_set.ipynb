{
 "cells": [
  {
   "cell_type": "markdown",
   "metadata": {},
   "source": [
    "# Convex Set\n",
    "\n",
    "A set $X \\in \\mathbb{R}^n$ is `convex` if $\\dots$\n",
    "* $\\forall~x, y\\in X$ and $\\lambda \\in [0, 1]$ it holds that $(\\lambda x + (1-\\lambda) y) \\in X$\n",
    " * if $x$ and $y$ belong to $X$, then the line segment connecting those two points, also belongs to $X$.\n",
    "* a line segment connecting two points in the set lies entirely in the set\n",
    "\n",
    "#### Convexity Preserving Set Operations\n",
    "* Intersection of `convex` sets\n",
    "* Union of two `convex` sets\n",
    "* Sum of two sets\n",
    "* (Cartesian) Product \n",
    "\n",
    "#### Connection to convex functions\n",
    "* `epigraph` and `level sets` of `convex` functions are `convex` sets"
   ]
  },
  {
   "cell_type": "code",
   "execution_count": null,
   "metadata": {},
   "outputs": [],
   "source": []
  }
 ],
 "metadata": {
  "kernelspec": {
   "display_name": "Python 3",
   "language": "python",
   "name": "python3"
  },
  "language_info": {
   "codemirror_mode": {
    "name": "ipython",
    "version": 3
   },
   "file_extension": ".py",
   "mimetype": "text/x-python",
   "name": "python",
   "nbconvert_exporter": "python",
   "pygments_lexer": "ipython3",
   "version": "3.7.4"
  }
 },
 "nbformat": 4,
 "nbformat_minor": 2
}
