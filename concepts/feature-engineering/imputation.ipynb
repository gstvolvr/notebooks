{
 "cells": [
  {
   "cell_type": "markdown",
   "metadata": {},
   "source": [
    "# Imputation\n",
    "Often when working with datasets, we'll run into situations where there are missing values. A common solution to this, in the case that the value is numeric, is to replace missing values with the `mean`. It's sometimes also helpful to add a `boolean` feature indicating whether that record was missing or not. This helps when missing values imply something unique about that record."
   ]
  },
  {
   "cell_type": "code",
   "execution_count": 9,
   "metadata": {},
   "outputs": [
    {
     "name": "stdout",
     "output_type": "stream",
     "text": [
      "pre:\n",
      " [[nan 10.]\n",
      " [ 5.  6.]\n",
      " [10. 17.]] \n",
      "\n",
      "post:\n",
      " [[ 7.5 10. ]\n",
      " [ 5.   6. ]\n",
      " [10.  17. ]]\n"
     ]
    }
   ],
   "source": [
    "from sklearn.impute import SimpleImputer\n",
    "import numpy as np\n",
    "\n",
    "imp = SimpleImputer()\n",
    "data = np.array([[np.nan, 10], [5, 6], [10, 17]])\n",
    "\n",
    "print(\"pre:\\n\", data, \"\\n\")\n",
    "print(\"post:\\n\", imp.fit_transform(data))"
   ]
  },
  {
   "cell_type": "markdown",
   "metadata": {},
   "source": [
    "### Resources:\n",
    "* [Kaggle — Intermediate ML course — missing values](https://www.kaggle.com/alexisbcook/missing-values)"
   ]
  }
 ],
 "metadata": {
  "kernelspec": {
   "display_name": "Python 3",
   "language": "python",
   "name": "python3"
  },
  "language_info": {
   "codemirror_mode": {
    "name": "ipython",
    "version": 3
   },
   "file_extension": ".py",
   "mimetype": "text/x-python",
   "name": "python",
   "nbconvert_exporter": "python",
   "pygments_lexer": "ipython3",
   "version": "3.7.3"
  }
 },
 "nbformat": 4,
 "nbformat_minor": 2
}
