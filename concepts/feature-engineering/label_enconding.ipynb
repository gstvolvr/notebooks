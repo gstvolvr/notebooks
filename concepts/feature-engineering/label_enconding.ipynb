{
 "cells": [
  {
   "cell_type": "markdown",
   "metadata": {},
   "source": [
    "# Label Encoding\n",
    "Is the process of mapping distinct values of categorical variables to an integer."
   ]
  },
  {
   "cell_type": "code",
   "execution_count": 8,
   "metadata": {},
   "outputs": [
    {
     "name": "stdout",
     "output_type": "stream",
     "text": [
      "post/pre:\n",
      "\n",
      "1 Ice Cream\n",
      "2 Puppies\n",
      "4 Sunshine\n",
      "2 Puppies\n",
      "3 Rainbows\n",
      "0 Black Holes\n",
      "1 Ice Cream\n"
     ]
    }
   ],
   "source": [
    "import pandas as pd\n",
    "from sklearn.preprocessing import LabelEncoder\n",
    "\n",
    "data = [\"Ice Cream\", \"Puppies\", \"Sunshine\", \"Puppies\", \"Rainbows\", \"Black Holes\", \"Ice Cream\"]\n",
    "df = pd.DataFrame(data)\n",
    "\n",
    "encoder = LabelEncoder()\n",
    "encoded = encoder.fit_transform(df)\n",
    "print(\"post/pre:\\n\")\n",
    "for c, i in zip(data, encoded):\n",
    "    print(i, c)"
   ]
  },
  {
   "cell_type": "markdown",
   "metadata": {},
   "source": [
    "### Resources:\n",
    "* [Kaggle — Intermediate Machine Learning course](https://www.kaggle.com/alexisbcook/categorical-variables)"
   ]
  }
 ],
 "metadata": {
  "kernelspec": {
   "display_name": "Python 3",
   "language": "python",
   "name": "python3"
  },
  "language_info": {
   "codemirror_mode": {
    "name": "ipython",
    "version": 3
   },
   "file_extension": ".py",
   "mimetype": "text/x-python",
   "name": "python",
   "nbconvert_exporter": "python",
   "pygments_lexer": "ipython3",
   "version": "3.7.3"
  }
 },
 "nbformat": 4,
 "nbformat_minor": 2
}
