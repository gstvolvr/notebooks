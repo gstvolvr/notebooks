{
 "cells": [
  {
   "cell_type": "markdown",
   "metadata": {},
   "source": [
    "# Skewness\n",
    "Measures the lack of `symmetry` in a data set. It can be computed by comparing [common measures of centrality](measures_of_centrality.ipynb). Larger values indicate more skewness.\n",
    "\n",
    "\n",
    "### Coefficient of skewness\n",
    "$$g_1 = \\frac{m_3}{m_2^{\\frac{3}{2}}}$$\n",
    "\n",
    "### Pearson's first coefficient of skewness\n",
    "\n",
    "$$S_{k_1} = \\frac{3(\\bar{x} - M_o)}{s}$$\n",
    "\n",
    "### Parson's second moment of skewness\n",
    "$$S_{k_2} = \\frac{3(\\bar{x} - \\tilde{x})}{s}$$\n",
    "\n",
    "where $\\tilde{x}$ is the median of the dataset, and $s$ is the standard deviation. "
   ]
  },
  {
   "cell_type": "markdown",
   "metadata": {},
   "source": [
    "#### Resources:\n",
    "* [Zwillinger, D. and Kokoska, S. (2000). CRC Standard Probability and Statistics Tables and Formulae. Chapman & Hall: New York. 2000. Section 2.2.24.1](https://www.academia.edu/36585127/CRC_standard_probability_and_Statistics_tables_and_formulae_DANIEL_ZWILLINGER)\n",
    "* [Wikipedia — Skewness](https://en.wikipedia.org/wiki/Skewness)\n",
    "* [Measures of skewness and kurtosis](https://www.itl.nist.gov/div898/handbook/eda/section3/eda35b.htm)"
   ]
  },
  {
   "cell_type": "code",
   "execution_count": null,
   "metadata": {},
   "outputs": [],
   "source": []
  }
 ],
 "metadata": {
  "kernelspec": {
   "display_name": "Python 3",
   "language": "python",
   "name": "python3"
  },
  "language_info": {
   "codemirror_mode": {
    "name": "ipython",
    "version": 3
   },
   "file_extension": ".py",
   "mimetype": "text/x-python",
   "name": "python",
   "nbconvert_exporter": "python",
   "pygments_lexer": "ipython3",
   "version": "3.7.3"
  }
 },
 "nbformat": 4,
 "nbformat_minor": 2
}
