{
 "cells": [
  {
   "cell_type": "markdown",
   "metadata": {},
   "source": [
    "# A/B Testing\n",
    "Randomized control trial with two variants. It allows the to test a user's response against variant `A` vs variant `B`, to determine which is most effective. \n",
    "\n",
    "\n",
    "## Frequentist Approach\n",
    "Makes predictions only using data from the current experiment. \n",
    "\n",
    "## Bayesian Approach\n",
    "A probability is assigned to a hypothesis where past knowledge is encoded  as a `prior`. The general framework is:\n",
    "\n",
    "1) define prior distribution that incorporates your subjective beliefs about a parameter<br>\n",
    "2) gather data<br>\n",
    "3) update your prior with the data using [bayes rule](../probability/bayes_rule.ipynb)<br>\n",
    "4) analyze the posterior distribution and summarize it"
   ]
  },
  {
   "cell_type": "markdown",
   "metadata": {},
   "source": [
    "### Resources:\n",
    "* [Wikipedia — A/B testing](https://en.wikipedia.org/wiki/A/B_testing)\n",
    "* [Convesionxl — Bayesian vs Frequentist A/B Testing](https://conversionxl.com/blog/bayesian-frequentist-ab-testing/)\n",
    "* [R-Studio — A/B testing](https://rstudio-pubs-static.s3.amazonaws.com/201749_9fc280333a5c4f448687e1d99b9bdf76.html)"
   ]
  },
  {
   "cell_type": "code",
   "execution_count": null,
   "metadata": {},
   "outputs": [],
   "source": []
  }
 ],
 "metadata": {
  "kernelspec": {
   "display_name": "Python 3",
   "language": "python",
   "name": "python3"
  },
  "language_info": {
   "codemirror_mode": {
    "name": "ipython",
    "version": 3
   },
   "file_extension": ".py",
   "mimetype": "text/x-python",
   "name": "python",
   "nbconvert_exporter": "python",
   "pygments_lexer": "ipython3",
   "version": "3.7.4"
  }
 },
 "nbformat": 4,
 "nbformat_minor": 2
}
