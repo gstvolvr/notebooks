{
 "cells": [
  {
   "cell_type": "markdown",
   "metadata": {},
   "source": [
    "# Moments\n",
    "Quantitative measures of the shape of a funciton.\n",
    "\n",
    "---\n",
    "\n",
    "### First moment\n",
    "It's the [mean](measures_of_centrality.ipynb#Arithmetic-Mean)\n",
    "\n",
    "### Second moment\n",
    "It's the [variance]()\n",
    "\n",
    "### Third moment\n",
    "It's the [skewness](skewness.ipynb)\n",
    "\n",
    "### Fourth moment\n",
    "It's the [kurtosis](kurtosis.ipynb)"
   ]
  },
  {
   "cell_type": "markdown",
   "metadata": {},
   "source": [
    "### Resources:\n",
    "* [Wikipedia — moments](https://en.wikipedia.org/wiki/Moment_(mathematics))"
   ]
  }
 ],
 "metadata": {
  "kernelspec": {
   "display_name": "Python 3",
   "language": "python",
   "name": "python3"
  },
  "language_info": {
   "codemirror_mode": {
    "name": "ipython",
    "version": 3
   },
   "file_extension": ".py",
   "mimetype": "text/x-python",
   "name": "python",
   "nbconvert_exporter": "python",
   "pygments_lexer": "ipython3",
   "version": "3.7.3"
  }
 },
 "nbformat": 4,
 "nbformat_minor": 2
}
