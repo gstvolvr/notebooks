{
 "cells": [
  {
   "cell_type": "markdown",
   "metadata": {},
   "source": [
    "# Eigenvalues and Eigenvalues\n",
    "\n",
    "Say we have a function, $T$, that transforms a vector, $v$, from $\\mathbb{R}^n \\rightarrow \\mathbb{R}^n$. \n",
    "\n",
    "Let's look at $\\mathbb{R}^2$ and have ${v_1} = \\begin{pmatrix}1\\\\2\\end{pmatrix}$\n",
    "\n",
    "$Tv = \\lambda v$\n",
    "\n",
    "Any vector that satisfies the above transformation is an `eigen vector`. It's a vector that gets scaled up by a transformation. It doesn't change in any meaningful way other than just a scaling factor. The `eigen value` is the multiple associated with that `eigen vector`. "
   ]
  },
  {
   "cell_type": "code",
   "execution_count": 10,
   "metadata": {},
   "outputs": [
    {
     "data": {
      "image/png": "[encoded data removed]",
      "text/plain": [
       "<Figure size 432x288 with 1 Axes>"
      ]
     },
     "metadata": {},
     "output_type": "display_data"
    }
   ],
   "source": [
    "import matplotlib.pyplot as plt\n",
    "import seaborn as sns\n",
    "sns.set()\n",
    "\n",
    "plt.plot([0, 1], [0, 2], marker='o');\n",
    "plt.vlines(0, -5, 5); plt.hlines(0, -5, 5);"
   ]
  },
  {
   "cell_type": "markdown",
   "metadata": {},
   "source": [
    "Now, let's say that our matrix transformation looks like this\n",
    "$\\begin{pmatrix}2&0\\\\0&3\\end{pmatrix}$\n",
    "\n",
    "This corresponds to the map given by $(x, y) \\rightarrow (2x, 3y)$, so we scale $x$ by a factor of 2, and $y$ by a factor of 3. This is equivalent to requiring that $T$ send $(1, 0) \\rightarrow (2, 0)$ and $(0, 1) \\rightarrow (0, 3)$"
   ]
  },
  {
   "cell_type": "code",
   "execution_count": 12,
   "metadata": {},
   "outputs": [],
   "source": [
    "import numpy as np\n",
    "T = np.array([[2, 0], [0, 3]])\n"
   ]
  },
  {
   "cell_type": "markdown",
   "metadata": {},
   "source": [
    "`eigenvalues` are useful for defining basis"
   ]
  },
  {
   "cell_type": "markdown",
   "metadata": {},
   "source": [
    "### Resources:\n",
    "* [Khan Academy — Eigen-everything](https://www.khanacademy.org/math/linear-algebra/alternate-bases/eigen-everything/v/linear-algebra-introduction-to-eigenvalues-and-eigenvectors)\n",
    "* [Wolfram — Eigenvalue](http://mathworld.wolfram.com/Eigenvalue.html)"
   ]
  },
  {
   "cell_type": "code",
   "execution_count": null,
   "metadata": {},
   "outputs": [],
   "source": []
  }
 ],
 "metadata": {
  "kernelspec": {
   "display_name": "Python 3",
   "language": "python",
   "name": "python3"
  },
  "language_info": {
   "codemirror_mode": {
    "name": "ipython",
    "version": 3
   },
   "file_extension": ".py",
   "mimetype": "text/x-python",
   "name": "python",
   "nbconvert_exporter": "python",
   "pygments_lexer": "ipython3",
   "version": "3.7.4"
  }
 },
 "nbformat": 4,
 "nbformat_minor": 2
}
