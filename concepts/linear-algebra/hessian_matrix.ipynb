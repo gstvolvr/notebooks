{
 "cells": [
  {
   "cell_type": "markdown",
   "metadata": {},
   "source": [
    "# Hessian Matrix\n",
    "Is an $n \\times n$ matrix of second-order partial derivatives.\n",
    "Along the diagonal, we have the second-order partial derivatives with respect to each variable, and then the cross partial derivatives everywhere else. \n",
    "\n",
    "$$\n",
    "H = \\begin{bmatrix}\n",
    "  \\frac{\\partial^2 f}{\\partial x_1^2} & \\frac{\\partial^2 f}{\\partial x_1\\partial x_2}&\\dots&\\frac{\\partial^2 f}{\\partial x_1\\partial x_n}\\\\\n",
    "  \\frac{\\partial^2 f}{\\partial x_2\\partial x_1}&\\frac{\\partial^2 f}{\\partial x_2^2}&\\dots&\\frac{\\partial^2 f}{\\partial x_2\\partial x_n}\\\\\n",
    "  \\vdots&\\vdots&\\ddots&\\vdots \\\\\n",
    "  \\frac{\\partial^2 f}{\\partial x_n\\partial x_1}&\\frac{\\partial^2 f}{\\partial x_n\\partial x_n}&\\dots&\\frac{\\partial^2 f}{\\partial x_n^2}\n",
    "\\end{bmatrix}\n",
    "$$\n",
    "---\n",
    "\n",
    "---\n",
    "For example:\n",
    "\n",
    "$$f(x_1, x_2) = 3x_1 + 2x_2 + (x_1 - 1)^2$$\n",
    "\n",
    "$$\\frac{\\partial f}{\\partial x_1} = 3 + 2(x_1 - 1), \\frac{\\partial^2 f}{\\partial x_1} = 2$$\n",
    "\n",
    "\n",
    "$$\\frac{\\partial f}{\\partial x_2} = 2, \\frac{\\partial^2 f}{\\partial x_2} = 0$$\n",
    "\n",
    "$$\\frac{\\partial f}{\\partial x_2 \\partial x_1} = 0, \\frac{\\partial f}{\\partial x_1 \\partial x_2} = 0$$\n",
    "\n",
    "\n",
    "\n",
    "At point $(x_1 = 1, x_2 = 3)$ is:\n",
    "$$\\nabla^2 f(1, 2) = \\begin{bmatrix}2&0\\\\0&0\\end{bmatrix}$$"
   ]
  },
  {
   "cell_type": "markdown",
   "metadata": {},
   "source": [
    "### Resources:\n",
    "* [Brillian — Hessian Matrix](https://brilliant.org/wiki/hessian-matrix/)"
   ]
  }
 ],
 "metadata": {
  "kernelspec": {
   "display_name": "Python 3",
   "language": "python",
   "name": "python3"
  },
  "language_info": {
   "codemirror_mode": {
    "name": "ipython",
    "version": 3
   },
   "file_extension": ".py",
   "mimetype": "text/x-python",
   "name": "python",
   "nbconvert_exporter": "python",
   "pygments_lexer": "ipython3",
   "version": "3.7.4"
  }
 },
 "nbformat": 4,
 "nbformat_minor": 4
}
