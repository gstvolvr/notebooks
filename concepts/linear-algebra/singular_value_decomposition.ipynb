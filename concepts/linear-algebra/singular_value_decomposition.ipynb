{
 "cells": [
  {
   "cell_type": "markdown",
   "metadata": {},
   "source": [
    "# [Singular Value Decomposition (SVD)](https://www.youtube.com/watch?v=mBcLRGuAFUk)"
   ]
  },
  {
   "cell_type": "markdown",
   "metadata": {},
   "source": [
    "`SVD` is a factorization method of a matrix. \n",
    "___\n",
    "Every $m \\times n$ matrix factors into $A = U \\Sigma V^T$\n",
    "\n",
    "* $U$ is an [orthogonal/rotation](https://en.wikipedia.org/wiki/Orthogonal_matrix) matrix\n",
    "* $\\Sigma$ is a diagonal/stretching matrix \n",
    "* $V^T$ is an orthogonal/rotation matrix\n",
    "\n",
    "$\n",
    "A = \\begin{bmatrix} \n",
    "u_1 & u_2 \\\\\n",
    "\\end{bmatrix} \n",
    "\\begin{bmatrix} \n",
    "\\sigma_1 ~0 \\\\ \n",
    "0 ~\\sigma_2 \\\\\n",
    "\\end{bmatrix}  \n",
    "\\begin{bmatrix} \n",
    "V_1^T \\\\ \n",
    "V_2^T \\\\\n",
    "\\end{bmatrix}$\n",
    "\n",
    "$\\sigma_x$ are the singular values, and $u_x$ and $v_x^T$ are the left, and right singular vectors, respectively.\n",
    "\n",
    "\n",
    "Ok, <em>so what</em>? \n",
    "\n",
    "Well, this can be rewritten as:<br>\n",
    "$\n",
    "A^TA = (U^T\\Sigma^TV^T) A = (V \\Sigma^T U^T) (U \\Sigma V^T) = V (\\Sigma^T \\Sigma) V^T\n",
    "$\n",
    "\n",
    "We can get rid of the $U^TU$ term since the product of an `orthogonal` matrix, is the `identity` matrix. \n",
    "\n",
    "The $(\\Sigma^T \\Sigma)$ term is a diagonal matrix (containing the `eigen values`), and $V$ is the `eigen vector` matrix for $A^TA$\n",
    "\n",
    "Likewise, if we were to take $A A^T$, then we'd find that $U$ is the `eigen vector` matrix for $A A^T$, and the same eigen values as $A^TA$\n",
    "\n",
    "___\n",
    "\n",
    "What about the `eigen values` and `eigen vectors`? \n",
    "\n",
    "`eigen vectors` are vectors that are scaled up by a transformation. They make for good basis vectors.\n",
    "\n",
    "The `basis` of a vector is set of `linearly independent` vectors that `span` the full space. \n",
    "\n",
    "They're useful for defining bases. In those bases, it's easier to find transormation matrices. \n",
    "\n",
    "They follow this formula:<br> \n",
    "$A \\textbf{v} = \\lambda \\textbf{v}$\n",
    "\n",
    "where $v$ is the eiger vector, and $\\lambda$ are the eigen values associated to that vector\n",
    "\n",
    "Let's start out with the basics. Let's say we some vector $\\textbf{v}_1 \\in \\mathbb{R}^2$"
   ]
  }
 ],
 "metadata": {
  "kernelspec": {
   "display_name": "Python 3",
   "language": "python",
   "name": "python3"
  },
  "language_info": {
   "codemirror_mode": {
    "name": "ipython",
    "version": 3
   },
   "file_extension": ".py",
   "mimetype": "text/x-python",
   "name": "python",
   "nbconvert_exporter": "python",
   "pygments_lexer": "ipython3",
   "version": "3.7.3"
  }
 },
 "nbformat": 4,
 "nbformat_minor": 2
}
