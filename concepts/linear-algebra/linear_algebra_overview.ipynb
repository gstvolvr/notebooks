{
 "cells": [
  {
   "cell_type": "markdown",
   "metadata": {},
   "source": [
    "# Linear Algebra Overview\n",
    "\n",
    "### Vectors\n",
    "* A vector $\\textbf{x} \\in \\mathbb{R}^n$ is an $n$-tuple of real numbers. It can be considered a point in `n-dimensional` space. \n",
    " * typically these are seen as column vectors\n",
    "* the maginite of a vector will be the `l2 norm`:\n",
    " * $||x|| = \\sqrt{x_1^2 + x_2^2 + \\dots + x_n^2}$\n",
    " \n",
    "#### Scalar Product\n",
    "* The scaller (or inner or dot) product between two vectors is defined as $\\textbf{x}^T\\textbf{y} = \\sum_{j=1}^n x_iy_j$\n",
    "* Also, $\\textbf{x}^T\\textbf{y} = ||x||\\cdot||y||\\cos\\theta$, where $\\theta$ is the angle between the two vectors\n",
    "* The vectors  $\\textbf{x}$ and  $\\textbf{y}$ are orthogonal if $||x||\\cdot||y||\\text{cos}\\theta=0$\n",
    "\n",
    "#### Linear independence and basis\n",
    "* a set of vectors $x^1, \\dots, x^k$ are linearly independent if non of the vectors can be written as a linear combination of the others. \n",
    "* there can be at most $n$ linearly independent vectors in $\\mathbb{R}^n$\n",
    "* any collection of $n$ linearly independent vectors in $\\mathbb{R}^n$ defines a basis of $\\mathbb{R}^n$ — i.e. any vector in $\\mathbb{R}^n$ can be written as a linear combination of the basis vectors. \n",
    "* the unit vectors $\\textbf{e}^1 = [1,0,\\dots,0]^T, \\dots e^n = [0,0,\\dots,1]^T$ define the `standard basis` for $\\mathbb{R}^n$\n",
    "\n",
    "### Matrices\n",
    "* A $m\\times n$ matrix  $A \\in \\mathbb{R}^{m\\times n}$ is a rectangular array of $mn$ numbers\n",
    "\n",
    "#### Rank\n",
    "* The row rank of $A$ is the maximum number of linearly independent rows\n",
    "* The column rank of $A$ is the maximum number linearly independnet columns\n",
    "* Fact: row rank = column rank = rank($A$)\n",
    "* $A$ is full rank if rank($A$) = $min\\{m, n\\}$\n",
    "\n",
    "#### Systems of Equations\n",
    "* Let $A \\in \\mathbb{R}^{m\\times n}$ and $\\textbf{b}\\in \\mathbb{R}^{m}$. Suppose that $A$ is full rank. Consider the system of $m$ equations $Ax = b$ in the $n$ unknowns given by $x\\in \\mathbb{R}^{n}$.\n",
    "* If $m > n$, then the system has no solution\n",
    "* If $m = n$, then the system has a unique solution $x = A^{-1}\\textbf{b}$\n",
    "* If $m < n$, then the sytem has an infinite number of solutions. "
   ]
  },
  {
   "cell_type": "markdown",
   "metadata": {},
   "source": [
    "### Resources:\n",
    "* [ISyE 6669 Discrete Optimization — Module 3](https://courses.edx.org/courses/course-v1:GTx+ISYE6669+2T2019/courseware/ffba31ed81c64eb88ee339d936b13ca2/d98201eba37c4db2b3756b03c5b3480b/?child=first)"
   ]
  }
 ],
 "metadata": {
  "kernelspec": {
   "display_name": "Python 3",
   "language": "python",
   "name": "python3"
  },
  "language_info": {
   "codemirror_mode": {
    "name": "ipython",
    "version": 3
   },
   "file_extension": ".py",
   "mimetype": "text/x-python",
   "name": "python",
   "nbconvert_exporter": "python",
   "pygments_lexer": "ipython3",
   "version": "3.7.4"
  }
 },
 "nbformat": 4,
 "nbformat_minor": 4
}
