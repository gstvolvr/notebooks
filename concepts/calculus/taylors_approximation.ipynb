{
 "cells": [
  {
   "cell_type": "markdown",
   "metadata": {},
   "source": [
    "#  Taylor's Approximation\n",
    "Uses `taylor series` to represent a number as a polynomial that has a very similar value to the number in a neightborhood around a specific $x$ value. \n",
    "\n",
    "Let $f:\\mathbb{R}^n \\leftarrow \\mathbb{R}$ be a differentiable function and $\\mathbf{x}^0 \\in \\mathbb{R}^n$\n",
    "* First order Taylor's approximation of $f$ at $\\mathbf{x}^0$:\n",
    " * $f(x) \\approx f(\\mathbf{x}^0) + \\nabla f(\\mathbf{x}^0)^T(\\mathbf{x}-\\mathbf{x}^0)$\n",
    "* Second order Taylor's approximation of $f$ at $\\mathbf{x}^0$:\n",
    " * $f(x) \\approx f(\\mathbf{x}^0) + \\nabla f(\\mathbf{x}^0)^T(\\mathbf{x}-\\mathbf{x}^0) + \\frac{1}{2}(\\mathbf{x}-\\mathbf{x}^0)^T\\nabla^2 f(\\mathbf{x}^0)(\\mathbf{x}-\\mathbf{x}^0)$\n",
    " \n",
    "For example, consider the function $f(x, y) = 2y + xy + x^2$, the first order Taylor's expansion of this function at (1, 1) is:\n",
    "\n",
    "$$-2 + 3x + 3y$$"
   ]
  },
  {
   "cell_type": "markdown",
   "metadata": {},
   "source": [
    "### Resources: \n",
    "* [ISyE 6669 — Discrete Optimization: Module 3](https://courses.edx.org/courses/course-v1:GTx+ISYE6669+2T2019/courseware/ffba31ed81c64eb88ee339d936b13ca2/d98201eba37c4db2b3756b03c5b3480b/?child=first)\n",
    "* [Brilliant — Taylor Series Approximation](https://brilliant.org/wiki/taylor-series-approximation/)\n",
    "* [Khan Academy — Visualizing Taylor polynomial approximations](https://www.khanacademy.org/math/ap-calculus-bc/bc-series-new/bc-10-11/v/visualizing-taylor-series-for-e-x)"
   ]
  }
 ],
 "metadata": {
  "kernelspec": {
   "display_name": "Python 3",
   "language": "python",
   "name": "python3"
  },
  "language_info": {
   "codemirror_mode": {
    "name": "ipython",
    "version": 3
   },
   "file_extension": ".py",
   "mimetype": "text/x-python",
   "name": "python",
   "nbconvert_exporter": "python",
   "pygments_lexer": "ipython3",
   "version": "3.7.4"
  }
 },
 "nbformat": 4,
 "nbformat_minor": 2
}
