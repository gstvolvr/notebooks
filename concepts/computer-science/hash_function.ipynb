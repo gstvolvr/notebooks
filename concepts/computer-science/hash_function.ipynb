{
 "cells": [
  {
   "cell_type": "markdown",
   "metadata": {},
   "source": [
    "# Hash Function\n",
    "It maps data of arbitrary length to a fixed size."
   ]
  },
  {
   "cell_type": "code",
   "execution_count": 3,
   "metadata": {},
   "outputs": [
    {
     "name": "stdout",
     "output_type": "stream",
     "text": [
      "a 86f7e437faa5a7fce15d1ddcb9eaeaea377667b8\n",
      "b e9d71f5ee7c92d6dc9e92ffdad17b8bd49418f98\n",
      "c 84a516841ba77a5b4648de2cd0dfcb30ea46dbb4\n",
      "d 3c363836cf4e16666669a25da280a1865c2d2874\n",
      "e 58e6b3a414a1e090dfc6029add0f3555ccba127f\n",
      "f 4a0a19218e082a343a1b17e5333409af9d98f0f5\n",
      "g 54fd1711209fb1c0781092374132c66e79e2241b\n",
      "h 27d5482eebd075de44389774fce28c69f45c8a75\n",
      "i 042dc4512fa3d391c5170cf3aa61e6a638f84342\n",
      "j 5c2dd944dde9e08881bef0894fe7b22a5c9c4b06\n",
      "k 13fbd79c3d390e5d6585a21e11ff5ec1970cff0c\n",
      "l 07c342be6e560e7f43842e2e21b774e61d85f047\n",
      "m 6b0d31c0d563223024da45691584643ac78c96e8\n",
      "n d1854cae891ec7b29161ccaf79a24b00c274bdaa\n",
      "o 7a81af3e591ac713f81ea1efe93dcf36157d8376\n",
      "p 516b9783fca517eecbd1d064da2d165310b19759\n",
      "q 22ea1c649c82946aa6e479e1ffd321e4a318b1b0\n",
      "r 4dc7c9ec434ed06502767136789763ec11d2c4b7\n",
      "s a0f1490a20d0211c997b44bc357e1972deab8ae3\n",
      "t 8efd86fb78a56a5145ed7739dcb00c78581c5375\n",
      "u 51e69892ab49df85c6230ccc57f8e1d1606caccc\n",
      "v 7a38d8cbd20d9932ba948efaa364bb62651d5ad4\n",
      "w aff024fe4ab0fece4091de044c58c9ae4233383a\n",
      "x 11f6ad8ec52a2984abaafd7c3b516503785c2072\n",
      "y 95cb0bfd2977c761298d9624e4b4d4c72a39974a\n",
      "z 395df8f7c51f007019cb30201c49e884b46b92fa\n"
     ]
    }
   ],
   "source": [
    "import string\n",
    "import hashlib\n",
    "\n",
    "for l in string.ascii_lowercase:\n",
    "    print(l, hashlib.sha1(l.encode(\"utf-8\")).hexdigest())"
   ]
  },
  {
   "cell_type": "markdown",
   "metadata": {},
   "source": [
    "### Resources:\n",
    "* [Wikipedia — Hash Functions](https://en.wikipedia.org/wiki/Hash_function)"
   ]
  }
 ],
 "metadata": {
  "kernelspec": {
   "display_name": "Python 3",
   "language": "python",
   "name": "python3"
  },
  "language_info": {
   "codemirror_mode": {
    "name": "ipython",
    "version": 3
   },
   "file_extension": ".py",
   "mimetype": "text/x-python",
   "name": "python",
   "nbconvert_exporter": "python",
   "pygments_lexer": "ipython3",
   "version": "3.7.3"
  }
 },
 "nbformat": 4,
 "nbformat_minor": 2
}
