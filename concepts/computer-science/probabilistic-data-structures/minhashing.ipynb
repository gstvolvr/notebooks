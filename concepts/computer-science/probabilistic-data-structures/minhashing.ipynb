{
 "cells": [
  {
   "cell_type": "markdown",
   "metadata": {},
   "source": [
    "# Minhashing\n",
    "Answers the question, \"how similar is this document to that document?\"\n",
    "\n",
    "More concretely, it's a probabilistic estimate for comparing sets of documents using [jaccard similarity](nformation-theory/jaccard_similarity.ipynb). It creates `signatures` for each `set` in such a way that similar documents, will have similar `signatures`.\n",
    "\n",
    "### steps:\n",
    "<strong>1)</strong> breaks down a document into shingles<br>\n",
    "<strong>2)</strong> calculates a [hash](../hash_function.ipynb) value for every shingle<br>\n",
    "<strong>3)</strong> stores the `minimum` hash value<br>\n",
    "<strong>4)</strong> repeats `2` and `3` with a new hash function for another X times<br>"
   ]
  },
  {
   "cell_type": "code",
   "execution_count": 448,
   "metadata": {},
   "outputs": [
    {
     "name": "stdout",
     "output_type": "stream",
     "text": [
      "defaultdict(<class 'int'>, {'the quick': 0, 'quick brown': 1, 'brown fox': 2, 'fox jumps': 3, 'jumps over': 4, 'over the': 5, 'the lazy': 6, 'brown cow': 7, 'cow jumps': 8})\n"
     ]
    }
   ],
   "source": [
    "import collections\n",
    "\n",
    "s1 = \"the quick brown fox jumps over the lazy dog\"\n",
    "s2 = \"the quick brown cow jumps over the lazy dog\"\n",
    "\n",
    "def jaccard(string_a, string_b):\n",
    "    sa, sb = set(string_a), set(string_b)\n",
    "    return len(sa & sb) / len(sa | sb)\n",
    "\n",
    "def shingles(s, size=2): \n",
    "    s_ = s.split(\" \")\n",
    "    return [ s_[i:i+size] for i in range(len(s_)-size)]\n",
    "\n",
    "n = 2\n",
    "documents = [s1, s2]\n",
    "\n",
    "shingle_dict = collections.defaultdict(int)\n",
    "\n",
    "def create_shingles(doc, shingle_dict, size=2):\n",
    "    \n",
    "    key = len(shingle_dict.keys())\n",
    "    tokens = doc.split(\" \")\n",
    "    res = []\n",
    "    \n",
    "    for i in range(len(tokens) - size):\n",
    "        \n",
    "        t = tokens[i: i+size]\n",
    "        \n",
    "        t_str = \" \".join(t)\n",
    "        if not t_str in shingle_dict:\n",
    "            shingle_dict[t_str] = key\n",
    "            key += 1\n",
    "            \n",
    "        res.append(t)\n",
    "        \n",
    "    return res, shingle_dict\n",
    "\n",
    "document_shingles = []\n",
    "for doc in documents:\n",
    "    shingles, shingle_dict = create_shingles(doc, shingle_dict, n)\n",
    "    document_shingles.append(shingles)\n",
    "    \n",
    "print(shingle_dict)"
   ]
  },
  {
   "cell_type": "markdown",
   "metadata": {},
   "source": [
    "If we look at the original strings, and only use `unigrams` we find that the `jaccard similarity` to be:"
   ]
  },
  {
   "cell_type": "code",
   "execution_count": 449,
   "metadata": {},
   "outputs": [
    {
     "name": "stdout",
     "output_type": "stream",
     "text": [
      "jaccard similarity:  0.93\n"
     ]
    }
   ],
   "source": [
    "print(f\"jaccard similarity: {jaccard(s1, s2): 0.2f}\")"
   ]
  },
  {
   "cell_type": "markdown",
   "metadata": {},
   "source": [
    "If we do it on `bigrams` we get:"
   ]
  },
  {
   "cell_type": "code",
   "execution_count": 450,
   "metadata": {},
   "outputs": [
    {
     "name": "stdout",
     "output_type": "stream",
     "text": [
      "jaccard similarity:  0.56\n"
     ]
    }
   ],
   "source": [
    "a, b = [set([\" \".join(x) for x in document]) for document in document_shingles]\n",
    "\n",
    "print(f\"jaccard similarity: {len(a & b) /  len(a | b): 0.2f}\")"
   ]
  },
  {
   "cell_type": "markdown",
   "metadata": {},
   "source": [
    "#### Build a characteristics matrix\n",
    "For this to work, we first build a sparse matrix representation ($m_{I\\times J}$) of our sets, where the rows represent every possible element/shingle/thing, and the columns represent each set. The element in the matrix are binary values indicating whether element $i$ is in set $j$. "
   ]
  },
  {
   "cell_type": "code",
   "execution_count": 451,
   "metadata": {},
   "outputs": [],
   "source": [
    "# v = shingle_dict.values()\n",
    "tup = sorted([(x, shingle_dict[x]) for x in shingle_dict.keys() if type(x) == str], key=lambda x: x[1])\n",
    "k = list(map(lambda x: x[0], tup))\n",
    "v = list(map(lambda x: x[1], tup))"
   ]
  },
  {
   "cell_type": "code",
   "execution_count": 452,
   "metadata": {},
   "outputs": [
    {
     "data": {
      "image/png": "[encoded data removed]",
      "text/plain": [
       "<Figure size 1440x864 with 1 Axes>"
      ]
     },
     "metadata": {},
     "output_type": "display_data"
    }
   ],
   "source": [
    "import scipy as sp\n",
    "import scipy.sparse\n",
    "import matplotlib.pyplot as plt\n",
    "plt.style.use(\"seaborn\")\n",
    "\n",
    "characteristic = sp.sparse.lil_matrix((len(shingle_dict.keys()), len(documents)), dtype=np.int16)\n",
    "for j, document in enumerate(document_shingles):\n",
    "    for shingle in document:\n",
    "        shingle_str = \" \".join(shingle)\n",
    "        i = shingle_dict[shingle_str]\n",
    "        characteristic[i, j] = 1\n",
    "\n",
    "tup = sorted([(x, shingle_dict[x]) for x in shingle_dict.keys() if type(x) == str], key=lambda x: x[1])\n",
    "k = list(map(lambda x: x[0], tup))\n",
    "v = list(map(lambda x: x[1], tup))\n",
    "\n",
    "x_ticks = list(shingle_dict)\n",
    "# this is an inverted view of the matrix\n",
    "fig = plt.figure(figsize=(20, 12))\n",
    "plt.spy(characteristic.T)\n",
    "plt.xticks(v, k, rotation=90, fontsize=20);"
   ]
  },
  {
   "cell_type": "markdown",
   "metadata": {},
   "source": [
    "#### Estimating the jaccard\n",
    "We can estimate the `jaccard similarity` by permuting the rows of the `characteristic matrix`. "
   ]
  },
  {
   "cell_type": "code",
   "execution_count": 498,
   "metadata": {},
   "outputs": [
    {
     "name": "stdout",
     "output_type": "stream",
     "text": [
      "jaccard estimate: 0.55 with 500 iterations\n",
      "CPU times: user 65.7 ms, sys: 3.22 ms, total: 68.9 ms\n",
      "Wall time: 66.4 ms\n"
     ]
    }
   ],
   "source": [
    "%%time\n",
    "res, n = [], 500\n",
    "permuted_rows = np.arange(characteristic.shape[0])\n",
    "\n",
    "for _ in range(n):\n",
    "    np.random.shuffle(permuted_rows)\n",
    "    arr = characteristic[permuted_rows, :]\n",
    "    indices = np.argmax(arr.toarray(), axis=0)\n",
    "    res.append(indices[0] == indices[1])\n",
    "    \n",
    "print(f\"jaccard estimate: {np.sum(res) / n:0.2f} with {n} iterations\")"
   ]
  },
  {
   "cell_type": "markdown",
   "metadata": {},
   "source": [
    "Unfortunately, shuffling a list of indices is inneficient, so we're going to perform a little trick. This is when `minhash` comes into play.\n",
    "\n",
    "Some `minhash function` $h(C)$ = the number of the first (in the permuted order) row in which column C has 1."
   ]
  },
  {
   "cell_type": "markdown",
   "metadata": {},
   "source": [
    "Start by generating $k$ random hash functions"
   ]
  },
  {
   "cell_type": "code",
   "execution_count": 490,
   "metadata": {},
   "outputs": [],
   "source": [
    "import hashlib\n",
    "\n",
    "n_hash_funcs = 100\n",
    "hash_funcs = []\n",
    "\n",
    "n_keys = len(shingle_dict.keys()) # should actually be a prime number\n",
    "for _ in range(n_hash_funcs):\n",
    "    f = lambda x: (np.random.randint(0, n_keys) * x + np.random.randint(0, n_keys)) % n_keys\n",
    "    hash_funcs.append(f)"
   ]
  },
  {
   "cell_type": "markdown",
   "metadata": {},
   "source": [
    "this approach doesn't work very well"
   ]
  },
  {
   "cell_type": "code",
   "execution_count": 494,
   "metadata": {},
   "outputs": [
    {
     "name": "stdout",
     "output_type": "stream",
     "text": [
      "jaccard estiamte: 0.11\n",
      "CPU times: user 7.42 ms, sys: 275 µs, total: 7.7 ms\n",
      "Wall time: 7.51 ms\n"
     ]
    }
   ],
   "source": [
    "%%time \n",
    "\n",
    "signature_matrix = np.zeros((n_hash_funcs, characteristic.shape[1]))\n",
    "signature_matrix[:] = np.inf\n",
    "\n",
    "for c in range(characteristic.shape[1]):\n",
    "    for i in range(characteristic.shape[0]):\n",
    "        if characteristic[i, c] == 1:\n",
    "            for j in range(n_hash_funcs):\n",
    "                f = hash_funcs[j]\n",
    "                h = f(i)\n",
    "                counters[j, c] = min(h, signature_matrix[j, c])\n",
    "                    \n",
    "print(f\"jaccard estiamte: {np.sum(counters[:, 0] == counters[:, 1]) / n_hash_funcs}\")"
   ]
  },
  {
   "cell_type": "code",
   "execution_count": 491,
   "metadata": {},
   "outputs": [
    {
     "name": "stdout",
     "output_type": "stream",
     "text": [
      "[0, 0, 2, 3, 1, 5, 1, 3, 7]\n",
      "[0, 1, 7, 0, 7, 4, 4, 8, 7]\n",
      "[4, 3, 7, 8, 3, 1, 2, 2, 7]\n",
      "[3, 1, 6, 3, 4, 0, 1, 3, 7]\n",
      "[6, 7, 7, 2, 8, 5, 3, 6, 8]\n",
      "[8, 4, 3, 2, 1, 4, 3, 5, 8]\n",
      "[8, 4, 1, 4, 3, 3, 8, 8, 1]\n",
      "[4, 6, 4, 6, 6, 3, 7, 7, 8]\n",
      "[2, 2, 3, 5, 1, 5, 8, 5, 7]\n",
      "[0, 2, 7, 6, 2, 6, 1, 2, 0]\n",
      "[7, 6, 1, 7, 2, 6, 2, 7, 2]\n",
      "[6, 3, 2, 7, 3, 5, 1, 3, 0]\n",
      "[3, 8, 0, 4, 5, 6, 5, 8, 5]\n",
      "[1, 1, 4, 8, 8, 1, 0, 0, 6]\n",
      "[4, 7, 8, 4, 2, 4, 5, 4, 2]\n",
      "[3, 7, 8, 6, 1, 3, 6, 5, 2]\n",
      "[0, 6, 0, 1, 6, 4, 8, 3, 6]\n",
      "[1, 7, 4, 2, 6, 6, 0, 4, 8]\n",
      "[2, 5, 6, 3, 4, 5, 6, 4, 4]\n",
      "[1, 8, 3, 3, 5, 7, 4, 2, 5]\n",
      "[4, 4, 6, 5, 7, 2, 5, 6, 3]\n",
      "[7, 4, 1, 5, 5, 8, 4, 6, 5]\n",
      "[6, 5, 6, 7, 4, 5, 8, 8, 3]\n",
      "[6, 5, 1, 6, 2, 5, 5, 3, 0]\n",
      "[1, 0, 7, 0, 7, 5, 6, 4, 7]\n",
      "[8, 5, 0, 5, 7, 1, 2, 3, 6]\n",
      "[6, 2, 4, 4, 7, 0, 7, 2, 3]\n",
      "[7, 0, 8, 1, 0, 3, 8, 1, 1]\n",
      "[4, 3, 0, 4, 8, 7, 0, 7, 2]\n",
      "[4, 1, 0, 1, 7, 5, 8, 0, 7]\n",
      "[5, 6, 7, 1, 7, 3, 8, 4, 3]\n",
      "[6, 0, 1, 3, 1, 0, 2, 7, 0]\n",
      "[5, 1, 4, 4, 4, 2, 1, 7, 5]\n",
      "[4, 6, 7, 2, 7, 0, 0, 4, 4]\n",
      "[6, 3, 3, 5, 0, 2, 6, 1, 3]\n",
      "[4, 7, 3, 6, 4, 7, 3, 1, 7]\n",
      "[2, 4, 4, 2, 5, 1, 7, 5, 8]\n",
      "[4, 6, 5, 7, 2, 3, 6, 7, 8]\n",
      "[7, 5, 4, 2, 1, 7, 0, 1, 4]\n",
      "[4, 2, 4, 6, 1, 5, 3, 3, 2]\n",
      "[1, 6, 6, 3, 2, 5, 5, 7, 0]\n",
      "[8, 8, 6, 1, 8, 6, 1, 2, 7]\n",
      "[3, 0, 6, 6, 7, 3, 8, 4, 4]\n",
      "[0, 6, 8, 4, 6, 2, 3, 3, 8]\n",
      "[2, 2, 5, 6, 8, 5, 4, 1, 2]\n",
      "[6, 1, 0, 0, 1, 1, 7, 4, 8]\n",
      "[8, 1, 6, 2, 0, 7, 2, 8, 1]\n",
      "[3, 4, 7, 6, 3, 8, 8, 6, 4]\n",
      "[3, 2, 3, 6, 4, 6, 5, 0, 4]\n",
      "[8, 2, 8, 0, 4, 7, 3, 2, 1]\n",
      "[0, 3, 0, 3, 1, 2, 1, 6, 6]\n",
      "[5, 8, 8, 8, 0, 4, 2, 4, 0]\n",
      "[7, 3, 1, 1, 7, 7, 1, 0, 6]\n",
      "[6, 8, 5, 0, 5, 2, 6, 3, 7]\n",
      "[3, 6, 3, 3, 7, 3, 7, 6, 6]\n",
      "[2, 3, 0, 2, 3, 7, 2, 8, 3]\n",
      "[6, 5, 1, 8, 7, 4, 5, 8, 2]\n",
      "[2, 7, 3, 5, 4, 7, 0, 7, 4]\n",
      "[1, 2, 2, 6, 0, 2, 3, 6, 7]\n",
      "[3, 3, 8, 0, 5, 7, 6, 7, 2]\n",
      "[2, 6, 0, 8, 6, 5, 7, 2, 3]\n",
      "[5, 2, 2, 1, 8, 6, 1, 2, 2]\n",
      "[4, 6, 0, 4, 0, 8, 2, 0, 0]\n",
      "[4, 7, 0, 3, 0, 5, 8, 4, 3]\n",
      "[4, 1, 7, 8, 0, 0, 3, 2, 8]\n",
      "[4, 5, 4, 0, 8, 1, 8, 4, 5]\n",
      "[4, 2, 2, 6, 8, 4, 4, 6, 6]\n",
      "[4, 8, 0, 8, 3, 2, 6, 4, 4]\n",
      "[4, 0, 6, 8, 5, 7, 2, 4, 4]\n",
      "[7, 6, 6, 8, 1, 2, 1, 2, 3]\n",
      "[2, 5, 6, 6, 3, 2, 7, 0, 5]\n",
      "[3, 8, 0, 7, 8, 0, 6, 3, 5]\n",
      "[7, 7, 4, 2, 2, 4, 2, 2, 1]\n",
      "[7, 6, 1, 4, 7, 1, 4, 0, 4]\n",
      "[1, 0, 4, 8, 8, 8, 8, 3, 6]\n",
      "[3, 1, 7, 8, 6, 4, 6, 8, 3]\n",
      "[8, 8, 1, 6, 7, 6, 7, 4, 7]\n",
      "[7, 6, 4, 3, 6, 6, 7, 3, 3]\n",
      "[5, 1, 3, 0, 0, 1, 5, 1, 5]\n",
      "[8, 8, 8, 0, 1, 0, 6, 8, 8]\n",
      "[2, 6, 6, 7, 2, 7, 6, 1, 8]\n",
      "[7, 3, 0, 4, 6, 2, 7, 3, 7]\n",
      "[3, 0, 0, 8, 6, 0, 1, 0, 6]\n",
      "[0, 1, 5, 3, 4, 3, 8, 4, 1]\n",
      "[8, 2, 1, 4, 3, 0, 0, 3, 4]\n",
      "[1, 8, 1, 4, 0, 5, 4, 0, 7]\n",
      "[0, 6, 3, 3, 3, 4, 0, 4, 6]\n",
      "[0, 0, 8, 4, 8, 7, 1, 2, 4]\n",
      "[3, 8, 1, 8, 0, 5, 8, 4, 5]\n",
      "[7, 6, 7, 7, 5, 7, 0, 1, 7]\n",
      "[4, 8, 8, 5, 0, 0, 8, 4, 7]\n",
      "[6, 1, 7, 8, 1, 3, 1, 0, 1]\n",
      "[8, 7, 3, 0, 1, 5, 1, 5, 2]\n",
      "[2, 2, 0, 8, 7, 8, 6, 3, 0]\n",
      "[0, 7, 3, 8, 6, 4, 6, 3, 6]\n",
      "[1, 5, 8, 2, 3, 2, 3, 5, 1]\n",
      "[4, 1, 1, 1, 7, 5, 6, 1, 8]\n",
      "[4, 0, 5, 2, 2, 7, 5, 5, 2]\n",
      "[4, 2, 4, 2, 1, 5, 5, 6, 5]\n",
      "[7, 5, 2, 1, 3, 1, 5, 8, 4]\n",
      "jaccard estiamte: 0.13\n",
      "CPU times: user 7.87 ms, sys: 1.93 ms, total: 9.8 ms\n",
      "Wall time: 8.04 ms\n"
     ]
    }
   ],
   "source": [
    "%%time \n",
    "\n",
    "### minhashing\n",
    "# each minhashin hash function is associated with a permutation of the row indices — just imagie\n",
    "# h(c) = the number of the first row (in permuted order) in which column C is 1\n",
    "# use several independent hash functions to create a signature for each column (100 or 200)\n",
    "# the signatures can be displayed in another matrix — the signature matrix — in which the columns represent the\n",
    "# sets and the rows represent the minhash values, in order for that column\n",
    "\n",
    "signature_matrix = np.zeros((n_hash_funcs, characteristic.shape[1]))\n",
    "signature_matrix[:] = np.inf\n",
    "\n",
    "n_rows, n_cols = characteristic.shape\n",
    "rows = np.arange(n_rows)\n",
    "\n",
    "for j, f in enumerate(hash_funcs):\n",
    "    permuted_rows = map(f, rows)\n",
    "    print(list(permuted_rows))\n",
    "    for i, idx in enumerate(permuted_rows): # iterate over the permuted rows\n",
    "        for c in range(n_cols): \n",
    "            if characteristic[idx, c] == 1:\n",
    "                signature_matrix[j, c] = i\n",
    "                continue\n",
    "                \n",
    "print(f\"jaccard estiamte: {np.sum(counters[:, 0] == counters[:, 1]) / n_hash_funcs}\")"
   ]
  },
  {
   "cell_type": "markdown",
   "metadata": {},
   "source": [
    "### Resources:\n",
    "* [Mining Massing Datasets - Chapter 3 Finding Similar Items](http://mmds.org/)\n",
    "* [Minhash tutorial](http://mccormickml.com/2015/06/12/minhash-tutorial-with-python-code/)\n",
    "* [Minhashing for dummies](https://matthewcasperson.blogspot.com/2013/11/minhash-for-dummies.html)"
   ]
  }
 ],
 "metadata": {
  "kernelspec": {
   "display_name": "Python 3",
   "language": "python",
   "name": "python3"
  },
  "language_info": {
   "codemirror_mode": {
    "name": "ipython",
    "version": 3
   },
   "file_extension": ".py",
   "mimetype": "text/x-python",
   "name": "python",
   "nbconvert_exporter": "python",
   "pygments_lexer": "ipython3",
   "version": "3.7.3"
  }
 },
 "nbformat": 4,
 "nbformat_minor": 2
}
