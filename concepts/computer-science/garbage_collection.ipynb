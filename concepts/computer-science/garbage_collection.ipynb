{
 "cells": [
  {
   "cell_type": "markdown",
   "metadata": {},
   "source": [
    "# Garbage Collection\n",
    "It's a form of `memory management` that tries to free up space by getting rid of data objects that won't later be accessed by a program.\n",
    "\n",
    "It frees the user from having to do `manual memory management`.\n",
    "\n",
    "There are multiple forms of `collectors`.\n",
    "\n",
    "### Reference Counting\n",
    "\n",
    "Uses a [heap](data-structures/heap.ipynb)"
   ]
  },
  {
   "cell_type": "markdown",
   "metadata": {},
   "source": [
    "### Resources:\n",
    "* [Wikipedia — Garbage Collection](https://en.m.wikipedia.org/wiki/Garbage_collection_(computer_science))\n",
    "* [Wikibooks — Intro to Programming Languages](https://en.wikibooks.org/wiki/Introduction_to_Programming_Languages/Garbage_Collection)"
   ]
  }
 ],
 "metadata": {
  "kernelspec": {
   "display_name": "Python 3",
   "language": "python",
   "name": "python3"
  },
  "language_info": {
   "codemirror_mode": {
    "name": "ipython",
    "version": 3
   },
   "file_extension": ".py",
   "mimetype": "text/x-python",
   "name": "python",
   "nbconvert_exporter": "python",
   "pygments_lexer": "ipython3",
   "version": "3.7.3"
  }
 },
 "nbformat": 4,
 "nbformat_minor": 2
}
