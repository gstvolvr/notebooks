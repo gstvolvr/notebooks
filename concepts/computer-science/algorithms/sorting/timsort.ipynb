{
 "cells": [
  {
   "cell_type": "markdown",
   "metadata": {},
   "source": [
    "## Timsort\n",
    "It's based on `insertion sort` and `merge sort`. First, sort all small pieces using insertion sort, then merge the pieces using merge of `merge sort`.\n",
    "Space complexity:\n",
    "* worst: $O()$\n",
    "* average: $O()$\n",
    "* best: $O()$"
   ]
  }
 ],
 "metadata": {
  "kernelspec": {
   "display_name": "Python 3",
   "language": "python",
   "name": "python3"
  },
  "language_info": {
   "codemirror_mode": {
    "name": "ipython",
    "version": 3
   },
   "file_extension": ".py",
   "mimetype": "text/x-python",
   "name": "python",
   "nbconvert_exporter": "python",
   "pygments_lexer": "ipython3",
   "version": "3.7.3"
  }
 },
 "nbformat": 4,
 "nbformat_minor": 2
}
