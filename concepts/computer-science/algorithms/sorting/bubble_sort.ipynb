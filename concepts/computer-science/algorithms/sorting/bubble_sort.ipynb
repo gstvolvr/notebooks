{
 "cells": [
  {
   "cell_type": "markdown",
   "metadata": {},
   "source": [
    "## Bubble Sort\n",
    "`Time complexity`:\n",
    "* worst: $O(n^2)$\n",
    "* average: $O(n^2)$\n",
    "* best: $O(n)$"
   ]
  },
  {
   "cell_type": "code",
   "execution_count": null,
   "metadata": {},
   "outputs": [],
   "source": [
    "def bubble_sort(arr):\n",
    "\n",
    "    num_swaps = None\n",
    "    passes = 1\n",
    "    \n",
    "    while True:\n",
    "        num_swaps = 0\n",
    "        for i in range(len(arr)-1):\n",
    "            if arr[i] > arr[i+1]:\n",
    "                arr[i], arr[i+1] = arr[i+1], arr[i]\n",
    "                \n",
    "                if num_swaps:\n",
    "                    num_swaps += 1\n",
    "                else:\n",
    "                    num_swaps = 1\n",
    "        passes += 1\n",
    "        if num_swaps == 0:\n",
    "            return arr\n",
    "        \n",
    "        print(f\"done in {passes} passes\")\n",
    "a = [5, 1, 4, 2, 8]\n",
    "bubble_sort(a)"
   ]
  },
  {
   "cell_type": "markdown",
   "metadata": {},
   "source": [
    "### Resources:\n",
    "* [Wikipedia — Bubbler Sort](https://en.wikipedia.org/wiki/Bubble_sort)"
   ]
  },
  {
   "cell_type": "code",
   "execution_count": null,
   "metadata": {},
   "outputs": [],
   "source": []
  }
 ],
 "metadata": {
  "kernelspec": {
   "display_name": "Python 3",
   "language": "python",
   "name": "python3"
  },
  "language_info": {
   "codemirror_mode": {
    "name": "ipython",
    "version": 3
   },
   "file_extension": ".py",
   "mimetype": "text/x-python",
   "name": "python",
   "nbconvert_exporter": "python",
   "pygments_lexer": "ipython3",
   "version": "3.7.3"
  }
 },
 "nbformat": 4,
 "nbformat_minor": 2
}
