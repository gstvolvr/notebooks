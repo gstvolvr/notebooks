{
 "cells": [
  {
   "cell_type": "markdown",
   "metadata": {},
   "source": [
    "# Merge Sort\n",
    "\n",
    "`Time complexity`:\n",
    "* worst: $O(n^2)$\n",
    "* average: $O(n~log n)$\n",
    "* best: $O(n~log n)$"
   ]
  },
  {
   "cell_type": "code",
   "execution_count": 13,
   "metadata": {},
   "outputs": [],
   "source": [
    "def merge_sort(arr):\n",
    "    \n",
    "    def _merge_sort(arr, tmp, i, j):\n",
    "        if i >= i :\n",
    "            return\n",
    "        \n",
    "        \n",
    "\n",
    "#         if len(arr) == 2:\n",
    "#             if arr[0] > arr[1]:\n",
    "#                 return arr[::-1]\n",
    "#             else:\n",
    "#                 return arr\n",
    "\n",
    "        mid = (i + j) // 2\n",
    "\n",
    "        left = _merge_sort(arr, tmp, i, mid)\n",
    "        right = _merge_sort(arr, tmp, mid, j)\n",
    "\n",
    "        return _merge_halves(arr, tmp, i, j)\n",
    "    \n",
    "    def _merge_halves(arr, i, j):\n",
    "        left_end = \n",
    "        mid = (i + j) / 2\n",
    "        \n",
    "        left_index = \n",
    "        \n",
    "    \n",
    "    _merge_sort(arr, [], 0, len(arr))\n",
    "\n",
    "arr = [10, 5, 2, 7, 49, 12, 1, 8, 6, 11, 3]\n",
    "merge_sort(arr)"
   ]
  },
  {
   "cell_type": "markdown",
   "metadata": {},
   "source": [
    "### Reources:\n",
    "* [HackerRank — MergeSort](https://www.youtube.com/watch?v=KF2j-9iSf4Q)"
   ]
  }
 ],
 "metadata": {
  "kernelspec": {
   "display_name": "Python 3",
   "language": "python",
   "name": "python3"
  },
  "language_info": {
   "codemirror_mode": {
    "name": "ipython",
    "version": 3
   },
   "file_extension": ".py",
   "mimetype": "text/x-python",
   "name": "python",
   "nbconvert_exporter": "python",
   "pygments_lexer": "ipython3",
   "version": "3.7.3"
  }
 },
 "nbformat": 4,
 "nbformat_minor": 2
}
