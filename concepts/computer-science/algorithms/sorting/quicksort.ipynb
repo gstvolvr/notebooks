{
 "cells": [
  {
   "cell_type": "markdown",
   "metadata": {},
   "source": [
    "# Quicksort\n",
    "A divide and conquer algorithm.\n",
    "\n",
    "\n",
    "`Time complexity`:\n",
    "* worst: $O(n^2)$\n",
    "* average: $O(n~log n)$\n",
    "* best: $O(n~log n)$"
   ]
  },
  {
   "cell_type": "code",
   "execution_count": 1,
   "metadata": {},
   "outputs": [
    {
     "name": "stdout",
     "output_type": "stream",
     "text": [
      "[15, 3, 2, 1, 9, 5, 7, 8, 6]\n",
      "\n",
      "quicksort\n"
     ]
    },
    {
     "data": {
      "text/plain": [
       "[1, 2, 3, 5, 6, 7, 8, 9, 15]"
      ]
     },
     "execution_count": 1,
     "metadata": {},
     "output_type": "execute_result"
    }
   ],
   "source": [
    "import matplotlib.pyplot as plt\n",
    "import numpy as np\n",
    "\n",
    "def quicksort(arr):\n",
    "    \n",
    "    def _quicksort(arr, left, right):\n",
    "                \n",
    "        if left >= right:\n",
    "            return\n",
    "        \n",
    "        pivot = arr[(left + right) // 2]\n",
    "        index = _partition(arr, left, right, pivot)\n",
    "        \n",
    "        _quicksort(arr, left, index-1)\n",
    "        _quicksort(arr, index, right)\n",
    "        \n",
    "        return arr\n",
    "    \n",
    "    def _partition(arr, left, right, pivot):\n",
    "        while left <= right:\n",
    "            while arr[left] < pivot:\n",
    "                left += 1\n",
    "            while arr[right] > pivot:\n",
    "                right -= 1\n",
    "            \n",
    "            if left <= right:\n",
    "                arr[left], arr[right] = arr[right], arr[left]\n",
    "                left += 1\n",
    "                right -= 1\n",
    "        return left\n",
    "    \n",
    "    return _quicksort(arr, 0, len(arr)-1)\n",
    "   \n",
    "ex1 = [15, 3, 2, 1, 9, 5, 7 , 8, 6]\n",
    "print(ex1)\n",
    "print(\"\\nquicksort\")\n",
    "quicksort(ex1)"
   ]
  },
  {
   "cell_type": "markdown",
   "metadata": {},
   "source": [
    "### Resources\n",
    "* [Wikipedia — Quicksort](https://en.wikipedia.org/wiki/Quicksort)"
   ]
  },
  {
   "cell_type": "code",
   "execution_count": null,
   "metadata": {},
   "outputs": [],
   "source": []
  }
 ],
 "metadata": {
  "kernelspec": {
   "display_name": "Python 3",
   "language": "python",
   "name": "python3"
  },
  "language_info": {
   "codemirror_mode": {
    "name": "ipython",
    "version": 3
   },
   "file_extension": ".py",
   "mimetype": "text/x-python",
   "name": "python",
   "nbconvert_exporter": "python",
   "pygments_lexer": "ipython3",
   "version": "3.7.3"
  }
 },
 "nbformat": 4,
 "nbformat_minor": 2
}
