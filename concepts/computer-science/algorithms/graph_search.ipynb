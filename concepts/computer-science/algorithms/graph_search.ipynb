{
 "cells": [
  {
   "cell_type": "markdown",
   "metadata": {},
   "source": [
    "# Graph Search\n",
    "A `graph` is a collection of nodes that can be directed or undirected. \n",
    "\n",
    "## Depth First Search\n",
    "Goes deep before going broad. \n",
    "\n",
    "Typically a recursive algorithm. Say we're looking for a specific node. We start off with a node like `S` and we ask the question, \"do you have a path to node `T`\"? `S` isn't sure and needs to ask it's neighbords. \n",
    "\n",
    "We go deep into a node before asking into any of the children, which could be pretty problamatic. "
   ]
  },
  {
   "cell_type": "code",
   "execution_count": null,
   "metadata": {},
   "outputs": [],
   "source": [
    "class Node():\n",
    "    \n",
    "    def __init__(self, val):\n",
    "        self.id = val\n",
    "\n",
    "class Graph():\n",
    "    \n",
    "    def __init__(self, i):\n",
    "        self.node_lookup = {}\n",
    "        self.adjacent = []\n",
    "    \n",
    "    def get_node(self, i):\n",
    "        pass\n",
    "    \n",
    "    def add_edge(self, source, destination):\n",
    "        s = get_node(source)\n",
    "        d = get_node(destination)\n",
    "        \n",
    "        s.adjacent.append(d)\n",
    "    \n",
    "    def has_path_dfs(source, destination):\n",
    "        s = get_node(source)\n",
    "        d = get_node(destination)\n",
    "        visited = set([])\n",
    "        \n",
    "        return _has_path_dfs(source, destination, visited)\n",
    "        \n",
    "    def _has_path_dfs(source, destination, visited):\n",
    "        if source in visited:\n",
    "            return False\n",
    "        visited.update([source])\n",
    "        \n",
    "        if source == destination:\n",
    "            return True\n",
    "        \n",
    "        for child in source.adjacent:\n",
    "            if _has_path_dfs(source, destination, visited):\n",
    "                return True\n",
    "        return False\n",
    "                \n",
    "    def has_path_bfs(source, destination):\n",
    "        next_to_visit = \n",
    "        visited = set([])\n",
    "        \n",
    "        return _has_path_dfs(source, destination, visited)       \n",
    "        \n",
    "        "
   ]
  },
  {
   "cell_type": "markdown",
   "metadata": {},
   "source": [
    "## Breadth First Search\n",
    "Goes broad before going deep.\n",
    "\n",
    "You want to use a `queue`"
   ]
  }
 ],
 "metadata": {
  "kernelspec": {
   "display_name": "Python 3",
   "language": "python",
   "name": "python3"
  },
  "language_info": {
   "codemirror_mode": {
    "name": "ipython",
    "version": 3
   },
   "file_extension": ".py",
   "mimetype": "text/x-python",
   "name": "python",
   "nbconvert_exporter": "python",
   "pygments_lexer": "ipython3",
   "version": "3.7.3"
  }
 },
 "nbformat": 4,
 "nbformat_minor": 2
}
