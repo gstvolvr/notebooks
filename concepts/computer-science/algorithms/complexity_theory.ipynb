{
 "cells": [
  {
   "cell_type": "markdown",
   "metadata": {},
   "source": [
    "# P &mdash; polynomial time\n",
    "Problems that can be solved by a reasonable fast program. It's called `P` since the amount of steps it takes to solve a problem is some `polynomial` function of it's size.  \n",
    "* multiplication\n",
    "* ordering a list\n",
    "* finding primes\n",
    "\n",
    "Where `polynomial` functions are thinkgs like $5X^2 + 25$, but not `exponential` functions like $2^X$"
   ]
  },
  {
   "cell_type": "markdown",
   "metadata": {},
   "source": [
    "# NP &mdash; non-deterministic polynomial time\n",
    "Checking the correct answer can be done in a reasonable amount of time. Kind of like sudoku.\n",
    "* vehicle routing\n",
    "* job scheduling \n",
    "* circuit design"
   ]
  },
  {
   "cell_type": "markdown",
   "metadata": {},
   "source": [
    "## P vs NP?\n",
    "Does being able to quickly recognize correct answers mean there's also a way to find them? Most people think that $P \\neq NP$ but it hasn't been proven."
   ]
  },
  {
   "cell_type": "markdown",
   "metadata": {},
   "source": [
    "# NP-Hard\n",
    "Checking the correct answer takes exponential time. What is the next best chess move?"
   ]
  }
 ],
 "metadata": {
  "kernelspec": {
   "display_name": "Python 3",
   "language": "python",
   "name": "python3"
  },
  "language_info": {
   "codemirror_mode": {
    "name": "ipython",
    "version": 3
   },
   "file_extension": ".py",
   "mimetype": "text/x-python",
   "name": "python",
   "nbconvert_exporter": "python",
   "pygments_lexer": "ipython3",
   "version": "3.7.3"
  }
 },
 "nbformat": 4,
 "nbformat_minor": 2
}
