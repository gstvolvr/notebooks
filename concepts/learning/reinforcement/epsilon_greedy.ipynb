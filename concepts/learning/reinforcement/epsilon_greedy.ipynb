{
 "cells": [
  {
   "cell_type": "markdown",
   "metadata": {},
   "source": [
    "# Epsilon Greedy\n",
    "It's a [multi armed bandit](reinforcement/multi_armed_bandit.ipynb) algorithm. It chooses between exploiting the <i>best</i>(highest probability of reward) option found so far, or exploring other options. It explores with probability $\\epsilon$, hence the name. "
   ]
  },
  {
   "cell_type": "code",
   "execution_count": 1,
   "metadata": {},
   "outputs": [],
   "source": [
    "## this code comes from the first reference mentioned below\n",
    "\n",
    "import numpy as np\n",
    "\n",
    "class EpsilonGreedy(object):\n",
    "    def __init__(self,n_arms,epsilon_decay=50):\n",
    "        self.counts = [0] * n  # example: number of views\n",
    "        self.values = [0.] * n # example: number of clicks / views\n",
    "        self.decay = epsilon_decay\n",
    "        self.n = n_arms\n",
    "\n",
    "    def choose_arm(self):\n",
    "        \"\"\"Choose an arm for testing\"\"\"\n",
    "        epsilon = self.get_epsilon()\n",
    "        if np.random.random() > epsilon:\n",
    "            # Exploit (use best arm)\n",
    "            return np.argmax(self.values)\n",
    "        else:\n",
    "            # Explore (test all arms)\n",
    "            return np.random.randint(self.n)\n",
    "\n",
    "    def update(self,arm,reward):\n",
    "        \"\"\"Update an arm with some reward value\"\"\" # Example: click = 1; no click = 0\n",
    "        self.counts[arm] = self.counts[arm] + 1\n",
    "        n = self.counts[arm]\n",
    "        value = self.values[arm]\n",
    "        # Running product\n",
    "        new_value = ((n - 1) / float(n)) * value + (1 / float(n)) * reward\n",
    "        self.values[arm] = new_value\n",
    "\n",
    "    def get_epsilon(self):\n",
    "        \"\"\"Produce epsilon\"\"\"\n",
    "        total = np.sum(arm_counts)\n",
    "        return float(self.decay) / (total + float(self.decay))"
   ]
  },
  {
   "cell_type": "markdown",
   "metadata": {},
   "source": [
    "This is how `epsilon` changes over time"
   ]
  },
  {
   "cell_type": "code",
   "execution_count": 15,
   "metadata": {},
   "outputs": [
    {
     "data": {
      "image/png": "[encoded data removed]",
      "text/plain": [
       "<Figure size 432x288 with 1 Axes>"
      ]
     },
     "metadata": {},
     "output_type": "display_data"
    }
   ],
   "source": [
    "import pandas as pd\n",
    "import matplotlib.pyplot as plt\n",
    "import seaborn as sns\n",
    "sns.set()\n",
    "df = pd.DataFrame({'x':range(0,500)})\n",
    "df[\"x\"] = df[\"x\"].apply(lambda x: 50. / (x + 50.))\n",
    "plt.plot(df); plt.ylabel(\"epsilon\"); plt.xlabel(\"amount of feedback\");"
   ]
  },
  {
   "cell_type": "code",
   "execution_count": 3,
   "metadata": {},
   "outputs": [],
   "source": []
  },
  {
   "cell_type": "markdown",
   "metadata": {},
   "source": [
    "### Resources:\n",
    "* [Y Hat — The beer bandit](http://blog.yhat.com/posts/the-beer-bandit.html)"
   ]
  }
 ],
 "metadata": {
  "kernelspec": {
   "display_name": "Python 3",
   "language": "python",
   "name": "python3"
  },
  "language_info": {
   "codemirror_mode": {
    "name": "ipython",
    "version": 3
   },
   "file_extension": ".py",
   "mimetype": "text/x-python",
   "name": "python",
   "nbconvert_exporter": "python",
   "pygments_lexer": "ipython3",
   "version": "3.7.4"
  }
 },
 "nbformat": 4,
 "nbformat_minor": 2
}
