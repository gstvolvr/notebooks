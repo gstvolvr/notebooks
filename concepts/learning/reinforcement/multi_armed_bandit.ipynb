{
 "cells": [
  {
   "cell_type": "markdown",
   "metadata": {},
   "source": [
    "# Multi-Armed Bandit Problem\n",
    "A problem where a limited set of resources must be distribuetd between choices in a way that maximizes the expected gain. This is a perfect example of the `exploration vs exploitation` dilemma. \n",
    "\n",
    "In the problem, each machine provides a random reward specific to that machine. "
   ]
  },
  {
   "cell_type": "markdown",
   "metadata": {},
   "source": [
    "### References:\n",
    "* [Wikipedia – Multi-armed bandit](https://en.wikipedia.org/wiki/Multi-armed_bandit)"
   ]
  },
  {
   "cell_type": "code",
   "execution_count": null,
   "metadata": {},
   "outputs": [],
   "source": []
  }
 ],
 "metadata": {
  "kernelspec": {
   "display_name": "Python 3",
   "language": "python",
   "name": "python3"
  },
  "language_info": {
   "codemirror_mode": {
    "name": "ipython",
    "version": 3
   },
   "file_extension": ".py",
   "mimetype": "text/x-python",
   "name": "python",
   "nbconvert_exporter": "python",
   "pygments_lexer": "ipython3",
   "version": "3.7.4"
  }
 },
 "nbformat": 4,
 "nbformat_minor": 2
}
