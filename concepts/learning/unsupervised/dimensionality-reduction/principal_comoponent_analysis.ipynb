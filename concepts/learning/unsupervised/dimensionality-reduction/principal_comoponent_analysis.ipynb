{
 "cells": [
  {
   "cell_type": "markdown",
   "metadata": {},
   "source": [
    "# Principal Component Analysis\n",
    "Linear dimensionality reduction technique that uses [singular value decomposition](../linear-algebra/singular_value_decomposition.ipynb). `PCA` can be defined as the orthogonal projection of data onto a lower dimensional linear space - the principal subspace - such that the variance of the projected data is maximized. "
   ]
  },
  {
   "cell_type": "code",
   "execution_count": 3,
   "metadata": {},
   "outputs": [],
   "source": [
    "import numpy as np\n",
    "from sklearn.decomposition import PCA\n",
    "import matplotlib.pyplot as plt"
   ]
  },
  {
   "cell_type": "code",
   "execution_count": 2,
   "metadata": {},
   "outputs": [
    {
     "name": "stdout",
     "output_type": "stream",
     "text": [
      "[[-1 -1]\n",
      " [-2 -1]\n",
      " [-3 -2]\n",
      " [ 1  1]\n",
      " [ 2  1]\n",
      " [ 3  2]]\n",
      "[0.99244289 0.00755711]\n",
      "[6.30061232 0.54980396]\n"
     ]
    }
   ],
   "source": [
    "pca = PCA(n_components=2)\n",
    "\n",
    "X = np.array([[-1, -1], [-2, -1], [-3, -2], [1, 1], [2, 1], [3, 2]])\n",
    "pca.fit(X)\n",
    "print(X)\n",
    "print(pca.explained_variance_ratio_)  \n",
    "print(pca.singular_values_)"
   ]
  },
  {
   "cell_type": "code",
   "execution_count": 8,
   "metadata": {},
   "outputs": [
    {
     "data": {
      "image/png": "[encoded data removed]",
      "text/plain": [
       "<Figure size 432x288 with 1 Axes>"
      ]
     },
     "metadata": {
      "needs_background": "light"
     },
     "output_type": "display_data"
    }
   ],
   "source": [
    "plt.scatter(x=X[:, 0], y=X[:, 1]);\n",
    "# plt.plot(pca.components_)"
   ]
  },
  {
   "cell_type": "code",
   "execution_count": 23,
   "metadata": {},
   "outputs": [
    {
     "data": {
      "text/plain": [
       "array([[ 0.  ,  0.  ,  0.  ,  0.  ,  0.  ,  0.  ],\n",
       "       [ 0.  ,  0.25,  0.25,  0.  , -0.25, -0.25],\n",
       "       [ 0.  ,  0.25,  0.25,  0.  , -0.25, -0.25],\n",
       "       [ 0.  ,  0.  ,  0.  ,  0.  ,  0.  ,  0.  ],\n",
       "       [ 0.  , -0.25, -0.25,  0.  ,  0.25,  0.25],\n",
       "       [ 0.  , -0.25, -0.25,  0.  ,  0.25,  0.25]])"
      ]
     },
     "execution_count": 23,
     "metadata": {},
     "output_type": "execute_result"
    }
   ],
   "source": [
    "N = X.shape[1]\n",
    "mu = np.mean(X, axis=1).reshape(-1, 1)\n",
    "\n",
    "# cov = \n",
    "# for i in range(N):\n",
    "#     print((X[i] - mu).dot((X[i] - mu).T))\n",
    "(X - mu).dot((X - mu).T) / X.shape[1]"
   ]
  },
  {
   "cell_type": "code",
   "execution_count": 17,
   "metadata": {},
   "outputs": [
    {
     "data": {
      "text/plain": [
       "array([[ 0. ,  0. ,  0. ,  0. ,  0. ,  0. ],\n",
       "       [ 0. ,  0.5,  0.5,  0. , -0.5, -0.5],\n",
       "       [ 0. ,  0.5,  0.5,  0. , -0.5, -0.5],\n",
       "       [ 0. ,  0. ,  0. ,  0. ,  0. ,  0. ],\n",
       "       [ 0. , -0.5, -0.5,  0. ,  0.5,  0.5],\n",
       "       [ 0. , -0.5, -0.5,  0. ,  0.5,  0.5]])"
      ]
     },
     "execution_count": 17,
     "metadata": {},
     "output_type": "execute_result"
    }
   ],
   "source": [
    "np.cov(X)"
   ]
  },
  {
   "cell_type": "code",
   "execution_count": null,
   "metadata": {},
   "outputs": [],
   "source": [
    "# def pca(X):\n",
    "#     pass\n",
    "#     return"
   ]
  },
  {
   "cell_type": "markdown",
   "metadata": {},
   "source": [
    "# Resources:\n",
    "* [PRML — Chapter 12](../../../books/pattern-recognition-and-ml/chapters/chapter_12.ipynb)"
   ]
  }
 ],
 "metadata": {
  "kernelspec": {
   "display_name": "Python 3",
   "language": "python",
   "name": "python3"
  },
  "language_info": {
   "codemirror_mode": {
    "name": "ipython",
    "version": 3
   },
   "file_extension": ".py",
   "mimetype": "text/x-python",
   "name": "python",
   "nbconvert_exporter": "python",
   "pygments_lexer": "ipython3",
   "version": "3.7.4"
  }
 },
 "nbformat": 4,
 "nbformat_minor": 2
}
