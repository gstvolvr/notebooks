{
 "cells": [
  {
   "cell_type": "markdown",
   "metadata": {},
   "source": [
    "# Random Projection\n",
    "Generates random directions, say $P^T_x$, and projects data into those directions. We start off with $N$ dimensions, and we're trying to project down to $M$ dimensions, where $M << N$.\n",
    "\n",
    "This is works great if the next things you're using the data for is some type of classification. \n",
    "\n",
    "##### Why would project data into random directions help with classification?\n",
    "\n",
    "It mantains some of the information from these other dimensions, and even though there's fewer in total, they're all kind of mixed together, and can still contain the signal — i.e. it manages to pick up some of the correlations between variables. So, we end up dealing with the `curse of dimensionality` problem, which is what we were trying to solve in the first place. \n",
    "\n",
    "Generally, the $m$ that we project down to will be larger than what we would get from something like `PCA`.\n",
    "\n",
    "##### What is the big advantage of `random projection` over other methods?\n",
    "It's fast."
   ]
  },
  {
   "cell_type": "markdown",
   "metadata": {},
   "source": [
    "#### Gaussian Random Projection"
   ]
  },
  {
   "cell_type": "code",
   "execution_count": 3,
   "metadata": {},
   "outputs": [
    {
     "name": "stdout",
     "output_type": "stream",
     "text": [
      "(100, 10000) => (100, 3947)\n"
     ]
    }
   ],
   "source": [
    "from sklearn import random_projection \n",
    "import numpy as np\n",
    "\n",
    "X = np.random.rand(100, 10000)\n",
    "transformer = random_projection.GaussianRandomProjection()\n",
    "X_new = transformer.fit_transform(X)\n",
    "print(f\"{X.shape} => {X_new.shape}\")"
   ]
  },
  {
   "cell_type": "markdown",
   "metadata": {},
   "source": [
    "### Resources:\n",
    "* [CS7646 — Machine Learning](https://courses.edx.org/courses/course-v1:GTx+CS7641+2T2018/courseware/1dce31c07f504efd91262cd046776ee2/bef73a144cc440f3bf47b53d7ce3ada5/14?activate_block_id=block-v1%3AGTx%2BCS7641%2B2T2018%2Btype%40vertical%2Bblock%404719064a6fa74e368019d01e4f8fb060)\n",
    "* [sklearn — Random Projection](https://scikit-learn.org/stable/modules/random_projection.html)"
   ]
  },
  {
   "cell_type": "code",
   "execution_count": null,
   "metadata": {},
   "outputs": [],
   "source": []
  }
 ],
 "metadata": {
  "kernelspec": {
   "display_name": "Python 3",
   "language": "python",
   "name": "python3"
  },
  "language_info": {
   "codemirror_mode": {
    "name": "ipython",
    "version": 3
   },
   "file_extension": ".py",
   "mimetype": "text/x-python",
   "name": "python",
   "nbconvert_exporter": "python",
   "pygments_lexer": "ipython3",
   "version": "3.7.3"
  }
 },
 "nbformat": 4,
 "nbformat_minor": 2
}
