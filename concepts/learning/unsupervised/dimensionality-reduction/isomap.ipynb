{
 "cells": [
  {
   "cell_type": "markdown",
   "metadata": {},
   "source": [
    "# Isomap\n",
    "It's `nonlinear` dimensionality reduction technique that captures the `manifold structure`.\n",
    "\n",
    "The `manifold structure` is a low dimensional structure for high dimensional data. \n",
    "\n",
    "The algo:\n",
    "* Given $m$ data points ${x^1, x^2, \\dots, x^m} \\in \\mathbb{R}^n$\n",
    "* Step 1: build a `weighted graph` $A$ using `nearest neighbors`, and compute the pairwise shortest distance matrix $D$\n",
    "* Step 2: Use a centering matrix $H = I - \\frac{1}{m}11^T$ to get\n",
    "\n",
    "\n",
    "$$C = -\\frac{1}{2m}H(D)^2H$$\n",
    "\n",
    "\n",
    "* Step 3: compute the leading `eigenvectors` $w^1, w^2, \\dots$ and `eigenvalues` $\\lambda_1, \\lambda_2, \\dots$ of C\n",
    "\n",
    "$$Z^T = (w^1, w^2, \\dots)\n",
    "\\begin{pmatrix}\\lambda_1^{-\\frac{1}{2}}&&\\\\&\\lambda_2^{-\\frac{1}{2}}&\\\\&&\\ddots\\end{pmatrix}$$"
   ]
  },
  {
   "cell_type": "markdown",
   "metadata": {},
   "source": [
    "### Resources:\n",
    "* [ISyE 6740 Computational Data Analytics — Nonlinear Dimensionality Reduction](https://courses.edx.org/courses/course-v1:GTx+CSE_ISYE6740+2T2019/courseware/a0fee0cd685f40ccb615031edcb38bfc/cb6839a0ab6845c6ae53df86bec3eca7/1?activate_block_id=block-v1%3AGTx%2BCSE_ISYE6740%2B2T2019%2Btype%40vertical%2Bblock%40e3118c3591794ef3bbc596af27b6b9e1)"
   ]
  }
 ],
 "metadata": {
  "kernelspec": {
   "display_name": "Python 3",
   "language": "python",
   "name": "python3"
  },
  "language_info": {
   "codemirror_mode": {
    "name": "ipython",
    "version": 3
   },
   "file_extension": ".py",
   "mimetype": "text/x-python",
   "name": "python",
   "nbconvert_exporter": "python",
   "pygments_lexer": "ipython3",
   "version": "3.7.4"
  }
 },
 "nbformat": 4,
 "nbformat_minor": 2
}
