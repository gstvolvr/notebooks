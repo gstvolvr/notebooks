{
 "cells": [
  {
   "cell_type": "markdown",
   "metadata": {},
   "source": [
    "# Hierarchical Clustering\n",
    "\n",
    "### Bottom up approach\n",
    "Assign each data point to it's own cluster, $g_1 = \\{x_1\\}, \\dots, g_m = \\{x_m\\}$\n",
    "\n",
    "And then do:\n",
    "1. find two clusters to merge: $i, j = argmin_{1\\le i, j\\le |G|} D(g_i, g_j)$\n",
    "2. Merge the two clusters to a new cluster: $g \\leftarrow g_i \\cup g_j$\n",
    "3. Removed the merged clusters: $G \\leftarrow G \\ g_i, G \\leftarrow G\\ g_j$\n",
    "4. Add new cluster: $G \\leftarrow G \\cup {g}$\n",
    "\n",
    "While $|G| \\gt 1$"
   ]
  }
 ],
 "metadata": {
  "kernelspec": {
   "display_name": "Python 3",
   "language": "python",
   "name": "python3"
  },
  "language_info": {
   "codemirror_mode": {
    "name": "ipython",
    "version": 3
   },
   "file_extension": ".py",
   "mimetype": "text/x-python",
   "name": "python",
   "nbconvert_exporter": "python",
   "pygments_lexer": "ipython3",
   "version": "3.7.4"
  }
 },
 "nbformat": 4,
 "nbformat_minor": 2
}
