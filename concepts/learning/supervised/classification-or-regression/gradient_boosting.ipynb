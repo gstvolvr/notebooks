{
 "cells": [
  {
   "cell_type": "markdown",
   "metadata": {},
   "source": [
    "# Gradient Boosting\n",
    "It combines a bunch of weak models in an `ensemble`. \n",
    "\n",
    "It starts with a single model, which is often naive, and starts a cycle:\n",
    "* First, we use the ensemble to make predictions in our data. To make a prediction, we add all the predictions from all models. \n",
    "* These predictions are used to calculate a loss function\n",
    "* Then we use the loss function to fit a new model that will be added to an ensemble and reduce the loss. We find the model parameters using [gradient descent](../optimization/gradient_descent.ipynb)\n",
    "* Then we add the new model to the ensemble, and do it over again!"
   ]
  },
  {
   "cell_type": "code",
   "execution_count": null,
   "metadata": {},
   "outputs": [],
   "source": [
    "from sklearn.metrics import mean_absolute_error\n",
    "from xgboost import XGBRegressor\n",
    "from sklearn.data import make_classification\n",
    "\n",
    "my_model = XGBRegressor()\n",
    "my_model.fit(X_train, y_train)"
   ]
  },
  {
   "cell_type": "markdown",
   "metadata": {},
   "source": [
    "### Resources: \n",
    "* [Wikipedia — Gradient Boosting](https://en.wikipedia.org/wiki/Gradient_boosting)\n",
    "* [Kaggle — XGBoost](https://www.kaggle.com/alexisbcook/xgboost)"
   ]
  },
  {
   "cell_type": "code",
   "execution_count": null,
   "metadata": {},
   "outputs": [],
   "source": []
  }
 ],
 "metadata": {
  "kernelspec": {
   "display_name": "Python 3",
   "language": "python",
   "name": "python3"
  },
  "language_info": {
   "codemirror_mode": {
    "name": "ipython",
    "version": 3
   },
   "file_extension": ".py",
   "mimetype": "text/x-python",
   "name": "python",
   "nbconvert_exporter": "python",
   "pygments_lexer": "ipython3",
   "version": "3.7.3"
  }
 },
 "nbformat": 4,
 "nbformat_minor": 2
}
