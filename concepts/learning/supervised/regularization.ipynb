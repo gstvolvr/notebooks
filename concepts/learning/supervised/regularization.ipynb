{
 "cells": [
  {
   "cell_type": "markdown",
   "metadata": {},
   "source": [
    "# Regularization\n",
    "Regularization changes parameter weights to strike a balance between `underfitting` and `overfitting` a regression model.\n",
    "\n",
    "It usually takes this general form:<br>\n",
    "$$min\\{L(\\theta, Z_i) + \\lambda P(\\theta)\\}$$\n",
    "The above equation has 2 parts:<br>\n",
    "* the loss function $L(\\theta, Z_i)$ that depends on:<br>\n",
    "    * $Z_i$ — the dataset\n",
    "    * $\\theta$ — the parameter of interested that we want to estimate\n",
    "* the penalty term $\\lambda P(\\theta)$\n",
    "    * $P$ is the pernalty function (e.g. `L2` norm)\n",
    "    * $\\lambda$ — regularization parameter\n",
    "    \n",
    "For example, in linear regression, $Z_i$ is the training features and target values, and our $theta$ is the parameter weights that we want to learn. "
   ]
  },
  {
   "cell_type": "markdown",
   "metadata": {},
   "source": [
    "#### Resources:\n",
    "[ISyE 8803 — Topics on High-Dimensional Data Analytics — Module 4](https://courses.edx.org/courses/course-v1:GTx+ISYE8803+2T2019/course/#block-v1:GTx+ISYE8803+2T2019+type@chapter+block@223667a47f58432ea40f272c8ed71e11)"
   ]
  }
 ],
 "metadata": {
  "kernelspec": {
   "display_name": "Python 3",
   "language": "python",
   "name": "python3"
  },
  "language_info": {
   "codemirror_mode": {
    "name": "ipython",
    "version": 3
   },
   "file_extension": ".py",
   "mimetype": "text/x-python",
   "name": "python",
   "nbconvert_exporter": "python",
   "pygments_lexer": "ipython3",
   "version": "3.7.3"
  }
 },
 "nbformat": 4,
 "nbformat_minor": 2
}
