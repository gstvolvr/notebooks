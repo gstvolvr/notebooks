{
 "cells": [
  {
   "cell_type": "markdown",
   "metadata": {},
   "source": [
    "# LASSO Regression\n",
    "\n",
    "`LASSO` - Least Absolute Shrinkage and Selection Operator\n",
    "\n",
    "A regression + regularization technique. Similar to [ridge regression](../regression/ridge_regression.ipynb), it works by penalizing the magnitude of coefficients of features, along with minimizing the error between the predicted and actual observations. It's mainly used on datasets with <em>many</em> features (i.e. in the millions) since it provides both model selection through a sparse solution. \n",
    "\n",
    "It performs `L1 regularization` — adds a penalty equivalent to the absolute values of the magnitude. \n",
    "\n",
    "Assuming the observations are centered, `LASSO` estimates are computed by:<br>\n",
    "\n",
    "$$\\hat{\\beta} = argmin \\|y-X\\beta\\|_2^2$$\n",
    "$$\\|\\beta\\|_1 \\leq K$$\n",
    "\n",
    "which is equvalent to:\n",
    "$$\\hat{\\beta} = argmin \\|y-X\\beta\\|_2^2 + \\lambda\\|\\beta\\|_1$$\n",
    "\n",
    "\n",
    "* shrinkage: estimated lasso coefficients are shrunken towards `0`\n",
    "* sparsity: some coefficients are exactly `0`\n",
    "* $\\lambda \\ge 0$ controls sparsity"
   ]
  },
  {
   "cell_type": "code",
   "execution_count": null,
   "metadata": {},
   "outputs": [],
   "source": []
  },
  {
   "cell_type": "markdown",
   "metadata": {},
   "source": [
    "#### Resources:\n",
    "* [A Complete Tutorial on Ridge and Lasso Regression in Python](https://chandlerfang.blog/2016/09/30/a-complete-tutorial-on-ridge-and-lasso-regression-in-python/)\n",
    "* [ISyE8803: Topics on High-Dimensional Data Analytics — Module 4](https://courses.edx.org/courses/course-v1:GTx+ISYE8803+2T2019/course/#block-v1:GTx+ISYE8803+2T2019+type@chapter+block@223667a47f58432ea40f272c8ed71e11)"
   ]
  }
 ],
 "metadata": {
  "kernelspec": {
   "display_name": "Python 3",
   "language": "python",
   "name": "python3"
  },
  "language_info": {
   "codemirror_mode": {
    "name": "ipython",
    "version": 3
   },
   "file_extension": ".py",
   "mimetype": "text/x-python",
   "name": "python",
   "nbconvert_exporter": "python",
   "pygments_lexer": "ipython3",
   "version": "3.7.3"
  }
 },
 "nbformat": 4,
 "nbformat_minor": 2
}
