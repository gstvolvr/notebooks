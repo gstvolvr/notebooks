{
 "cells": [
  {
   "cell_type": "markdown",
   "metadata": {},
   "source": [
    "# Mean Squared Error\n",
    "Measure's the quality of an estimator. \n",
    "\n",
    "$$\\frac{1}{n}\\sum_{i=1}^n (x_i - \\hat{x_i})^2$$ "
   ]
  },
  {
   "cell_type": "code",
   "execution_count": 2,
   "metadata": {},
   "outputs": [],
   "source": [
    "from sklearn.metrics import mean_squared_error\n",
    "import numpy as np"
   ]
  },
  {
   "cell_type": "code",
   "execution_count": 9,
   "metadata": {},
   "outputs": [
    {
     "name": "stdout",
     "output_type": "stream",
     "text": [
      "their mse: 17.087\n",
      "my mse: 17.087\n"
     ]
    }
   ],
   "source": [
    "x = np.random.randint(0, 10, 1000)\n",
    "y = np.random.randint(0, 10, 1000)\n",
    "\n",
    "def mse(x, y):\n",
    "    return ((x - y) ** 2).mean()\n",
    "\n",
    "print(f\"their mse: {mean_squared_error(x, y)}\")\n",
    "print(f\"my mse: {mse(x,y)}\")"
   ]
  },
  {
   "cell_type": "markdown",
   "metadata": {},
   "source": [
    "### Resources:\n",
    "* [Means Squared Error — Wikipedia](https://en.wikipedia.org/wiki/Mean_squared_error)"
   ]
  }
 ],
 "metadata": {
  "kernelspec": {
   "display_name": "Python 3",
   "language": "python",
   "name": "python3"
  },
  "language_info": {
   "codemirror_mode": {
    "name": "ipython",
    "version": 3
   },
   "file_extension": ".py",
   "mimetype": "text/x-python",
   "name": "python",
   "nbconvert_exporter": "python",
   "pygments_lexer": "ipython3",
   "version": "3.7.4"
  }
 },
 "nbformat": 4,
 "nbformat_minor": 2
}
