{
 "cells": [
  {
   "cell_type": "markdown",
   "metadata": {},
   "source": [
    "# Cross Validation\n",
    "It's a `model validation` technique used to test a model's ability to accurately predict new data that wasn't used in the training period. This helps counter problems of `overfitting` and `selection bias`."
   ]
  },
  {
   "cell_type": "code",
   "execution_count": 35,
   "metadata": {},
   "outputs": [],
   "source": [
    "from sklearn.datasets import load_breast_cancer\n",
    "import sklearn\n",
    "\n",
    "data = load_breast_cancer()\n",
    "X, y = data[\"data\"], data[\"target\"]"
   ]
  },
  {
   "cell_type": "markdown",
   "metadata": {},
   "source": [
    "#### K Folds cross validation\n",
    "It generally following this structure: \n",
    "<ol>\n",
    "    <li>shuffle data</li>\n",
    "    <li>split data into <b>k</b> groups — generally tries to split </li> \n",
    "    <li>for each set of groups\n",
    "        <ol>\n",
    "            <li>take a group as a <i>hold out</i></li>\n",
    "            <li>take the remaining data as the training data</li>\n",
    "            <li>fit a model on the training set, and evaluate on the test set</li>\n",
    "            <li>keep track of score and discard model</li>\n",
    "        </ol>\n",
    "    <li>summarize the performance across all <b>k</b> folds</li>\n",
    "</ol>"
   ]
  },
  {
   "cell_type": "code",
   "execution_count": 44,
   "metadata": {},
   "outputs": [
    {
     "name": "stdout",
     "output_type": "stream",
     "text": [
      "number of splits: 5\n",
      "0.9729645951146966\n"
     ]
    }
   ],
   "source": [
    "from sklearn.linear_model import LogisticRegression\n",
    "from sklearn.metrics import precision_score\n",
    "from sklearn.model_selection import KFold\n",
    "import numpy as np\n",
    "\n",
    "kf = KFold(5)\n",
    "print(f\"number of splits: {kf.get_n_splits(X, y)}\")\n",
    "\n",
    "clf = LogisticRegression(solver='lbfgs', max_iter=1e5)\n",
    "errors = np.zeros(kf.get_n_splits(X, y))\n",
    "\n",
    "for i, (train_index, test_index) in enumerate(kf.split(X)):\n",
    "    X_train, y_train = X[train_index], y[train_index]\n",
    "    X_test, y_test = X[test_index], y[test_index]\n",
    "    \n",
    "    clf.fit(X_train, y_train)\n",
    "    preds = clf.predict(X_test)\n",
    "    errors[i] = precision_score(preds, y_test)\n",
    "\n",
    "print(errors.mean())"
   ]
  },
  {
   "cell_type": "markdown",
   "metadata": {},
   "source": [
    "#### Statified K Fold cross validation\n",
    "It's a variant of the `k-fold` fold method that returns `stratified` folds — meaning it helps make sure that each fold is representative of the entire population. "
   ]
  },
  {
   "cell_type": "code",
   "execution_count": 43,
   "metadata": {},
   "outputs": [
    {
     "name": "stdout",
     "output_type": "stream",
     "text": [
      "number of splits: 5\n",
      "0.9719092331768389\n"
     ]
    }
   ],
   "source": [
    "from sklearn.model_selection import StratifiedKFold\n",
    "\n",
    "clf = LogisticRegression(solver='lbfgs', max_iter=1e5)\n",
    "\n",
    "skf = StratifiedKFold(5)\n",
    "print(f\"number of splits: {skf.get_n_splits(X, y)}\")\n",
    "\n",
    "errors = np.zeros(skf.get_n_splits(X, y))\n",
    "\n",
    "for i, (train_index, test_index) in enumerate(skf.split(X, y)):\n",
    "    X_train, y_train = X[train_index], y[train_index]\n",
    "    X_test, y_test = X[test_index], y[test_index]\n",
    "    clf.fit(X_train, y_train)\n",
    "    preds = clf.predict(X_test)\n",
    "    errors[i] = precision_score(preds, y_test)\n",
    "\n",
    "print(errors.mean())"
   ]
  },
  {
   "cell_type": "markdown",
   "metadata": {},
   "source": [
    "### Resources: \n",
    "* [Wikipedia — Cross Validation](https://en.wikipedia.org/wiki/Cross-validation_(statistics))\n",
    "* [ML Mastery — Gentle Introduction to K-Fold Cross Validation](https://machinelearningmastery.com/k-fold-cross-validation/)"
   ]
  }
 ],
 "metadata": {
  "kernelspec": {
   "display_name": "Python 3",
   "language": "python",
   "name": "python3"
  },
  "language_info": {
   "codemirror_mode": {
    "name": "ipython",
    "version": 3
   },
   "file_extension": ".py",
   "mimetype": "text/x-python",
   "name": "python",
   "nbconvert_exporter": "python",
   "pygments_lexer": "ipython3",
   "version": "3.7.4"
  }
 },
 "nbformat": 4,
 "nbformat_minor": 2
}
