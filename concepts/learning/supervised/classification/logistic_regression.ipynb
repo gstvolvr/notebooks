{
 "cells": [
  {
   "cell_type": "markdown",
   "metadata": {},
   "source": [
    "# Logistic Regression\n",
    "\n",
    "Binary classification algorithm that measures the relationship between the categorical dependent variable and one or more independent variables by estimating probabilities using a logistic function. \n",
    "\n",
    "#### Best used for\n",
    "* NaN\n",
    "\n",
    "#### Assumptions\n",
    "* binary output \n",
    "* relationship between response, and data is `linear`\n",
    "\n",
    "\n",
    "\n",
    "`sigmoid` function or `logistic` function:\n",
    "\n",
    "$$\\frac{1}{1+e^{-x}}$$\n"
   ]
  },
  {
   "cell_type": "code",
   "execution_count": 9,
   "metadata": {},
   "outputs": [
    {
     "data": {
      "image/png": "[encoded data removed]",
      "text/plain": [
       "<Figure size 432x288 with 1 Axes>"
      ]
     },
     "metadata": {},
     "output_type": "display_data"
    }
   ],
   "source": [
    "import matplotlib.pyplot as plt\n",
    "plt.style.use('fivethirtyeight')\n",
    "import numpy as np\n",
    "\n",
    "curve = [ 1 / (1 + np.math.exp(-x))  for x in range(-10, 10)]\n",
    "plt.plot(curve);"
   ]
  },
  {
   "cell_type": "markdown",
   "metadata": {},
   "source": [
    "An example of a `logistic regression` function would be something like:<br>\n",
    "$$y = \\frac{e^{\\beta_0 + \\beta^tx}}{1 + e^{\\beta_0 + \\beta^tx}}$$\n",
    "\n",
    "* $y$ — predicted value\n",
    "* $\\beta_0$ — intercept or bias term\n",
    "* $\\beta$ — weights for the features\n",
    "\n",
    "It's used to predict the probability of the default class — $P(y_i = class | data)$\n",
    "\n",
    "We can estimate the coefficients from our training data using [maximum likelihood estimation](../optimization/maximum_likelihood_estimation.ipynb)"
   ]
  },
  {
   "cell_type": "markdown",
   "metadata": {},
   "source": [
    "#### Resources:\n",
    "* [Machine Learning Mastery](https://machinelearningmastery.com/logistic-regression-for-machine-learning/)"
   ]
  },
  {
   "cell_type": "code",
   "execution_count": null,
   "metadata": {},
   "outputs": [],
   "source": []
  }
 ],
 "metadata": {
  "kernelspec": {
   "display_name": "Python 3",
   "language": "python",
   "name": "python3"
  },
  "language_info": {
   "codemirror_mode": {
    "name": "ipython",
    "version": 3
   },
   "file_extension": ".py",
   "mimetype": "text/x-python",
   "name": "python",
   "nbconvert_exporter": "python",
   "pygments_lexer": "ipython3",
   "version": "3.7.4"
  }
 },
 "nbformat": 4,
 "nbformat_minor": 2
}
