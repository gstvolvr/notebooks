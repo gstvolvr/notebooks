{
 "cells": [
  {
   "cell_type": "markdown",
   "metadata": {},
   "source": [
    "# Gamma Distribution\n",
    "Continuous probability distribution. \n",
    "\n",
    "Some of it's special cases include:\n",
    "* $k=1$ — [exponential distribution]()\n",
    "* – [erlang distribution]()\n",
    "* – [chi-squared distribution]()\n",
    "\n",
    "We use the following variabels:\n",
    "* $k$ — shape parameter\n",
    "* $\\theta$ — scale parameter"
   ]
  },
  {
   "cell_type": "markdown",
   "metadata": {},
   "source": []
  }
 ],
 "metadata": {
  "kernelspec": {
   "display_name": "Python 3",
   "language": "python",
   "name": "python3"
  },
  "language_info": {
   "codemirror_mode": {
    "name": "ipython",
    "version": 3
   },
   "file_extension": ".py",
   "mimetype": "text/x-python",
   "name": "python",
   "nbconvert_exporter": "python",
   "pygments_lexer": "ipython3",
   "version": "3.7.4"
  }
 },
 "nbformat": 4,
 "nbformat_minor": 2
}
