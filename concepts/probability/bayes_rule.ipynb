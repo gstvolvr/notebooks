{
 "cells": [
  {
   "cell_type": "markdown",
   "metadata": {},
   "source": [
    "# Bayes Rule\n",
    "\n",
    "The formula follows uses $h$ as the hypothesis, and $D$ as the data. \n",
    "\n",
    "$P(h|D) = \\frac{P(D|h)P(h)}{P(D)}$\n",
    "\n",
    "The numerator corresponds to the probab\n",
    "ility of $D$ and $h$ together – this comes from the `chain rule`.\n",
    "\n",
    "$P(A, B) = P(A|B)P(B) = P(B|A)P(A)$\n",
    "\n",
    "Terms:<br>\n",
    "$P(D)$ — prior belief of seeing some set of data. This is usually a normalizing term, and does not matter.<br>\n",
    "$P(D|h)$ — how likely is it that we'll see our training data, given that our hypothesis is true? It's generally easier to figure out than the original hypothesis. <br>\n",
    "$P(h)$ — prior belief"
   ]
  },
  {
   "cell_type": "markdown",
   "metadata": {},
   "source": []
  }
 ],
 "metadata": {
  "kernelspec": {
   "display_name": "Python 3",
   "language": "python",
   "name": "python3"
  },
  "language_info": {
   "codemirror_mode": {
    "name": "ipython",
    "version": 3
   },
   "file_extension": ".py",
   "mimetype": "text/x-python",
   "name": "python",
   "nbconvert_exporter": "python",
   "pygments_lexer": "ipython3",
   "version": "3.7.4"
  }
 },
 "nbformat": 4,
 "nbformat_minor": 2
}
