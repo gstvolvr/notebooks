{
 "cells": [
  {
   "cell_type": "markdown",
   "metadata": {},
   "source": [
    "# Bernoulli Distribution\n",
    "Discrete probability distribution of a random variable take takes the value 1 with probability $p$, and 0 with probability $1-p$, to a boolean question. It's a special case of the [binomial distribution](binomial_distributino.ipynb) with $n=1$.\n",
    "\n",
    "We use the following variables:\n",
    "* $k$ — the possible outcomes (1 or 0)\n",
    "* $p$ — probability of a successful output\n",
    "\n",
    "---\n",
    "The probability distribution over $x$ can be written as:\n",
    "\n",
    "$$\\text{Bern}(x|\\mu) = \\mu^x(1 - \\mu)^{1-x}$$\n",
    "\n",
    "$$\\mathbb{E}[x] = \\mu$$\n",
    "$$\\text{var}[x] = \\mu(1 - \\mu)$$\n",
    "\n"
   ]
  },
  {
   "cell_type": "code",
   "execution_count": 1,
   "metadata": {},
   "outputs": [],
   "source": [
    "import matplotlib.pyplot as plt\n",
    "import numpy as np\n",
    "plt.style.use(\"seaborn\")"
   ]
  },
  {
   "cell_type": "markdown",
   "metadata": {},
   "source": [
    "### Probability Mass Function (PMF)\n",
    "$$\n",
    "f(x) =\\begin{cases}\n",
    "q = 1 - p & if k = 0\\\\\n",
    "p & if k = 1\\\\\n",
    "\\end{cases}\n",
    "$$"
   ]
  },
  {
   "cell_type": "markdown",
   "metadata": {},
   "source": [
    "### Cumulative Distribution Function (CDF)\n",
    "\n",
    "$$\n",
    "f(x) =\\begin{cases}\n",
    "0 & if k \\le 0\\\\\n",
    "1-p & if 0 \\le k \\le 1\\\\\n",
    "p & if k \\ge 1\n",
    "\\end{cases}\n",
    "$$"
   ]
  },
  {
   "cell_type": "markdown",
   "metadata": {},
   "source": [
    "### Likelihood function\n",
    "\n",
    "Suppose we have a data set $D = {x_1, \\dots, x_n}$ of observed values of $x$. We can construct the likelihood function, on the assumption that the observations are drawn independently from $p(x|\\mu)$ so that:\n",
    "$$p(D|\\mu) = \\prod_{n=1}^N p(x_n|\\mu) = \\prod_{n=1}^N \\mu^{x_n}(1 - \\mu)^{1-x_n}$$\n",
    "\n"
   ]
  },
  {
   "cell_type": "markdown",
   "metadata": {},
   "source": [
    "#### Resources:\n",
    "* [Wikipedia — Bernoulli Distribution](https://en.wikipedia.org/wiki/Bernoulli_distribution)\n",
    "* [Pattern Recognition & Machine Learning — Chapter 2: Probability Distributions](../../books/pattern-recognition-and-ml/chapters/chapter_2.ipynb)"
   ]
  },
  {
   "cell_type": "code",
   "execution_count": null,
   "metadata": {},
   "outputs": [],
   "source": []
  }
 ],
 "metadata": {
  "kernelspec": {
   "display_name": "Python 3",
   "language": "python",
   "name": "python3"
  },
  "language_info": {
   "codemirror_mode": {
    "name": "ipython",
    "version": 3
   },
   "file_extension": ".py",
   "mimetype": "text/x-python",
   "name": "python",
   "nbconvert_exporter": "python",
   "pygments_lexer": "ipython3",
   "version": "3.7.4"
  }
 },
 "nbformat": 4,
 "nbformat_minor": 2
}
