{
 "cells": [
  {
   "cell_type": "markdown",
   "metadata": {},
   "source": [
    "## fundamentals of machine learning\n",
    "a lot of the content of this chapter is review, but here are a few things that stood out:<br><br>\n",
    "\n",
    "\n",
    "#### Instance baded vs Model based learning \n",
    "This is yet another way to categorize ML models (by how they generalize to new problems).\n",
    "\n",
    "Instance based learning --  learns through examples, and then generalizes to new cases by comparing them to known examples.\n",
    "\n",
    "Model based learning -- build a model from examples and then make predictions. <br>\n",
    "\n",
    "#### No Free Lunch\n",
    "For a specific learning problem, there is no problem <em>a priori</em> guaranteed to work better. The only way to know is to evaluate all models. Since this can't be done we have to make assumptions about the data, and limit our scope of models. "
   ]
  },
  {
   "cell_type": "markdown",
   "metadata": {},
   "source": [
    "---\n",
    "#### 1) How would you define Machine Learning?\n",
    "function approximation / computational statistics\n",
    "\n",
    "#### 2) Can you name four types of problems where it shines?\n",
    "spam filtering, entity resolution, image recognition, voice recognition\n",
    "\n",
    "#### 3) What is a labeled training set?\n",
    "a structured training set with \n",
    "\n",
    "#### 4) What are the two most common supervised tasks?\n",
    "classification, regression\n",
    "\n",
    "#### 5) Can you name four common unsupervised tasks?\n",
    "clustering, anomaly detection, dimensionality reduction, association rule mining\n",
    "\n",
    "#### 6) What type of Machine Learning algorithm would you use to allow a robot to walk in various unknown terrains?\n",
    "reinforcement learning\n",
    "\n",
    "#### 7) What type of algorithm would you use to segment your customers into multiple groups?\n",
    "knn\n",
    "\n",
    "#### 8) Would you frame the problem of spam detection as a supervised learning problem or an unsupervised learning problem?\n",
    "supervised\n",
    "\n",
    "#### 9) What is an online learning system?\n",
    "a system that updates it's model on the fly. an important parameter is the \"learning rate\", or how quickly the algo with learn from new data\n",
    "\n",
    "#### 10) What is out-of-core learning?\n",
    "a type of incremenal learning that trains on huge datasets that don't fit into a machine's main memory. It loads the data, trains on a piece, and moves on to the next piece. \n",
    "\n",
    "#### 11) What type of learning algorithm relies on a similarity measure to make predictions?\n",
    "unsupervised \n",
    "\n",
    "#### 12) What is the difference between a model parameter and a learning algorithm’s hyperparameter?\n",
    "hyperparameters are parameters for a learning algorithm, not the model itself. \n",
    "\n",
    "#### 13) What do model-based learning algorithms search for? What is the most common strategy they use to succeed? How do they make predictions?\n",
    "they search for trends in the data that can be generalized in the form of a model. they use that model (e.g. linear regression) to make predictions using the learned parameters\n",
    "\n",
    "#### 14) Can you name four of the main challenges in Machine Learning?\n",
    "overfitting, model validation, interpretability, \n",
    "\n",
    "#### 15) If your model performs great on the training data but generalizes poorly to new instances, what is happening? Can you name three possible solutions?\n",
    "it's overfitting to the training set. \n",
    "1) simplify the model (e.g. reduce number of attributes during training)\n",
    "2) get more training data\n",
    "3) remove outliers in training data\n",
    "\n",
    "#### 16) What is a test set and why would you want to use it?\n",
    "it's a portion of data that is split off for testing purposes. You can train on say 80% of the data, and test on 20% \n",
    "of it. This is important to make sure the algo isn't overfitting to the training set. \n",
    "\n",
    "#### 17) What is the purpose of a validation set?\n",
    "It's used to test performance of different hypeparameters, before testing on the test set\n",
    "\n",
    "#### 18) What can go wrong if you tune hyperparameters using the test set?\n",
    "You can do poorly when running your algo on other test data\n",
    "\n",
    "#### 19) What is repeated cross-validation and why would you prefer it to using a single validation set?\n",
    "It breaks up the data into many folds of train and test pairs. This helps make sure there's no inherent bias in the original train/test set."
   ]
  },
  {
   "cell_type": "code",
   "execution_count": null,
   "metadata": {},
   "outputs": [],
   "source": []
  }
 ],
 "metadata": {
  "kernelspec": {
   "display_name": "Python 3",
   "language": "python",
   "name": "python3"
  },
  "language_info": {
   "codemirror_mode": {
    "name": "ipython",
    "version": 3
   },
   "file_extension": ".py",
   "mimetype": "text/x-python",
   "name": "python",
   "nbconvert_exporter": "python",
   "pygments_lexer": "ipython3",
   "version": "3.7.3"
  }
 },
 "nbformat": 4,
 "nbformat_minor": 2
}
