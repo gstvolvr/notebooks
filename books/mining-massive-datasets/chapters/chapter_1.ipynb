{
 "cells": [
  {
   "cell_type": "markdown",
   "metadata": {},
   "source": [
    "# Statistical Limits on Data Mining\n",
    "### Bonferroni's Principle\n",
    "Suppose you have a certain amount of data, and you look for events of a certain type within that data. You can expect events of this type to occur, even if the data is completely random, and the number of occurences of these events will grow as the size of the data grows. \n",
    "\n",
    "These events are aren't real, they're bogus, and they have no cause other than that random data will always have some number of unusual features that look significant but aren't. \n",
    "\n",
    "`Bonferroni correction` gives a statistically sound way to avoid most of these bogus positive responses. The `bonferroni principle` helps us avoid treating random occurences as if they were real. \n",
    "* calculate the expected number of occurences of the events you are looking for, on the assumption that the data is random. \n",
    "* if this number if significantely larger than the nuber of real instances you hope to find, then you must expect almost anything you find to be bogus."
   ]
  },
  {
   "cell_type": "code",
   "execution_count": null,
   "metadata": {},
   "outputs": [],
   "source": []
  }
 ],
 "metadata": {
  "kernelspec": {
   "display_name": "Python 3",
   "language": "python",
   "name": "python3"
  },
  "language_info": {
   "codemirror_mode": {
    "name": "ipython",
    "version": 3
   },
   "file_extension": ".py",
   "mimetype": "text/x-python",
   "name": "python",
   "nbconvert_exporter": "python",
   "pygments_lexer": "ipython3",
   "version": "3.7.1"
  }
 },
 "nbformat": 4,
 "nbformat_minor": 2
}
