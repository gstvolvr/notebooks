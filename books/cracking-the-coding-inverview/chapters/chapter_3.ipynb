{
 "cells": [
  {
   "cell_type": "markdown",
   "metadata": {},
   "source": [
    "# Chapter 3: Stacks and Queues"
   ]
  },
  {
   "cell_type": "code",
   "execution_count": 157,
   "metadata": {},
   "outputs": [
    {
     "name": "stdout",
     "output_type": "stream",
     "text": [
      "|5 4 3 2 1\n"
     ]
    },
    {
     "data": {
      "text/plain": [
       "5"
      ]
     },
     "execution_count": 157,
     "metadata": {},
     "output_type": "execute_result"
    }
   ],
   "source": [
    "class Node:\n",
    "    def __init__(self, val):\n",
    "        self.val = val\n",
    "        self.next = None\n",
    "        \n",
    "class Stack:\n",
    "    \n",
    "    def __init__(self):\n",
    "        self.top = None\n",
    "        self.next_stack = None\n",
    "        self.size = 0\n",
    "        \n",
    "    def pop(self):\n",
    "        if self.top:\n",
    "            item = self.top.val\n",
    "            self.top = self.top.next\n",
    "            self.size -= 1\n",
    "            return item\n",
    "        \n",
    "    def push(self, item):\n",
    "        t = Node(item)\n",
    "        t.next = self.top\n",
    "        self.top = t\n",
    "        self.size += 1\n",
    "        \n",
    "    def is_empty(self):\n",
    "        return self.size == 0\n",
    "    \n",
    "    def __str__(self):\n",
    "        top = self.top\n",
    "        res = \"\"\n",
    "        \n",
    "        while top:\n",
    "            res = f\"{top.val} \" + res\n",
    "            top = top.next\n",
    "        return \"|\" + res.strip()\n",
    "    \n",
    "class Queue:\n",
    "    \n",
    "    def __init__(self):\n",
    "        self.first = None\n",
    "        self.last = None\n",
    "    \n",
    "    def enqueue(self, item):\n",
    "        if not self.first:\n",
    "            self.last = Node(item)\n",
    "            self.first = self.last\n",
    "        else:\n",
    "            self.last.next = Node(item)\n",
    "            self.last = self.last.next\n",
    "            \n",
    "    def dequeue(self):\n",
    "        if self.first:\n",
    "            item = self.first.val\n",
    "            self.front = self.first.next\n",
    "            return item\n",
    "    \n",
    "    def __str__(self):\n",
    "        first = self.first\n",
    "        res = \"\"\n",
    "        while first:\n",
    "            res = f\"{first.val} \" + res\n",
    "            first = first.next\n",
    "        return res.strip()\n",
    "    \n",
    "s = Stack()\n",
    "s.push(5)\n",
    "s.push(4)\n",
    "s.push(3)\n",
    "s.push(2)\n",
    "s.push(1)\n",
    "s.push(0)\n",
    "s.pop()\n",
    "\n",
    "print(s)\n",
    "\n",
    "q = Queue()\n",
    "q.enqueue(5)\n",
    "q.enqueue(4)\n",
    "q.enqueue(3)\n",
    "q.dequeue()\n",
    "\n",
    "# print(q)"
   ]
  },
  {
   "cell_type": "markdown",
   "metadata": {},
   "source": [
    "<b>3.1</b>: Describe how you could use a single array to implement three stacks\n",
    "\n"
   ]
  },
  {
   "cell_type": "markdown",
   "metadata": {},
   "source": [
    "<b>3.2</b> How would you design a stack which, in addition to push and pop, also has a function min which returns the minimum element? Push, pop and min should all operate in O(1) time"
   ]
  },
  {
   "cell_type": "markdown",
   "metadata": {},
   "source": [
    "<b>3.3</b> Imagine a (literal) stack of plates If the stack gets too high, it might topple. Therefore, in real life, we would likely start a new stack when the previous stack exceeds some threshold? Implement a data structure `SetOfStacks` that mimics this. `SetOfStacks` should be composed of several stacks, and should create a new stack once the previous one exceeds capacity `SetOfStacks` push() and `SetOfStacks` pop() should behave identically to a single stack (that is, pop() should return the same values as it would if there were just a single stack)\n",
    "\n",
    "FOLLOW UP\n",
    "\n",
    "Implement a function `popAt(int index)` which performs a pop operation on a specific sub-stack"
   ]
  },
  {
   "cell_type": "code",
   "execution_count": 53,
   "metadata": {},
   "outputs": [
    {
     "name": "stdout",
     "output_type": "stream",
     "text": [
      "1\n",
      "1\n",
      "\n",
      "--\n",
      "2\n",
      "2\n",
      "\n",
      "--\n",
      "\n"
     ]
    }
   ],
   "source": [
    "class SetOfStacks():\n",
    "    \n",
    "    def __init__(self, threshold):\n",
    "        self.top_stack = None\n",
    "        self.stack_height = 0\n",
    "        self.threshold = threshold \n",
    "    \n",
    "    def push(self, item):\n",
    "        \n",
    "        if not self.top_stack:\n",
    "            self.top_stack = Stack()\n",
    "            self.top_stack.push(item)\n",
    "            self.top_stack.stack_height = 1\n",
    "            \n",
    "        elif self.top_stack and self.top_stack.stack_height == self.threshold:\n",
    "            new_stack = Stack()\n",
    "            new_stack.push(item)\n",
    "            \n",
    "            new_stack.next_stack = self.top_stack\n",
    "            self.top_stack = new_stack\n",
    "            self.top_stack.stack_height = 1\n",
    "            \n",
    "        else:\n",
    "            self.top_stack.push(item)\n",
    "            self.top_stack.stack_height += 1\n",
    "            \n",
    "    def pop(self):\n",
    "        if self.top_stack:\n",
    "            item = self.top_stack\n",
    "            self.top_stack = self.top_stack.next_stack\n",
    "            return item\n",
    "    \n",
    "    def __str__(self):\n",
    "        \n",
    "        top = self.top_stack\n",
    "        res = \"\"\n",
    "        while top:\n",
    "            res = f\"{top}\\n--\\n{res}\"\n",
    "            top = top.next_stack\n",
    "        return res\n",
    "    \n",
    "ss = SetOfStacks(2)\n",
    "ss.push(1)\n",
    "ss.push(1)\n",
    "ss.push(2)\n",
    "ss.push(2)\n",
    "\n",
    "print(ss)"
   ]
  },
  {
   "cell_type": "markdown",
   "metadata": {},
   "source": [
    "<b>3.4</b>: In the classic problem of the `Towers of Hanoi`, you have 3 rods and N disks of different sizes which can slide on to any tower. The puzzle starts with disks sorted in ascending order of size from top to bottom (e g , each disk sits on top of an even larger one). You have the following constraints:<br><br>\n",
    "(A) Only one disk can be moved at a time<br>\n",
    "(B) A disk is slid off the top of one rod onto the next rod<br>\n",
    "(C) A disk can only be placed on top of a larger disk<br>\n",
    "\n",
    "\n",
    "Write a program to move the disks from the first rod to the last using Stacks<br>"
   ]
  },
  {
   "cell_type": "code",
   "execution_count": 129,
   "metadata": {},
   "outputs": [],
   "source": [
    "def solve_hanoi(n):\n",
    "    \n",
    "    source = Stack()\n",
    "    temp = Stack()\n",
    "    destination = Stack()\n",
    "    \n",
    "    for i in range(n, 0, -1):\n",
    "        source.push(i)\n",
    "    \n",
    "    print(\"starting position\")\n",
    "    print(source)\n",
    "    print(temp)\n",
    "    print(destination)\n",
    "    \n",
    "    moves = 0\n",
    "    def recurse(source, temp, destination, x):\n",
    "        if x == 0:\n",
    "            return \n",
    "        \n",
    "        recurse(source, destination, temp, x-1)\n",
    "        \n",
    "        top = source.pop()\n",
    "        destination.push(top)\n",
    "        \n",
    "        recurse(temp, source, destination, x-1)\n",
    "    \n",
    "    recurse(source, temp, destination, n)\n",
    "    return source, temp, destination"
   ]
  },
  {
   "cell_type": "code",
   "execution_count": 135,
   "metadata": {},
   "outputs": [
    {
     "name": "stdout",
     "output_type": "stream",
     "text": [
      "starting position\n",
      "|20 19 18 17 16 15 14 13 12 11 10 9 8 7 6 5 4 3 2 1\n",
      "|\n",
      "|\n",
      "\n",
      "\n",
      "|\n",
      "|\n",
      "|20 19 18 17 16 15 14 13 12 11 10 9 8 7 6 5 4 3 2 1\n"
     ]
    }
   ],
   "source": [
    "s, t, d = solve_hanoi(20)\n",
    "print(\"\\n\")\n",
    "print(s)\n",
    "print(t)\n",
    "print(d)"
   ]
  },
  {
   "cell_type": "markdown",
   "metadata": {},
   "source": [
    "<b>3.5</b>: Implement a `MyQueue` class which implements a queue using two stacks"
   ]
  },
  {
   "cell_type": "code",
   "execution_count": 164,
   "metadata": {},
   "outputs": [
    {
     "data": {
      "text/plain": [
       "3"
      ]
     },
     "execution_count": 164,
     "metadata": {},
     "output_type": "execute_result"
    }
   ],
   "source": [
    "class MyQueue():\n",
    "    \n",
    "    def __init__(self):\n",
    "        self.front_stack = Stack()\n",
    "        self.back_stack = Stack()\n",
    "        \n",
    "    def enqueue(self, item):\n",
    "        self.back_stack.push(item)\n",
    "    \n",
    "    def dequeue(self):\n",
    "        if not self.front_stack.is_empty():\n",
    "            return self.front_stack.pop()\n",
    "        \n",
    "        while not self.back_stack.is_empty():\n",
    "            self.front_stack.push(self.back_stack.pop())\n",
    "        \n",
    "        return self.front_stack.pop()\n",
    "        \n",
    "q = MyQueue()\n",
    "q.enqueue(1)\n",
    "q.enqueue(2)\n",
    "q.enqueue(3)\n",
    "q.dequeue()\n",
    "q.dequeue()\n",
    "q.enqueue(4)\n",
    "q.dequeue()"
   ]
  },
  {
   "cell_type": "markdown",
   "metadata": {},
   "source": [
    "<b>3.6</b>: Write a program to sort a `stack` in ascending order. You should not make any assumptions about how the stack is implemented. The following are the only functions that should be used to write this program: push | pop | peek | isEmpty"
   ]
  },
  {
   "cell_type": "code",
   "execution_count": null,
   "metadata": {},
   "outputs": [],
   "source": []
  }
 ],
 "metadata": {
  "kernelspec": {
   "display_name": "Python 3",
   "language": "python",
   "name": "python3"
  },
  "language_info": {
   "codemirror_mode": {
    "name": "ipython",
    "version": 3
   },
   "file_extension": ".py",
   "mimetype": "text/x-python",
   "name": "python",
   "nbconvert_exporter": "python",
   "pygments_lexer": "ipython3",
   "version": "3.7.4"
  }
 },
 "nbformat": 4,
 "nbformat_minor": 2
}
