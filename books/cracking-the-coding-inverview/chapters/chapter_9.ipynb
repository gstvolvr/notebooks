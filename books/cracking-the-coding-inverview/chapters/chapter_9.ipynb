{
 "cells": [
  {
   "cell_type": "markdown",
   "metadata": {},
   "source": [
    "# Chapter 9: Sorting and Searching"
   ]
  },
  {
   "cell_type": "markdown",
   "metadata": {},
   "source": [
    "<b>9.1</b>: You are given two sorted arrays, A and B, and A has a large enough buffer at the end to hold B Write a method to merge B into A in sorted order"
   ]
  },
  {
   "cell_type": "markdown",
   "metadata": {},
   "source": [
    "<b>9.2</b>: Write a method to sort an array of strings so that all the `anagrams` are next to each other"
   ]
  },
  {
   "cell_type": "code",
   "execution_count": 21,
   "metadata": {},
   "outputs": [
    {
     "data": {
      "text/plain": [
       "['dotn', 'dont', 'hey', 'ho', 'oh', 'oh']"
      ]
     },
     "execution_count": 21,
     "metadata": {},
     "output_type": "execute_result"
    }
   ],
   "source": [
    "def is_anagram(s1, s2):\n",
    "    return sorted(s1) == sorted(s2)\n",
    "\n",
    "def sort_by_anagrams_a(arr):\n",
    "    \n",
    "    n = len(arr)\n",
    "    anagrams = []\n",
    "    \n",
    "    for i in range(n):\n",
    "        for j in range(i, n):\n",
    "            if i != j:\n",
    "                if is_anagram(arr[i], arr[j]):\n",
    "                    anagrams += [arr[i], arr[j]]\n",
    "    \n",
    "    for element in arr:\n",
    "        if not element in anagrams:\n",
    "            anagrams.append(element)\n",
    "    return anagrams\n",
    "\n",
    "def sort_by_anagrams_b(arr):\n",
    "    return sorted(arr, key=lambda x: sorted(x))\n",
    "\n",
    "\n",
    "s = [\"hey\", \"dotn\", \"ho\", \"oh\", \"dont\", \"oh\"]\n",
    "sort_by_anagrams_b(s)"
   ]
  },
  {
   "cell_type": "markdown",
   "metadata": {},
   "source": [
    "<b>9.3</b>: Given a sorted array of n integers that has been rotated an unknown number of times,give an O(logn) algorithm that finds an element in the array. You may assume that the array was originally sorted in increasing order\n",
    "\n",
    "EXAMPLE:\n",
    "\n",
    "Input: find 5 in array (15 16 19 20 25 1 3 4 5 7 10 14)<br>\n",
    "Output: 8 (the index of 5 in the array)"
   ]
  },
  {
   "cell_type": "code",
   "execution_count": null,
   "metadata": {},
   "outputs": [],
   "source": []
  }
 ],
 "metadata": {
  "kernelspec": {
   "display_name": "Python 3",
   "language": "python",
   "name": "python3"
  },
  "language_info": {
   "codemirror_mode": {
    "name": "ipython",
    "version": 3
   },
   "file_extension": ".py",
   "mimetype": "text/x-python",
   "name": "python",
   "nbconvert_exporter": "python",
   "pygments_lexer": "ipython3",
   "version": "3.7.3"
  }
 },
 "nbformat": 4,
 "nbformat_minor": 2
}
