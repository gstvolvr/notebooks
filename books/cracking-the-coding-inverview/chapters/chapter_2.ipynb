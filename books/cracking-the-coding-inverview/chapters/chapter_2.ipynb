{
 "cells": [
  {
   "cell_type": "markdown",
   "metadata": {},
   "source": [
    "# Chapter 2: Linked Lists"
   ]
  },
  {
   "cell_type": "markdown",
   "metadata": {},
   "source": [
    "<b>2.1</b>: Write code to remove duplicates from an unsorted linked list\n",
    "\n",
    "How would you solve this problem if a temporary buffer is not allowed?"
   ]
  },
  {
   "cell_type": "code",
   "execution_count": 16,
   "metadata": {},
   "outputs": [
    {
     "name": "stdout",
     "output_type": "stream",
     "text": [
      "10 => 10 => 9\n",
      "10 => 9\n"
     ]
    }
   ],
   "source": [
    "class Node():\n",
    "    def __init__(self, val):\n",
    "        self.next = None\n",
    "        self.val = val\n",
    "        \n",
    "class LinkedList():\n",
    "    def __init__(self):\n",
    "        self.root = None\n",
    "        \n",
    "    def remove_duplicates_with_buffer(self):\n",
    "        \"\"\"\n",
    "        keep track of items in a temporary set\n",
    "        \"\"\"\n",
    "        buffer = set([])\n",
    "        \n",
    "        root = self.root\n",
    "        \n",
    "        if not root:\n",
    "            return\n",
    "        \n",
    "        while root:\n",
    "            \n",
    "            if not root.val in buffer:\n",
    "                buffer.update([root.val])\n",
    "            else:\n",
    "                if self.root.next:\n",
    "                    self.root.next = self.root.next.next\n",
    "                    root = root.next\n",
    "            root = root.next\n",
    "    \n",
    "    # TODO\n",
    "    def remove_duplicates_without_buffer(self):\n",
    "        \"\"\"\n",
    "        sort first, then remove duplicates\n",
    "        \"\"\"    \n",
    "        pass        \n",
    "        \n",
    "    def __str__(self):\n",
    "        root = self.root\n",
    "        res = \"\"\n",
    "        \n",
    "        while root:\n",
    "            if len(res) == 0:\n",
    "                res += str(root.val)\n",
    "            else:\n",
    "                res += f\" => {str(root.val)}\"\n",
    "            \n",
    "            root = root.next\n",
    "        return res\n",
    "    \n",
    "ll = LinkedList()\n",
    "ll.root = Node(10)\n",
    "ll.root.next = Node(10)\n",
    "ll.root.next.next = Node(9)\n",
    "\n",
    "print(ll)\n",
    "ll.remove_duplicates_with_buffer()\n",
    "print(ll)"
   ]
  },
  {
   "cell_type": "markdown",
   "metadata": {},
   "source": [
    "<b>2.2</b>: Implement an algorithm to find the $n^{th}$ to last element of a singly linked list"
   ]
  },
  {
   "cell_type": "code",
   "execution_count": 19,
   "metadata": {},
   "outputs": [
    {
     "data": {
      "text/plain": [
       "2"
      ]
     },
     "execution_count": 19,
     "metadata": {},
     "output_type": "execute_result"
    }
   ],
   "source": [
    "class LinkedList():\n",
    "    def __init__(self):\n",
    "        self.root = None\n",
    "        \n",
    "    def find(self, n):\n",
    "        root = self.root\n",
    "        i = 0\n",
    "        d = {}\n",
    "        while root:\n",
    "            d[i] = root.val \n",
    "            i += 1\n",
    "            root = root.next\n",
    "        \n",
    "        if i > (n + 1):\n",
    "            return d[i-(n+1)]\n",
    "            \n",
    "ll = LinkedList()\n",
    "ll.root = Node(1)\n",
    "ll.root.next = Node(2)\n",
    "ll.root.next.next = Node(3) \n",
    "ll.root.next.next.next = Node(4)\n",
    "\n",
    "ll.find(2)"
   ]
  },
  {
   "cell_type": "markdown",
   "metadata": {},
   "source": [
    "<b>2.3</b>: Implement an algorithm to delete a node in the middle of a single linked list, given only access to that node\n",
    "\n",
    "\n",
    "Input: the node `c` from the linked list `a->b->c->d->e`<br>\n",
    "Result: nothing is returned, but the new linked list looks like `a->b->d->e`"
   ]
  },
  {
   "cell_type": "code",
   "execution_count": null,
   "metadata": {},
   "outputs": [],
   "source": [
    "class LinkedList():\n",
    "    def __init__(self):\n",
    "        self.root = None\n",
    "\n",
    "    # TODO\n",
    "    def remove_middle(self):\n",
    "        pass\n",
    "\n",
    "ll = LinkedList()\n",
    "ll.root = Node(\"a\")\n",
    "ll.root.next = Node(\"b\")\n",
    "ll.root.next.next = Node(\"c\") \n",
    "ll.root.next.next.next = Node(\"d\")\n",
    "ll.root.next.next.next.next = Node(\"e\")\n"
   ]
  },
  {
   "cell_type": "markdown",
   "metadata": {},
   "source": [
    "<b>2.4</b>: You have two numbers represented by a linked list, where each node contains a single digit. The digits are stored in reverse order, such that the 1’s digit is at the head of the list. Write a function that adds the two numbers and returns the sum as a linked list\n",
    "\n",
    "EXAMPLE<br>\n",
    "Input: (3 -> 1 -> 5) + (5 -> 9 -> 2)<br>\n",
    "Output: 8 -> 0 -> 8"
   ]
  },
  {
   "cell_type": "code",
   "execution_count": 22,
   "metadata": {},
   "outputs": [
    {
     "data": {
      "text/plain": [
       "3"
      ]
     },
     "execution_count": 22,
     "metadata": {},
     "output_type": "execute_result"
    }
   ],
   "source": [
    "class LinkedList():\n",
    "    def __init__(self):\n",
    "        self.root = None\n",
    "    \n",
    "    def sum_up(self):\n",
    "        return Node(self.root.val + self.root.next.val)\n",
    "\n",
    "ll = LinkedList()\n",
    "ll.root = Node(1)\n",
    "ll.root.next = Node(2)\n",
    "ll.sum_up().val"
   ]
  },
  {
   "cell_type": "markdown",
   "metadata": {},
   "source": [
    "<b>2.5</b>: Given a circular linked list, implement an algorithm which returns node at the beginning of the loop\n",
    "\n",
    "input: `A -> B -> C -> D -> E -> C`<br>\n",
    "output: `C`"
   ]
  },
  {
   "cell_type": "code",
   "execution_count": 24,
   "metadata": {},
   "outputs": [
    {
     "data": {
      "text/plain": [
       "'B'"
      ]
     },
     "execution_count": 24,
     "metadata": {},
     "output_type": "execute_result"
    }
   ],
   "source": [
    "class LinkedList():\n",
    "    def __init__(self):\n",
    "        self.root = None\n",
    "        \n",
    "    def first_in_loop(self):\n",
    "        root = self.root\n",
    "        seen = set([])\n",
    "        \n",
    "        while root:\n",
    "            if root.val in seen:\n",
    "                return root.val\n",
    "            \n",
    "            root = root.next\n",
    "            seen.update(root.val)\n",
    "            \n",
    "ll = LinkedList()\n",
    "ll.root = Node(\"A\")\n",
    "ll.root.next = Node(\"B\")\n",
    "ll.root.next.next = Node(\"C\")\n",
    "ll.root.next.next.next = Node(\"D\")\n",
    "ll.root.next.next.next.next = Node(\"D\")\n",
    "ll.root.next.next.next.next = ll.root.next.next\n",
    "\n",
    "ll.first_in_loop()"
   ]
  },
  {
   "cell_type": "code",
   "execution_count": null,
   "metadata": {},
   "outputs": [],
   "source": []
  }
 ],
 "metadata": {
  "kernelspec": {
   "display_name": "Python 3",
   "language": "python",
   "name": "python3"
  },
  "language_info": {
   "codemirror_mode": {
    "name": "ipython",
    "version": 3
   },
   "file_extension": ".py",
   "mimetype": "text/x-python",
   "name": "python",
   "nbconvert_exporter": "python",
   "pygments_lexer": "ipython3",
   "version": "3.7.3"
  }
 },
 "nbformat": 4,
 "nbformat_minor": 2
}
