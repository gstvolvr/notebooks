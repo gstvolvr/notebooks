{
 "cells": [
  {
   "cell_type": "markdown",
   "metadata": {},
   "source": [
    "# Chapter 1: Arrays and Strings"
   ]
  },
  {
   "cell_type": "code",
   "execution_count": 246,
   "metadata": {},
   "outputs": [],
   "source": [
    "import matplotlib.pyplot as plt\n",
    "import numpy as np\n",
    "import time\n",
    "import string\n",
    "\n",
    "N = 100000\n",
    "\n",
    "def time_and_check(funcs, cases, exp):\n",
    "    # check for correctness\n",
    "    for i, s in enumerate(cases):\n",
    "        print(\"on case: \", i)\n",
    "        e = exp[i]\n",
    "        assert np.all([ f(s) == e for f in funcs])\n",
    "\n",
    "    # time functions\n",
    "    for i, f in enumerate(funcs):\n",
    "        start = time.time()\n",
    "        for _ in range(N):\n",
    "            for s in cases:\n",
    "                f(s)\n",
    "\n",
    "        end = time.time()\n",
    "        t = end - start\n",
    "        print(i, \"{0:.5f} seconds\".format(t))"
   ]
  },
  {
   "cell_type": "markdown",
   "metadata": {},
   "source": [
    "#### 1.1 Implement an algorithm to determine if a string has all unique characters. What if you can not use additional data structures?\n",
    "\n",
    "Notes: \n",
    "\n",
    "Python's <em>sorted</em> function uses an algo called (https://en.wikipedia.org/wiki/Timsort)[timsort]. It's derived from <em>merge sort</em> and <em>insertion sort</em>. In the worst case it's $O(nlog(n))$ and in the best case it takes linear time. "
   ]
  },
  {
   "cell_type": "code",
   "execution_count": 86,
   "metadata": {},
   "outputs": [
    {
     "name": "stdout",
     "output_type": "stream",
     "text": [
      "CPU times: user 2 µs, sys: 1 µs, total: 3 µs\n",
      "Wall time: 4.77 µs\n",
      "0 0.45564 seconds\n",
      "1 1.66571 seconds\n",
      "2 1.24158 seconds\n",
      "3 0.45826 seconds\n"
     ]
    }
   ],
   "source": [
    "%time \n",
    "\n",
    "def all_unique_a(s):\n",
    "    return len(set(s)) == len(s)\n",
    "\n",
    "def all_unique_b(s):  \n",
    "    seen = set() # checking membership in a hashtable in O(1) average case and O(n) in the worst\n",
    "    for l in s:\n",
    "        if l in seen:\n",
    "            return False\n",
    "        seen.add(l)\n",
    "    return True\n",
    "\n",
    "def all_unique_c(s):\n",
    "    ss = sorted(s) # have to do a full pass over the string – O(n log n) for worst case\n",
    "    prev = None\n",
    "    for l in ss:\n",
    "        if l == prev:\n",
    "            return False\n",
    "        prev = l\n",
    "    return True\n",
    "\n",
    "    \n",
    "funcs = [all_unique_a, all_unique_b, all_unique_c]\n",
    "cases = [\"abc\", \"aabc\", string.ascii_letters, string.ascii_letters[::-1], string.ascii_letters[::-1] + \"a\"]\n",
    "exp = [True, False, True, True, False]\n",
    "\n",
    "time_and_check(funcs, cases, exp)"
   ]
  },
  {
   "cell_type": "markdown",
   "metadata": {},
   "source": [
    "#### 1.3 Design an algorithm and write code to remove the duplicate characters in a string without using any additional buffer <br><br>NOTE: One or two additional variables are fine but an extra copy of the array is not"
   ]
  },
  {
   "cell_type": "code",
   "execution_count": 98,
   "metadata": {},
   "outputs": [
    {
     "data": {
      "text/plain": [
       "'abcdefghijklmnopqrstuvwxyzABCDEFGHIJKLMNOPQRSTUVWXYZa'"
      ]
     },
     "execution_count": 98,
     "metadata": {},
     "output_type": "execute_result"
    }
   ],
   "source": [
    "def remove_dupes_a(s):\n",
    "    if len(s) == 0:\n",
    "        return s\n",
    "    \n",
    "    res = \"\"\n",
    "    for i in range(len(s)):\n",
    "        l = s[i]\n",
    "        if l not in res[:i]:\n",
    "            res += l\n",
    "    return res\n",
    "\n",
    "def remove_dupes_b(s):\n",
    "    import math\n",
    "    ln = len(s)\n",
    "    if ln == 0 or ln == 1:\n",
    "        return s\n",
    "    for x in s:\n",
    "    sp = math.floor(ln/2)\n",
    "    return remove_dupes_b(s[:sp]) + remove_dupes_b(s[sp:])\n",
    "\n",
    "funcs = [remove_dupes_a, remove_dupes_b]\n",
    "cases = [string.ascii_letters, string.ascii_letters + \"a\"]\n",
    "exp = [string.ascii_letters, string.ascii_letters]\n",
    "\n",
    "remove_dupes_b(string.ascii_letters + \"a\")\n",
    "# time_and_check(funcs, cases, exp)"
   ]
  },
  {
   "cell_type": "markdown",
   "metadata": {},
   "source": [
    "#### 1.4 Write a method to decide if two strings are anagrams or not\n",
    "\n",
    "Follow up questions:<br>\n",
    "Can I repeat letters?<br>\n",
    "Do we count space as a character? "
   ]
  },
  {
   "cell_type": "code",
   "execution_count": 108,
   "metadata": {},
   "outputs": [
    {
     "name": "stdout",
     "output_type": "stream",
     "text": [
      "True\n",
      "True\n",
      "False\n",
      "False\n"
     ]
    }
   ],
   "source": [
    "def is_anagram_a(s1, s2):\n",
    "    assert s1 != None and s2 != None\n",
    "    s1 = s1.replace(' ', ''); s2 = s2.replace(' ', '')\n",
    "    ss1 = set(s1); ss2 = set(s2)\n",
    "    return len(ss1 & ss2) == len(ss1) and len(s1) == len(s2)\n",
    "\n",
    "# anagrams\n",
    "print(is_anagram_a(\"naga ram\", \"anagram\"))\n",
    "print(is_anagram_a(\"binary\", \"brainy\"))\n",
    "\n",
    "# non-anagrams\n",
    "print(is_anagram_a(\"but\", \"butt\"))\n",
    "print(is_anagram_a(\"lie\", \"tie\"))"
   ]
  },
  {
   "cell_type": "markdown",
   "metadata": {},
   "source": [
    "#### 1.5 Write a method to replace all spaces in a string with ‘%20’\n"
   ]
  },
  {
   "cell_type": "code",
   "execution_count": 109,
   "metadata": {},
   "outputs": [
    {
     "data": {
      "text/plain": [
       "'www.mywebsite.com/the%20coolest%20page%20ever'"
      ]
     },
     "execution_count": 109,
     "metadata": {},
     "output_type": "execute_result"
    }
   ],
   "source": [
    "def url_encode(s):\n",
    "    return s.replace(' ', '%20')\n",
    "url_encode(\"www.mywebsite.com/the coolest page ever\")"
   ]
  },
  {
   "cell_type": "markdown",
   "metadata": {},
   "source": [
    "#### 1.6 Given an image represented by an NxN matrix, where each pixel in the image is 4 bytes, write a method to rotate the image by 90 degrees. Can you do this in place?\n",
    "\n",
    "Clockwise or counter-clockwise?"
   ]
  },
  {
   "cell_type": "code",
   "execution_count": 288,
   "metadata": {},
   "outputs": [
    {
     "data": {
      "image/png": "[encoded data removed]",
      "text/plain": [
       "<Figure size 432x288 with 1 Axes>"
      ]
     },
     "metadata": {
      "needs_background": "light"
     },
     "output_type": "display_data"
    },
    {
     "name": "stdout",
     "output_type": "stream",
     "text": [
      "[[1 2 3]\n",
      " [4 5 6]\n",
      " [7 8 9]]\n",
      "\n",
      "[[7 4 1]\n",
      " [8 5 2]\n",
      " [9 6 3]]\n"
     ]
    },
    {
     "data": {
      "image/png": "[encoded data removed]",
      "text/plain": [
       "<Figure size 432x288 with 1 Axes>"
      ]
     },
     "metadata": {
      "needs_background": "light"
     },
     "output_type": "display_data"
    },
    {
     "data": {
      "image/png": "[encoded data removed]",
      "text/plain": [
       "<Figure size 432x288 with 1 Axes>"
      ]
     },
     "metadata": {
      "needs_background": "light"
     },
     "output_type": "display_data"
    },
    {
     "data": {
      "image/png": "[encoded data removed]",
      "text/plain": [
       "<Figure size 432x288 with 1 Axes>"
      ]
     },
     "metadata": {
      "needs_background": "light"
     },
     "output_type": "display_data"
    },
    {
     "data": {
      "image/png": "[encoded data removed]",
      "text/plain": [
       "<Figure size 432x288 with 1 Axes>"
      ]
     },
     "metadata": {
      "needs_background": "light"
     },
     "output_type": "display_data"
    }
   ],
   "source": [
    "import matplotlib.pyplot as plt\n",
    "import numpy as np\n",
    "import struct\n",
    "\n",
    "# counter clockwise\n",
    "def rotate_90_a(img):\n",
    "    assert len(img) != 0 and len(img) == len(img[0])\n",
    "    arr = np.array(img)\n",
    "    res = arr.copy()\n",
    "    N = arr.shape[0] \n",
    "    res = []\n",
    "    print(arr)\n",
    "    print()\n",
    "    for i in range(N)[::-1]:\n",
    "        row = []\n",
    "        for j in range(N):\n",
    "            row.append(arr[j][i])\n",
    "        res.append(row[::-1])\n",
    "    print(np.reshape(res[::-1], (N, N)))\n",
    "    return res[::-1]\n",
    "    \n",
    "def rotate_90_b(img):\n",
    "    assert img != None and len(img) == len(img[0])\n",
    "    N = len(img)\n",
    "    rot = np.identity(N)[::-1]\n",
    "    return np.array(img).T.dot(rot)\n",
    "       \n",
    "# original image\n",
    "img = [[1, 2, 3], [4, 5, 6], [7, 8, 9]]\n",
    "plt.imshow(img); plt.show();\n",
    "\n",
    "# rotated image\n",
    "plt.imshow(rotate_90_a(img)); plt.show();\n",
    "plt.imshow(rotate_90_b(img)); plt.show();\n",
    "\n",
    "plt.imshow([[1, 2], [3, 4]]); plt.show();\n",
    "plt.imshow(rotate_90_b([[1, 2], [3, 4]]));"
   ]
  },
  {
   "cell_type": "markdown",
   "metadata": {},
   "source": [
    "#### 1.7 Write an algorithm such that if an element in an MxN matrix is 0, its entire row and column is set to 0"
   ]
  },
  {
   "cell_type": "code",
   "execution_count": 289,
   "metadata": {},
   "outputs": [],
   "source": [
    "def to_zero_a(m):\n",
    "    assert len(m) != 0 and type(m) == list\n",
    "    rows = len(m)\n",
    "    cols = len(m[0])\n",
    "    \n",
    "    x = []\n",
    "    rows_idx = []\n",
    "    cols_idx = []\n",
    "    \n",
    "    \n",
    "    for i in range(rows):\n",
    "        row = [0]*cols\n",
    "        \n",
    "        for j in range(cols):\n",
    "            if m[i][j] == 0:\n",
    "                cols_idx.append(j)\n",
    "                rows_idx.append(i)\n",
    "            if not i in rows_idx and not j in cols_idx:\n",
    "                row[j] = m[i][j]            \n",
    "        x.append(row)\n",
    "    return x\n",
    "\n",
    "\n",
    "funcs = [ to_zero_a ]\n",
    "cases = [\n",
    "    [[1, 2, 3], [1, 2, 3]],\n",
    "    [[0, 2, 3], [1, 2, 3]],\n",
    "    [[1, 2, 3], [4, 0, 5], [6, 7, 8]]\n",
    "]\n",
    "exp = [\n",
    "    [[1, 2, 3], [1, 2, 3]],\n",
    "    [[0, 0, 0], [0, 2, 3]],\n",
    "    [[1, 0, 3], [0, 0, 0], [6, 0, 8]] \n",
    "]\n",
    "\n",
    "# time_and_check(funcs, cases, exp)"
   ]
  },
  {
   "cell_type": "markdown",
   "metadata": {},
   "source": [
    "#### 1.8 Assume you have a method isSubstring which checks if one word is a substring of another Given two strings, s1 and s2, write code to check if s2 is a rotation of s1 using only one call to isSubstring (i e , “waterbottle” is a rotation of “erbottlewat”)"
   ]
  },
  {
   "cell_type": "code",
   "execution_count": null,
   "metadata": {},
   "outputs": [],
   "source": []
  }
 ],
 "metadata": {
  "kernelspec": {
   "display_name": "Python 3",
   "language": "python",
   "name": "python3"
  },
  "language_info": {
   "codemirror_mode": {
    "name": "ipython",
    "version": 3
   },
   "file_extension": ".py",
   "mimetype": "text/x-python",
   "name": "python",
   "nbconvert_exporter": "python",
   "pygments_lexer": "ipython3",
   "version": "3.7.3"
  }
 },
 "nbformat": 4,
 "nbformat_minor": 2
}
