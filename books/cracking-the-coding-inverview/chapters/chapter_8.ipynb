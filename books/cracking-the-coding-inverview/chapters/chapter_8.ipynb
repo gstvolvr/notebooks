{
 "cells": [
  {
   "cell_type": "markdown",
   "metadata": {},
   "source": [
    "# Chapter 8: Recursion"
   ]
  },
  {
   "cell_type": "markdown",
   "metadata": {},
   "source": [
    "<b>8.1</b>: Write a method to generate the $n^{th}$ `Fibonacci number`\n",
    "\n",
    "`Fibonnacci` follows the sequence: 0, 1, 1, 2, 3, 5, 8, 13, 21, ....<br>\n",
    "Where `fn(t) = fn(t-1) + fn(t-2)`"
   ]
  },
  {
   "cell_type": "code",
   "execution_count": 37,
   "metadata": {},
   "outputs": [
    {
     "name": "stdout",
     "output_type": "stream",
     "text": [
      "CPU times: user 7 µs, sys: 0 ns, total: 7 µs\n",
      "Wall time: 10 µs\n"
     ]
    }
   ],
   "source": [
    "%%time \n",
    "\n",
    "# 1) Come up with a recursive solution\n",
    "# 2) Memoize\n",
    "# 3) Bottom up approach\n",
    "\n",
    "import time\n",
    "\n",
    "def fibonnacci_a(n):\n",
    "    # brute force\n",
    "    # time complexity: O(2^N)\n",
    "    # space complexity: O(1)\n",
    "    \n",
    "    if n == 0:\n",
    "        return 0\n",
    "    if n == 1: \n",
    "        return 1\n",
    "    \n",
    "    return fibonnacci_a(n-1) + fibonnacci_a(n-2)\n",
    "\n",
    "def fibonnacci(n):\n",
    "    # time complexity: O(N)\n",
    "    # space complexity: O(N)\n",
    "    \n",
    "    memo = {0:0, 1: 1}\n",
    "    \n",
    "    for i in range(2, n+1):\n",
    "        memo[i] = memo[i-1] + memo[i-2]\n",
    "    \n",
    "    return memo[n]\n",
    "\n",
    "fs = [fibonnacci, fibonnacci_a]\n",
    "\n",
    "# for f in fs:\n",
    "#     for i in range(60):\n",
    "#         start = time.time()\n",
    "#         f(i)\n",
    "        \n",
    "#     print(f\"that took: {time.time() - start:0.3f}\")"
   ]
  },
  {
   "cell_type": "markdown",
   "metadata": {},
   "source": [
    "<b>8.2</b>: Imagine a robot sitting on the upper left hand corner of an `NxN` grid. The robot can only move in two directions: right and down. How many possible paths are there for the robot?\n",
    "\n",
    "FOLLOW UP\n",
    "\n",
    "Imagine certain squares are “off limits”, such that the robot can not step on them Design an algorithm to get all possible paths for the robot"
   ]
  },
  {
   "cell_type": "code",
   "execution_count": 268,
   "metadata": {},
   "outputs": [
    {
     "name": "stdout",
     "output_type": "stream",
     "text": [
      "[[0. 0. 0. 0.]\n",
      " [0. 0. 0. 0.]\n",
      " [0. 0. 0. 0.]\n",
      " [0. 0. 0. 0.]]\n",
      "\n",
      "[[20. 10.  4.  1.]\n",
      " [10.  6.  3.  1.]\n",
      " [ 4.  3.  2.  1.]\n",
      " [ 1.  1.  1.  0.]]\n"
     ]
    },
    {
     "data": {
      "text/plain": [
       "20"
      ]
     },
     "execution_count": 268,
     "metadata": {},
     "output_type": "execute_result"
    }
   ],
   "source": [
    "import numpy as np\n",
    "\n",
    "def num_paths_a(grid):\n",
    "    # runtime: O(2^{n^2})\n",
    "    # space\n",
    "    n = len(grid) - 1\n",
    "    \n",
    "    def recurse(i, j):\n",
    "        \n",
    "        if i > n or j > n:\n",
    "            return 0\n",
    "        if i == n and j == n:\n",
    "            return 1\n",
    "        \n",
    "        return recurse(i+1, j) + recurse(i, j+1)\n",
    "    \n",
    "    return recurse(0, 0)\n",
    "            \n",
    "    \n",
    "def num_paths_b(grid):\n",
    "    # runtime: O(N^2)\n",
    "    n = len(grid) - 1\n",
    "    m = {(n, n): 0, (n-1, n): 1, (n, n-1): 1}\n",
    "        \n",
    "    def recurse(i, j):\n",
    "\n",
    "        if i > n or j > n:\n",
    "            return 0\n",
    "        \n",
    "        if (i, j) in m:\n",
    "            return m[(i, j)]\n",
    "        else:\n",
    "            m[(i, j)] = recurse(i+1, j) + recurse(i, j+1)\n",
    "            return m[(i, j)]\n",
    "\n",
    "    \n",
    "    recurse(0, 0)\n",
    "\n",
    "    for x, y in m:\n",
    "        grid[x, y] = m[(x, y)]\n",
    "        \n",
    "    print(grid)\n",
    "    return m[(0, 0)]\n",
    "    \n",
    "# def num_paths(grid):\n",
    "    \n",
    "#     n = len(grid) - 1\n",
    "#     m = {(n, n): 0, (n-1, n): 1, (n, n-1): 1}\n",
    "    \n",
    "#     for \n",
    "\n",
    "n = 10\n",
    "grid = np.zeros((4, 4))\n",
    "print(grid, end=\"\\n\\n\")\n",
    "\n",
    "fs = [num_paths, num_paths_b]\n",
    "     \n",
    "num_paths_b(grid)"
   ]
  },
  {
   "cell_type": "markdown",
   "metadata": {},
   "source": [
    "<b>8.3</b>: Write a method that returns all subsets of a set"
   ]
  },
  {
   "cell_type": "code",
   "execution_count": 235,
   "metadata": {},
   "outputs": [
    {
     "name": "stdout",
     "output_type": "stream",
     "text": [
      "that took:  15.91\n",
      "that took:  126.66\n"
     ]
    }
   ],
   "source": [
    "def subset_a(s):\n",
    "    n = len(s)\n",
    "\n",
    "    def _subset(s, index):\n",
    "        if len(s) == index:\n",
    "            all_subsets = []\n",
    "        else:\n",
    "            all_subsets = _subset(s, index+1)\n",
    "            \n",
    "            item = s[index]\n",
    "            more_subsets = []\n",
    "            \n",
    "            for subset  in all_subsets:\n",
    "                new_subset = []\n",
    "                new_subset += subset\n",
    "                more_subsets.append(new_subset)\n",
    "        \n",
    "        return all_subsets\n",
    "    return _subset(s, 0)\n",
    "\n",
    "def subset_b(s):\n",
    "    n = len(s)\n",
    "    sub = [[]]\n",
    "    \n",
    "    for e in s:\n",
    "        sub += [x+[e] for x in sub]\n",
    "        \n",
    "    return sub\n",
    "\n",
    "def subset_c(s):\n",
    "    sets = []\n",
    "\n",
    "    def is_bit_set(num, bit):\n",
    "        return num & (1 << bit) > 0\n",
    "    for i in range(1 << len(s)):\n",
    "        subset = [s[bit] for bit in range(len(s)) if is_bit_set(i, bit)]\n",
    "        sets.append(subset)\n",
    "    return sets\n",
    "\n",
    "s = [1, 2, 3]\n",
    "\n",
    "fn = [subset_b, subset_c]\n",
    "sub = subset_b(s)\n",
    "\n",
    "for f in fn:\n",
    "    for i in range(20, 25):\n",
    "        start = time.time()\n",
    "        \n",
    "        f(list(range(i)))\n",
    "\n",
    "    print(f\"that took: {time.time() - start: 0.2f}\")"
   ]
  },
  {
   "cell_type": "code",
   "execution_count": 172,
   "metadata": {},
   "outputs": [
    {
     "data": {
      "text/plain": [
       "[[1, 2, 3, 4], [1, 2, 3, 4], [1, 2, 3, 4], [1, 2, 3, 4]]"
      ]
     },
     "execution_count": 172,
     "metadata": {},
     "output_type": "execute_result"
    }
   ],
   "source": [
    "[s for bit in range(len(s))]"
   ]
  },
  {
   "cell_type": "markdown",
   "metadata": {},
   "source": [
    "<b>8.4</b>: Write a method to compute all permutations of a string"
   ]
  },
  {
   "cell_type": "code",
   "execution_count": 265,
   "metadata": {},
   "outputs": [],
   "source": [
    "import math\n",
    "def permute_a(s):\n",
    "    # time complexity: O(n*n!)\n",
    "    # space complexity: ?\n",
    "    permutations = []\n",
    "    \n",
    "    def recurse(d, i, size):\n",
    "        if i == size:\n",
    "            permutations.append(\"\".join(d))\n",
    "        else:\n",
    "            \n",
    "            for j in range(i, size):\n",
    "                d[i], d[j] = d[j], d[i]\n",
    "                recurse(d, i+1, size)\n",
    "                d[i], d[j] = d[j], d[i]\n",
    "                \n",
    "    recurse(list(s), 0, len(s))\n",
    "    return permutations\n",
    "\n",
    "def permute_b(s):\n",
    "    n = len(s)\n",
    "    n_permutations = math.factorial(n)\n",
    "    permutations = [[0] * n] * n_permutations\n",
    "    \n",
    "    j = 0\n",
    "    for i in range(n_permutations):\n",
    "        permutations[i][j] += 1\n",
    "        j += 1\n",
    "        \n",
    "        if j == n:\n",
    "            j = 0\n",
    "            \n",
    "    print(permutations)\n",
    "\n",
    "def permute_b(string):\n",
    "    permutations = []\n",
    "    \n",
    "    def recurse(s):\n",
    "        if not s or len(s) == 0:\n",
    "            return permutations\n",
    "        \n",
    "        if len(s) == 1:\n",
    "            permutations.append(s)\n",
    "\n",
    "        first = s[0]\n",
    "        remainder = s[1:]\n",
    "\n",
    "        words = recurse(remainder)\n",
    "        \n",
    "        for word in words:\n",
    "            for j in range(len(word)):\n",
    "                p = word[:j] + first + word[j:]\n",
    "                permutations.append(p)\n",
    "        return permutations\n",
    "    \n",
    "    return recurse(string)\n",
    "\n",
    "s = \"heya\"\n",
    "# permute_b(s)"
   ]
  },
  {
   "cell_type": "code",
   "execution_count": 242,
   "metadata": {},
   "outputs": [
    {
     "data": {
      "text/plain": [
       "['hey', 'hye', 'ehy', 'eyh', 'yhe', 'yeh']"
      ]
     },
     "execution_count": 242,
     "metadata": {},
     "output_type": "execute_result"
    }
   ],
   "source": [
    "import itertools\n",
    "\n",
    "[ \"\".join(x) for x in itertools.permutations(s)]"
   ]
  },
  {
   "cell_type": "markdown",
   "metadata": {},
   "source": [
    "<b>8.5</b>: Implement an algorithm to print all valid (e g , properly opened and closed) combinations of n-pairs of parentheses\n",
    "\n",
    "`EXAMPLE:`\n",
    "input: 3 (e g , 3 pairs of parentheses)\n",
    "output: ()()(), ()(()), (())(), ((()))"
   ]
  },
  {
   "cell_type": "markdown",
   "metadata": {},
   "source": [
    "<b>8.6</b>: Implement the “paint fill” function that one might see on many image editing programs. That is, given a screen (represented by a 2 dimensional array of Colors), a point, and a new color, fill in the surrounding area until you hit a border of that color"
   ]
  },
  {
   "cell_type": "markdown",
   "metadata": {},
   "source": [
    "<b>8.7</b>: Given an infinite number of quarters (25 cents), dimes (10 cents), nickels (5 cents) and pennies (1 cent), write code to calculate the number of ways of representing n cents"
   ]
  },
  {
   "cell_type": "markdown",
   "metadata": {},
   "source": [
    "<b>8.8</b>: Write an algorithm to print all ways of arranging eight queens on a chess board so that none of them share the same row, column or diagonal"
   ]
  },
  {
   "cell_type": "code",
   "execution_count": null,
   "metadata": {},
   "outputs": [],
   "source": []
  }
 ],
 "metadata": {
  "kernelspec": {
   "display_name": "Python 3",
   "language": "python",
   "name": "python3"
  },
  "language_info": {
   "codemirror_mode": {
    "name": "ipython",
    "version": 3
   },
   "file_extension": ".py",
   "mimetype": "text/x-python",
   "name": "python",
   "nbconvert_exporter": "python",
   "pygments_lexer": "ipython3",
   "version": "3.7.3"
  }
 },
 "nbformat": 4,
 "nbformat_minor": 2
}
