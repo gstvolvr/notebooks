{
 "cells": [
  {
   "cell_type": "markdown",
   "metadata": {},
   "source": [
    "# Chapter 4: Trees and Graphs\n",
    "These questions typically follow the structure of:\n",
    "* Implement a tree / find a node / delete a node\n",
    "* Implement a modification of a well known algorithm"
   ]
  },
  {
   "cell_type": "markdown",
   "metadata": {},
   "source": [
    "## Binary Trees"
   ]
  },
  {
   "cell_type": "code",
   "execution_count": 1,
   "metadata": {},
   "outputs": [],
   "source": [
    "import binarytree as bt\n",
    "\n",
    "def flatten(lst):\n",
    "    return list(map(lambda n: n.value, lst))"
   ]
  },
  {
   "cell_type": "code",
   "execution_count": 19,
   "metadata": {},
   "outputs": [],
   "source": [
    "class Node:\n",
    "    def __init__(self, val): \n",
    "        self.value = val  \n",
    "        self.left = None  \n",
    "        self.right = None \n",
    "        self.level = None \n",
    "\n",
    "    def __str__(self):\n",
    "        return str(self.value) "
   ]
  },
  {
   "cell_type": "code",
   "execution_count": 3,
   "metadata": {},
   "outputs": [],
   "source": [
    "root = Node(5)\n",
    "l_node = Node(3)\n",
    "l_node.left = Node(2)\n",
    "l_node.right = Node(4)\n",
    "\n",
    "r_node = Node(8)\n",
    "r_node.left = Node(6)\n",
    "r_node.right = Node(9)\n",
    "\n",
    "root.left = l_node\n",
    "root.right = r_node\n",
    "\n",
    "root1 = Node(1)\n",
    "root1.left = None\n",
    "root1.right = Node(2)\n",
    "root1.right.left = Node(3)\n",
    "\n",
    "root2 = Node(1)\n",
    "root2.left = None\n",
    "root2.right = Node(2)"
   ]
  },
  {
   "cell_type": "markdown",
   "metadata": {},
   "source": [
    "### In-order traversal:\n",
    "Traverse left node, current node then right (used a lot for binary search trees)"
   ]
  },
  {
   "cell_type": "code",
   "execution_count": 11,
   "metadata": {},
   "outputs": [
    {
     "name": "stdout",
     "output_type": "stream",
     "text": [
      "\n",
      "      _____11___\n",
      "     /          \\\n",
      "  __7__         _13\n",
      " /     \\       /   \\\n",
      "0       10    12    14\n",
      " \\     /\n",
      "  4   8\n",
      "\n"
     ]
    },
    {
     "data": {
      "text/plain": [
       "[0, 4, 7, 8, 10, 11, 12, 13, 14]"
      ]
     },
     "execution_count": 11,
     "metadata": {},
     "output_type": "execute_result"
    }
   ],
   "source": [
    "def inorder_traversal(root):\n",
    "    order = []\n",
    "    \n",
    "    def traverse(root, order):\n",
    "        if not root:\n",
    "            return order\n",
    "\n",
    "        if root.left and root.right:\n",
    "            traverse(root.left, order)\n",
    "            order.append(root.value)\n",
    "            traverse(root.right, order)\n",
    "\n",
    "        elif root.left:\n",
    "            traverse(root.left, order)\n",
    "            order.append(root.value)\n",
    "\n",
    "        else:\n",
    "            order.append(root.value)\n",
    "            traverse(root.right, order)\n",
    "\n",
    "        return order\n",
    "    \n",
    "    return traverse(root, order)\n",
    "\n",
    "t = bt.bst()\n",
    "print(t)\n",
    "inorder_traversal(t)"
   ]
  },
  {
   "cell_type": "markdown",
   "metadata": {},
   "source": [
    "### Pre-order traversal:\n",
    "Traverse current node, then left, then right"
   ]
  },
  {
   "cell_type": "code",
   "execution_count": 12,
   "metadata": {},
   "outputs": [
    {
     "name": "stdout",
     "output_type": "stream",
     "text": [
      "\n",
      "0______\n",
      "       \\\n",
      "      __9___\n",
      "     /      \\\n",
      "    7       _14\n",
      "   / \\     /\n",
      "  1   8   12\n",
      "\n"
     ]
    },
    {
     "data": {
      "text/plain": [
       "[0, 9, 7, 1, 8, 14, 12]"
      ]
     },
     "execution_count": 12,
     "metadata": {},
     "output_type": "execute_result"
    }
   ],
   "source": [
    "def preorder_traversal(root):\n",
    "    order = []\n",
    "\n",
    "    def traverse(root, order):\n",
    "        if not root:\n",
    "            return order\n",
    "        \n",
    "        order.append(root.value)\n",
    "        \n",
    "        if root.left and root.right:\n",
    "            traverse(root.left, order)\n",
    "            traverse(root.right, order)\n",
    "        elif root.left:\n",
    "            traverse(root.left, order)\n",
    "        else:\n",
    "            traverse(root.right, order)\n",
    "            \n",
    "        return order\n",
    "    \n",
    "    return traverse(root, order)\n",
    "\n",
    "t = bt.bst()\n",
    "print(t)\n",
    "preorder_traversal(t)"
   ]
  },
  {
   "cell_type": "markdown",
   "metadata": {},
   "source": [
    "### Post-order traversal:\n",
    "Traverse left node, then right, then current"
   ]
  },
  {
   "cell_type": "code",
   "execution_count": 14,
   "metadata": {},
   "outputs": [
    {
     "name": "stdout",
     "output_type": "stream",
     "text": [
      "\n",
      "      _____13\n",
      "     /       \\\n",
      "    8         14\n",
      "   / \\\n",
      "  7   9\n",
      " /     \\\n",
      "4       10\n",
      "\n"
     ]
    },
    {
     "data": {
      "text/plain": [
       "[4, 7, 10, 9, 8, 14, 13]"
      ]
     },
     "execution_count": 14,
     "metadata": {},
     "output_type": "execute_result"
    }
   ],
   "source": [
    "def postorder_traversal(root):\n",
    "    order = []\n",
    "    \n",
    "    def traverse(root, order):\n",
    "        if not root:\n",
    "            return order\n",
    "        \n",
    "        if root.left and root.right:\n",
    "            traverse(root.left, order)\n",
    "            traverse(root.right, order)\n",
    "            order.append(root.value)\n",
    "        elif root.left:\n",
    "            traverse(root.left, order)\n",
    "            order.append(root.value)\n",
    "        else:\n",
    "            traverse(root.right, order)\n",
    "            order.append(root.value)\n",
    "        return order\n",
    "    \n",
    "    return traverse(root, order)\n",
    "\n",
    "t = bt.bst()\n",
    "print(t)\n",
    "postorder_traversal(t)"
   ]
  },
  {
   "cell_type": "markdown",
   "metadata": {},
   "source": [
    "Check all traversal methods:"
   ]
  },
  {
   "cell_type": "code",
   "execution_count": 16,
   "metadata": {},
   "outputs": [
    {
     "name": "stdout",
     "output_type": "stream",
     "text": [
      "postorder time: 0.1503 preorder time: 0.1435 inorder time: 0.1416\n"
     ]
    }
   ],
   "source": [
    "import time\n",
    "t_po, t_pr, t_in = 0, 0, 0\n",
    "for _ in range(1000):\n",
    "    tree = bt.bst()\n",
    "    \n",
    "    s = time.time()\n",
    "    assert postorder_traversal(tree) == flatten(tree.postorder)\n",
    "    t_po += (time.time() - s)\n",
    "    \n",
    "    s = time.time()\n",
    "    assert preorder_traversal(tree) == flatten(tree.preorder)\n",
    "    t_pr += (time.time() - s)\n",
    "    \n",
    "    s = time.time()\n",
    "    assert inorder_traversal(tree) == flatten(tree.inorder)\n",
    "    t_in += (time.time() - s)\n",
    "\n",
    "print(f\"postorder time: {t_po:0.4f}\", f\"preorder time: {t_pr:0.4f}\", f\"inorder time: {t_in:0.4f}\")"
   ]
  },
  {
   "cell_type": "markdown",
   "metadata": {},
   "source": [
    "### Insert node:\n",
    "On a binary search tree, we insert a value <em>v</em> by comparing it to the root. If <em>v > root</em>, we go right, and else we go left. We do this until we hit an empty spot in the tree."
   ]
  },
  {
   "cell_type": "code",
   "execution_count": 26,
   "metadata": {},
   "outputs": [
    {
     "data": {
      "text/plain": [
       "[1, 2, 3, 4, 5, 6, 7, 8, 9, 10]"
      ]
     },
     "execution_count": 26,
     "metadata": {},
     "output_type": "execute_result"
    }
   ],
   "source": [
    "class BinarySearchTree:\n",
    "    def __init__(self): \n",
    "        self.root = None\n",
    "\n",
    "    def create(self, value):  \n",
    "        if not self.root:\n",
    "            self.root = Node(value)\n",
    "        else:\n",
    "            current = self.root\n",
    "         \n",
    "            while True:\n",
    "                if value < current.value:\n",
    "                    if current.left:\n",
    "                        current = current.left\n",
    "                    else:\n",
    "                        current.left = Node(value)\n",
    "                        break\n",
    "                elif value > current.value:\n",
    "                    if current.right:\n",
    "                        current = current.right\n",
    "                    else:\n",
    "                        current.right = Node(value)\n",
    "                        break\n",
    "                else:\n",
    "                    break\n",
    "                    \n",
    "    def in_order_traversal(self):\n",
    "        \n",
    "        def recurse(tree, order):\n",
    "            if not tree:\n",
    "                return order\n",
    "            \n",
    "            if tree.left and tree.right:\n",
    "                recurse(tree.left, order)\n",
    "                order.append(tree.value)\n",
    "                recurse(tree.right, order)\n",
    "            elif tree.left:\n",
    "                recurse(tree.left, order)\n",
    "                order.append(tree.value)\n",
    "            else:\n",
    "                order.append(tree.value)\n",
    "                recurse(tree.right, order)\n",
    "                \n",
    "            return order\n",
    "        \n",
    "        return recurse(self.root, [])\n",
    "            \n",
    "tree = BinarySearchTree()\n",
    "for n in range(10, 0, -1):\n",
    "    tree.create(n)\n",
    "\n",
    "tree.in_order_traversal()"
   ]
  },
  {
   "cell_type": "markdown",
   "metadata": {},
   "source": [
    "# Graphs\n",
    "\n",
    "### Depth First Search\n",
    "Use a recursive approach. \n",
    "\n",
    "### Breadth First Search\n",
    "Use an iterative approach using a `queue` or something similar."
   ]
  },
  {
   "cell_type": "code",
   "execution_count": 124,
   "metadata": {},
   "outputs": [],
   "source": [
    "class Node():\n",
    "    \n",
    "    def __init__(self, data):\n",
    "        self.id = data\n",
    "        self.next = None\n",
    "        \n",
    "class LinkedList():\n",
    "    def __init__(self):\n",
    "        self.head = None\n",
    "        self.size = 0\n",
    "        \n",
    "    def add(self, idx):\n",
    "        if not self.head:\n",
    "            self.head = Node(idx)\n",
    "            self.size += 1\n",
    "            return\n",
    "        \n",
    "        current = self.head\n",
    "        \n",
    "        while current.next:\n",
    "            current = current.next\n",
    "        \n",
    "        current.next = Node(idx)\n",
    "        self.size += 1\n",
    "    \n",
    "    def __iter__(self):\n",
    "        return self\n",
    "    \n",
    "    def __next__(self):\n",
    "        self.head = self.head.next\n",
    "        return self.head\n",
    "    \n",
    "    def is_empty(self):\n",
    "        return self.size == 0\n",
    "\n",
    "    def remove(self):\n",
    "        item = self.head\n",
    "        self.head = self.head.next\n",
    "        self.size -= 1\n",
    "        return item\n",
    "\n",
    "class GraphNode():\n",
    "    def __init__(self, idx):\n",
    "        self.id = idx\n",
    "        self.adjacent = []\n",
    "        \n",
    "class Graph():\n",
    "    def __init__(self):        \n",
    "        self.node_lookup = {}\n",
    "        \n",
    "    def add_edge(self, source, destination):\n",
    "        if not source in self.node_lookup:\n",
    "            s = GraphNode(source)\n",
    "            self.node_lookup[source] = s\n",
    "        else:\n",
    "            s = self.node_lookup[source]\n",
    "        \n",
    "        if not destination in self.node_lookup:\n",
    "            d = GraphNode(destination)\n",
    "            self.node_lookup[destination] = d\n",
    "        else:\n",
    "            d = self.node_lookup[destination]\n",
    "            \n",
    "        d.adjacent.append(s)\n",
    "        s.adjacent.append(d)\n",
    "      \n",
    "    # takes in id's\n",
    "    def has_path_dfs(self, source, destination):\n",
    "        s = self.node_lookup[source]\n",
    "        d = self.node_lookup[destination]\n",
    "        visited = set([])\n",
    "        return self._has_path_dfs(s, d, visited)\n",
    "    \n",
    "    # takes in nodes\n",
    "    def _has_path_dfs(self, s, d, visited):\n",
    "        \n",
    "        # there is no path\n",
    "        if s.id in visited:\n",
    "            return False\n",
    "        \n",
    "        visited.update([s.id])\n",
    "        \n",
    "        if s == d:\n",
    "            return True\n",
    "        \n",
    "        for child in s.adjacent:\n",
    "            if self._has_path_dfs(child, d, visited):\n",
    "                return True\n",
    "        return False     \n",
    "    \n",
    "    # takes in id's\n",
    "    def has_path_bfs(self, source, destination):\n",
    "        s = self.node_lookup[source]\n",
    "        d = self.node_lookup[destination]\n",
    "        return self._has_path_bfs(s, d)\n",
    "    \n",
    "    def _has_path_bfs(self, source, destination):\n",
    "        next_to_visit = []\n",
    "        visited = set([])\n",
    "        next_to_visit.append(source)\n",
    "        \n",
    "        while len(next_to_visit) != 0:\n",
    "            node = next_to_visit[0]\n",
    "            next_to_visit = next_to_visit[1:] # have to look at front of the list\n",
    "            \n",
    "            if node == destination:\n",
    "                return True\n",
    "            if node.id in visited:\n",
    "                continue\n",
    "            visited.update([node.id])\n",
    "            \n",
    "            next_to_visit.extend(node.adjacent)\n",
    "                \n",
    "        return False"
   ]
  },
  {
   "cell_type": "code",
   "execution_count": 126,
   "metadata": {},
   "outputs": [
    {
     "data": {
      "text/plain": [
       "True"
      ]
     },
     "execution_count": 126,
     "metadata": {},
     "output_type": "execute_result"
    }
   ],
   "source": [
    "g = Graph()\n",
    "g.add_edge(0, 1)\n",
    "g.add_edge(1, 2)\n",
    "g.add_edge(2, 0)\n",
    "g.add_edge(2, 3)\n",
    "g.add_edge(3, 4)\n",
    "\n",
    "g.has_path_bfs(0, 1)"
   ]
  },
  {
   "cell_type": "markdown",
   "metadata": {},
   "source": [
    "Representing my graph as an `adjacency list`"
   ]
  },
  {
   "cell_type": "code",
   "execution_count": 2,
   "metadata": {},
   "outputs": [],
   "source": [
    "graph = {'A': set(['B', 'C']),\n",
    "         'B': set(['A', 'D', 'E']),\n",
    "         'C': set(['A', 'F']),\n",
    "         'D': set(['B']),\n",
    "         'E': set(['B', 'F']),\n",
    "         'F': set(['C', 'E'])}"
   ]
  },
  {
   "cell_type": "markdown",
   "metadata": {},
   "source": [
    "### Depth First Search\n",
    "It's implemented with a recursive algorithm"
   ]
  },
  {
   "cell_type": "code",
   "execution_count": 3,
   "metadata": {},
   "outputs": [
    {
     "data": {
      "text/plain": [
       "{'A', 'B', 'C', 'D', 'E', 'F'}"
      ]
     },
     "execution_count": 3,
     "metadata": {},
     "output_type": "execute_result"
    }
   ],
   "source": [
    "# def dfs(graph, start):\n",
    "#     visited, stack = set(), [start]\n",
    "#     while stack:\n",
    "#         vertex = stack.pop()\n",
    "#         if vertex not in visited:\n",
    "#             visited.add(vertex)\n",
    "#             stack.extend(graph[vertex] - visited)\n",
    "#     return visited\n",
    "\n",
    "# dfs(graph, 'A') "
   ]
  },
  {
   "cell_type": "markdown",
   "metadata": {},
   "source": [
    "### Breadth First Search\n",
    "You want to use a `queue`"
   ]
  },
  {
   "cell_type": "code",
   "execution_count": 4,
   "metadata": {},
   "outputs": [
    {
     "data": {
      "text/plain": [
       "{'A', 'B', 'C', 'D', 'E', 'F'}"
      ]
     },
     "execution_count": 4,
     "metadata": {},
     "output_type": "execute_result"
    }
   ],
   "source": [
    "# def bfs(graph, start):\n",
    "#     visited, queue = set(), [start]\n",
    "#     while queue:\n",
    "#         vertex = queue.pop(0)\n",
    "#         if vertex not in visited:\n",
    "#             visited.add(vertex)\n",
    "#             queue.extend(graph[vertex] - visited)\n",
    "#     return visited\n",
    "\n",
    "# bfs(graph, 'A') # {'B', 'C', 'A', 'F', 'D', 'E'}\n"
   ]
  },
  {
   "cell_type": "code",
   "execution_count": 64,
   "metadata": {},
   "outputs": [
    {
     "data": {
      "text/plain": [
       "True"
      ]
     },
     "execution_count": 64,
     "metadata": {},
     "output_type": "execute_result"
    }
   ],
   "source": [
    "\n",
    "this_tree = bt.bst()\n",
    "assert flatten(this_tree.postorder) == postorder_traversal(this_tree)"
   ]
  },
  {
   "cell_type": "code",
   "execution_count": 222,
   "metadata": {},
   "outputs": [],
   "source": [
    "def count_nodes(root):\n",
    "    \"initial try\"\n",
    "    if not root:\n",
    "        return 0\n",
    "    \n",
    "    if root.left and root.right:\n",
    "        return 1 + count_nodes(root.left) + count_nodes(root.right)\n",
    "    elif root.left:\n",
    "        return 1 + count_nodes(root.left)\n",
    "    else:\n",
    "        return 1 + count_nodes(root.right)\n",
    "    \n",
    "def count_nodes(root):\n",
    "    \"cleaner version\"\n",
    "    return count_nodes(root.left) + count_nodes(root.right) + 1 if root else 0\n",
    "    \n",
    "for _ in range(5000):\n",
    "    t = bt.bst()\n",
    "    assert t.size == count_nodes(t)"
   ]
  },
  {
   "cell_type": "code",
   "execution_count": 241,
   "metadata": {},
   "outputs": [
    {
     "name": "stdout",
     "output_type": "stream",
     "text": [
      "\n",
      "  __7________\n",
      " /           \\\n",
      "5         ____13\n",
      " \\       /\n",
      "  6     10\n",
      "       /  \\\n",
      "      8    11\n",
      "\n"
     ]
    },
    {
     "data": {
      "text/plain": [
       "(Node(11), 3)"
      ]
     },
     "execution_count": 241,
     "metadata": {},
     "output_type": "execute_result"
    }
   ],
   "source": [
    "def deepest_node(root):\n",
    "    \n",
    "    def _traverse(root, deepest, level):\n",
    "        if not root:\n",
    "            return deepest, level-1\n",
    "        \n",
    "        if root.left and root.right:\n",
    "            ld, ll = _traverse(root.left, root, level+1)\n",
    "            rd, rl = _traverse(root.right, root, level+1)\n",
    "            \n",
    "            if ll > rl:\n",
    "                return ld, ll\n",
    "            else: \n",
    "                return rd, rl\n",
    "            \n",
    "        elif root.left:\n",
    "            ld, ll = _traverse(root.left, root, level+1)\n",
    "            return ld, ll\n",
    "        else:\n",
    "            rd, rl = _traverse(root.right, root, level+1)\n",
    "            return rd, rl\n",
    "            \n",
    "        \n",
    "    return _traverse(root, root, 0)\n",
    "\n",
    "t = bt.bst()\n",
    "print(t)\n",
    "\n",
    "deepest_node(t)"
   ]
  },
  {
   "cell_type": "markdown",
   "metadata": {},
   "source": [
    "<b>4.1</b>: Implement a function to check if a tree is balanced. For the purposes of this question, a balanced tree is defined to be a tree such that no two leaf nodes differ in distance from the root by more than one"
   ]
  },
  {
   "cell_type": "code",
   "execution_count": 31,
   "metadata": {},
   "outputs": [
    {
     "name": "stdout",
     "output_type": "stream",
     "text": [
      "\n",
      "  ______7_____\n",
      " /            \\\n",
      "0__           _13\n",
      "   \\         /   \\\n",
      "    5       12    14\n",
      "   / \\     /\n",
      "  2   6   9\n",
      "\n",
      "False\n"
     ]
    },
    {
     "data": {
      "text/plain": [
       "False"
      ]
     },
     "execution_count": 31,
     "metadata": {},
     "output_type": "execute_result"
    }
   ],
   "source": [
    "def check(a, b):\n",
    "    return a - b < 2\n",
    "\n",
    "def is_balanced(tree):\n",
    "    \n",
    "    def depth(tree, f):\n",
    "        if not tree:\n",
    "            return 0\n",
    "\n",
    "        return 1 + f(depth(tree.left, f), depth(tree.right, f))\n",
    "    \n",
    "    return check(depth(tree, max), depth(tree, min))\n",
    "\n",
    "t = bt.bst()\n",
    "print(t)\n",
    "print(t.is_balanced)\n",
    "is_balanced(t)"
   ]
  },
  {
   "cell_type": "markdown",
   "metadata": {},
   "source": [
    "<b>4.2</b>: Given a directed graph, design an algorithm to find out whether there is a route between two nodes"
   ]
  },
  {
   "cell_type": "code",
   "execution_count": 38,
   "metadata": {},
   "outputs": [],
   "source": [
    "# TODO\n",
    "class GraphNode():\n",
    "    def __init__(self, value):\n",
    "        self.in_node = None\n",
    "        self.out_node = None\n",
    "        self.val = value\n",
    "        \n",
    "class Graph():\n",
    "    def __init__(self):\n",
    "        self.root = None\n",
    "    \n",
    "    def route_between(self, node_a, node_b):\n",
    "\n",
    "        root = self.find_node(node_a)\n",
    "        \n",
    "        while root:\n",
    "            if root == node_b:\n",
    "                return True\n",
    "            root = root.out_node\n",
    "                \n",
    "            \n",
    "    \n",
    "    def find_node(self, node):\n",
    "        root = self.root\n",
    "        \n",
    "        while root:\n",
    "            if root == node:\n",
    "                return node\n",
    "            root = self.root.out_node\n",
    "        return\n",
    "    \n",
    "graph = Graph()\n",
    "graph.root = GraphNode(1)\n",
    "graph.root.out_node = GraphNode(2)\n",
    "graph.root.out_node.in_node = GraphNode(1)\n",
    "\n",
    "# graph.route_between(GraphNode(1), GraphNode(2))"
   ]
  },
  {
   "cell_type": "markdown",
   "metadata": {},
   "source": [
    "<b>4.3</b>: Given a sorted (increasing order) array, write an algorithm to create a binary tree with minimal height"
   ]
  },
  {
   "cell_type": "code",
   "execution_count": 44,
   "metadata": {},
   "outputs": [],
   "source": [
    "# TODO\n",
    "def build(val, root=None):\n",
    "    if not root:\n",
    "        current = Node(val)\n",
    "    else:\n",
    "        current = root\n",
    "        node = Node(val)\n",
    "\n",
    "        while True:\n",
    "\n",
    "            if node.value < root.value:\n",
    "                if root.left:\n",
    "                    current = current.left\n",
    "                else:\n",
    "                    current.left = node\n",
    "                    break\n",
    "\n",
    "            elif node.value > root.value:\n",
    "                if current.right:\n",
    "                    current = current.right\n",
    "                else:\n",
    "                    current.right = node\n",
    "                    break\n",
    "            else:\n",
    "                break\n",
    "                \n",
    "    return current\n",
    "                \n",
    "# root = None\n",
    "# root = BinarySearchTree()\n",
    "\n",
    "# for x in [3, 4, 5]:\n",
    "#     root.create(x)\n",
    "# root\n",
    "\n",
    "arr = [1, 2, 3, 4]\n",
    "root = None\n",
    "for v in arr: \n",
    "    root = build(v)\n",
    "    \n",
    "root.left"
   ]
  },
  {
   "cell_type": "code",
   "execution_count": 269,
   "metadata": {},
   "outputs": [
    {
     "name": "stdout",
     "output_type": "stream",
     "text": [
      "4\n",
      "5 3\n"
     ]
    }
   ],
   "source": [
    "def add_to_tree(arr, start, end):\n",
    "    if end < start:\n",
    "        return\n",
    "    mid = int((start + end) / 2)\n",
    "    n = Node(arr[mid])\n",
    "    n.left = add_to_tree(arr, start, mid-1)\n",
    "    n.right = add_to_tree(arr, mid+1, end)\n",
    "    return n\n",
    "\n",
    "def minimal_bst(arr):\n",
    "    return add_to_tree(arr, 0, len(arr) - 1)\n",
    "\n",
    "root = minimal_bst([5, 4, 3])\n",
    "\n",
    "curr = root\n",
    "print(curr.value)\n",
    "if curr.left and curr.right:\n",
    "    print(curr.left.value, curr.right.value)\n",
    "\n"
   ]
  },
  {
   "cell_type": "markdown",
   "metadata": {},
   "source": [
    "<b>4.4</b>: Given a binary search tree, design an algorithm which creates a linked list of all the nodes at each depth (i e , if you have a tree with depth `D`, you’ll have `D` linked lists)"
   ]
  },
  {
   "cell_type": "markdown",
   "metadata": {},
   "source": [
    "<b>4.5</b>: Write an algorithm to find the ‘next’ node (i e , in-order successor) of a given node in a binary search tree where each node has a link to its parent"
   ]
  },
  {
   "cell_type": "markdown",
   "metadata": {},
   "source": [
    "<b>4.6</b>: Design an algorithm and write code to find the first common ancestor of two nodes in a binary tree Avoid storing additional nodes in a data structure NOTE: This is not necessarily a binary search tree"
   ]
  },
  {
   "cell_type": "markdown",
   "metadata": {},
   "source": [
    "<b>4.7</b>: You have two very large binary trees: T1, with millions of nodes, and T2, with hundreds of nodes. Create an algorithm to decide if T2 is a subtree of T1"
   ]
  },
  {
   "cell_type": "code",
   "execution_count": 331,
   "metadata": {},
   "outputs": [
    {
     "data": {
      "text/plain": [
       "True"
      ]
     },
     "execution_count": 331,
     "metadata": {},
     "output_type": "execute_result"
    }
   ],
   "source": [
    "def subtree(t1, t2):\n",
    "    # start with easier problem — are these two trees the same\n",
    "    \n",
    "    def same(t1, t2):       \n",
    "        \"\"\"check if two trees are the same\"\"\"\n",
    "        if not t1 and not t2:\n",
    "            return True\n",
    "        \n",
    "        # empty tree is a subtree\n",
    "        elif t1 and not t2:\n",
    "            return True\n",
    "        \n",
    "        elif not t1 and t2:\n",
    "            return False\n",
    "            \n",
    "        if t1.value == t2.value:\n",
    "            return same(t1.left, t2.left) and same(t1.right, t2.right)\n",
    "        \n",
    "        else:\n",
    "            return False\n",
    "    \n",
    "    def traverse(t1, t2):\n",
    "        \n",
    "        if not t1 or not t2:\n",
    "            return False\n",
    "        \n",
    "        if same(t1, t2):\n",
    "            return True\n",
    "        \n",
    "        else: \n",
    "            return traverse(t1.left, t2) or traverse(t1.right, t2)\n",
    "\n",
    "        \n",
    "    return traverse(t1, t2)\n",
    "\n",
    "subtree(root, root2)"
   ]
  },
  {
   "cell_type": "markdown",
   "metadata": {},
   "source": [
    "<b>4.8</b> You are given a binary tree in which each node contains a value. Design an algorithm to print all paths which sum up to that value Note that it can be any path in the tree - it does not have to start at the root"
   ]
  },
  {
   "cell_type": "code",
   "execution_count": 371,
   "metadata": {},
   "outputs": [
    {
     "data": {
      "text/plain": [
       "[[1, 2, 3]]"
      ]
     },
     "execution_count": 371,
     "metadata": {},
     "output_type": "execute_result"
    }
   ],
   "source": [
    "def path_to_sum(t, v):\n",
    "    \n",
    "    def traverse(t, s=[], paths=[]):\n",
    "        if sum(s) == v and s not in paths:\n",
    "            paths.append(s)\n",
    "            return paths\n",
    "        \n",
    "        if not t:\n",
    "            return paths\n",
    "        \n",
    "        s.append(t.value)\n",
    "        paths = traverse(t.left, s, paths)\n",
    "        return traverse(t.right, s, paths)        \n",
    "    \n",
    "\n",
    "    return traverse(t) #list(filter(lambda x: len(x) > 0, traverse(t)))\n",
    "\n",
    "path_to_sum(root1, 6)"
   ]
  },
  {
   "cell_type": "code",
   "execution_count": null,
   "metadata": {},
   "outputs": [],
   "source": []
  }
 ],
 "metadata": {
  "kernelspec": {
   "display_name": "Python 3",
   "language": "python",
   "name": "python3"
  },
  "language_info": {
   "codemirror_mode": {
    "name": "ipython",
    "version": 3
   },
   "file_extension": ".py",
   "mimetype": "text/x-python",
   "name": "python",
   "nbconvert_exporter": "python",
   "pygments_lexer": "ipython3",
   "version": "3.7.3"
  }
 },
 "nbformat": 4,
 "nbformat_minor": 2
}
