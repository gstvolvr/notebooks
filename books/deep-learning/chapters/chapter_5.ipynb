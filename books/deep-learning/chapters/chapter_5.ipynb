{
 "cells": [
  {
   "cell_type": "markdown",
   "metadata": {},
   "source": [
    "# 5.5 Maximum Likelihood Estimation\n",
    "Derive functions that are good estimators for specific models. \n",
    "\n",
    "---\n",
    "Consider a `set` of $m$ examples $\\mathbb{X} = \\{ x^{(1)}, \\dots, x^{m} \\}$ drawn from some unknown distribution $p_{data}(x)$. \n",
    "\n",
    "---\n",
    "\n",
    "\n",
    "$p_{model}(x;\\theta)$ is a `parametric family` of probability distributions over the same space indexed by $\\theta$.\n",
    "\n",
    "\n",
    "The `MLE` for $\\theta$ is:<br>\n",
    "$\\theta_{ML} = arg max_{\\theta} p_{model}(\\mathbb{X},\\theta) = arg max_{\\theta} \\prod_{i=1}^{m} p_{model}(x^{(i)};\\theta)$\n",
    "\n",
    "There are can be some issues with larger products, like numerical underflow. We take the `log` of the product to convert it into a sum:<br>\n",
    "$\\theta_{ML} = arg max_{\\theta} \\sum_{i=1}^{m} log~p_{model}(x^{(i)};\\theta)$\n"
   ]
  },
  {
   "cell_type": "code",
   "execution_count": null,
   "metadata": {},
   "outputs": [],
   "source": []
  }
 ],
 "metadata": {
  "kernelspec": {
   "display_name": "Python 3",
   "language": "python",
   "name": "python3"
  },
  "language_info": {
   "codemirror_mode": {
    "name": "ipython",
    "version": 3
   },
   "file_extension": ".py",
   "mimetype": "text/x-python",
   "name": "python",
   "nbconvert_exporter": "python",
   "pygments_lexer": "ipython3",
   "version": "3.7.3"
  }
 },
 "nbformat": 4,
 "nbformat_minor": 2
}
