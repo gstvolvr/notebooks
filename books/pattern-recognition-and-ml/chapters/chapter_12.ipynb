{
 "cells": [
  {
   "cell_type": "markdown",
   "metadata": {},
   "source": [
    "# Chapter 12: Principal Component Analysis\n",
    "Linear dimensionality reduction technique that uses [singular value decomposition](../linear-algebra/singular_value_decomposition.ipynb). `PCA` can be defined as the orthogonal projection of data onto a lower dimensional linear space - the principal subspace - such that the variance of the projected data is maximized. \n",
    "\n",
    "\n",
    "## Chapter 12.1.1: Maximum variance formulation\n",
    "Say we have some dataset $\\{x_n\\}$ where $n = 1,\\dots,N$ and $x_n$ is a `euclidean variable` with dimensionality $D$. Our goal is to project the data onto a space having dimensionality $M < D$ while maximizing the variable of the projected data. \n",
    "\n",
    "Starting off with something simple, $M=1$. We'll use $u_1$ as a $D$ dimensional vector to define the `direction` of this space. Each point $x_n$ is projected ontol a scalar value $u_1^Tx_n$. \n",
    "\n",
    "The `mean` of the projected data is:\n",
    "$$\\bar{x} = \\frac{1}{N} \\sum_{n=1}^N x_n$$\n",
    "\n",
    "The `variables` of the projected data is given by:\n",
    "\n",
    "$$\\frac{1}{n} \\sum_{n=1}^N \\{u_1^Tx_n - u_1^T\\bar{x}\\}^2 = u_1^TSu_1$$\n",
    "\n",
    "Where $S$ is the data `covariance` matrix defined by:\n",
    "$$S = \\frac{1}{N}\\sum_{n=1}^N(x_n-\\bar{x})(x_n - \\bar{x})^T$$"
   ]
  },
  {
   "cell_type": "code",
   "execution_count": null,
   "metadata": {},
   "outputs": [],
   "source": []
  }
 ],
 "metadata": {
  "kernelspec": {
   "display_name": "Python 3",
   "language": "python",
   "name": "python3"
  },
  "language_info": {
   "codemirror_mode": {
    "name": "ipython",
    "version": 3
   },
   "file_extension": ".py",
   "mimetype": "text/x-python",
   "name": "python",
   "nbconvert_exporter": "python",
   "pygments_lexer": "ipython3",
   "version": "3.7.4"
  }
 },
 "nbformat": 4,
 "nbformat_minor": 2
}
