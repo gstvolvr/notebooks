{
 "cells": [
  {
   "cell_type": "markdown",
   "metadata": {},
   "source": [
    "# Chapter 9: Mixture Models and EM"
   ]
  },
  {
   "cell_type": "markdown",
   "metadata": {},
   "source": [
    "### 9.1 K-means clustering\n",
    "\n",
    "We are interested in `clustering` data points in a multidimensional space. Consider a data set $\\{x_1 \\dots x_N\\}$. We split the data into `K` clusters, with the following objective function:\n",
    "\n",
    "$$J=\\sum_{n=1}^N\\sum_{k=1}^K r_{nk}||x_n - \\mu_k||^2$$\n",
    "\n",
    "Where $r_{nk} \\in \\{0, 1\\}$ is an `indicator variable` that assigns a group to a particular cluster, and $\\mu_k$ is the mean of cluster $k$. This represents the `sum of squares` of distances of each data point to it's assigned vector $\\mu_k$.\n",
    "\n",
    "We want to find values of $r_{nk}$ and $\\mu_k$ to minimize $J$. We do this through an iterative proceduer where we:\n",
    "<ol>"
   ]
  },
  {
   "cell_type": "code",
   "execution_count": null,
   "metadata": {},
   "outputs": [],
   "source": []
  }
 ],
 "metadata": {
  "kernelspec": {
   "display_name": "Python 3",
   "language": "python",
   "name": "python3"
  },
  "language_info": {
   "codemirror_mode": {
    "name": "ipython",
    "version": 3
   },
   "file_extension": ".py",
   "mimetype": "text/x-python",
   "name": "python",
   "nbconvert_exporter": "python",
   "pygments_lexer": "ipython3",
   "version": "3.7.4"
  }
 },
 "nbformat": 4,
 "nbformat_minor": 2
}
