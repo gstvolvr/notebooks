{
 "cells": [
  {
   "cell_type": "markdown",
   "metadata": {},
   "source": [
    "# Airline Price Optimization\n",
    "Kaggle released an interesting [optimization challenge](https://www.kaggle.com/general/62469) about a year ago. It follows:\n",
    "\n",
    "> You are selling airline tickets over a limited number of days. You know that demand follows a uniform distribution between `[100, 200]`. \n",
    "\n",
    "> <b>Objective:</b> Maximize revenue from airline ticket sales knowing available tickets for sale (`tickets_left`), days until departure (`days_left`), and daily demand (`demand_level`).\n",
    "\n",
    "> <b>Constraints:</b>\n",
    "* You only have `days_left` to sell `tickets_left`\n",
    "* You cannot sell more tickets than `ticets_left`"
   ]
  },
  {
   "cell_type": "code",
   "execution_count": 1,
   "metadata": {},
   "outputs": [],
   "source": [
    "# ignore this cell\n",
    "from IPython.display import display, Javascript\n",
    "import json\n",
    "from numpy.random import uniform, seed\n",
    "from numpy import floor\n",
    "from collections import namedtuple\n",
    "import sys\n",
    "\n",
    "def _tickets_sold(p, demand_level, max_qty):\n",
    "        quantity_demanded = floor(max(0, p - demand_level))\n",
    "        return min(quantity_demanded, max_qty)\n",
    "\n",
    "def simulate_revenue(days_left, tickets_left, pricing_function, rev_to_date=0, demand_level_min=100, demand_level_max=200, verbose=False):\n",
    "    if (days_left == 0) or (tickets_left == 0):\n",
    "        if verbose:\n",
    "            if (days_left == 0):\n",
    "                print(\"The flight took off today. \")\n",
    "            if (tickets_left == 0):\n",
    "                print(\"This flight is booked full.\")\n",
    "            print(\"Total Revenue: ${:.0f}\".format(rev_to_date))\n",
    "        return rev_to_date\n",
    "    else:\n",
    "        demand_level = uniform(demand_level_min, demand_level_max)\n",
    "        p = pricing_function(days_left, tickets_left, demand_level)\n",
    "        q = _tickets_sold(demand_level, p, tickets_left)\n",
    "        if verbose:\n",
    "            print(\"{:.0f} days before flight: \"\n",
    "                  \"Started with {:.0f} seats. \"\n",
    "                  \"Demand level: {:.0f}. \"\n",
    "                  \"Price set to ${:.0f}. \"\n",
    "                  \"Sold {:.0f} tickets. \"\n",
    "                  \"Daily revenue is {:.0f}. Total revenue-to-date is {:.0f}. \"\n",
    "                  \"{:.0f} seats remaining\".format(days_left, tickets_left, demand_level, p, q, p*q, p*q+rev_to_date, tickets_left-q))\n",
    "        return simulate_revenue(days_left = days_left-1,\n",
    "                              tickets_left = tickets_left-q,\n",
    "                              pricing_function=pricing_function,\n",
    "                              rev_to_date=rev_to_date + p * q,\n",
    "                              demand_level_min=demand_level_min,\n",
    "                              demand_level_max=demand_level_max,\n",
    "                              verbose=verbose)\n",
    "\n",
    "def _save_score(score):\n",
    "    message = {\n",
    "        'jupyterEvent': 'custom.exercise_interaction',\n",
    "        'data': {\n",
    "            'learnTutorialId': 117,\n",
    "            'interactionType': \"check\",\n",
    "            'questionId': 'Aug31OptimizationChallenge',\n",
    "            'outcomeType': 'Pass',\n",
    "            'valueTowardsCompletion': score/10000,\n",
    "            'failureMessage': None,\n",
    "            'learnToolsVersion': \"Testing\"\n",
    "        }\n",
    "    }\n",
    "    js = 'parent.postMessage(%s, \"*\")' % json.dumps(message)\n",
    "    display(Javascript(js))\n",
    "\n",
    "def score_me(pricing_function, sims_per_scenario=200):\n",
    "    seed(0)\n",
    "    Scenario = namedtuple('Scenario', 'n_days n_tickets')\n",
    "    scenarios = [Scenario(n_days=100, n_tickets=100),\n",
    "                 Scenario(n_days=14, n_tickets=50),\n",
    "                 Scenario(n_days=2, n_tickets=20),\n",
    "                Scenario(n_days=1, n_tickets=3),\n",
    "                 ]\n",
    "    scenario_scores = []\n",
    "    for s in scenarios:\n",
    "        scenario_score = sum(simulate_revenue(s.n_days, s.n_tickets, pricing_function)\n",
    "                                     for _ in range(sims_per_scenario)) / sims_per_scenario\n",
    "        print(\"Ran {:.0f} flights starting {:.0f} days before flight with {:.0f} tickets. \"\n",
    "              \"Average revenue: ${:.0f}\".format(sims_per_scenario,\n",
    "                                                s.n_days,\n",
    "                                                s.n_tickets,\n",
    "                                                scenario_score))\n",
    "        scenario_scores.append(scenario_score)\n",
    "    score = sum(scenario_scores) / len(scenario_scores)\n",
    "    try:\n",
    "        _save_score(score)\n",
    "    except:\n",
    "        pass\n",
    "    print(\"Average revenue across all flights is ${:.0f}\".format(score))"
   ]
  },
  {
   "cell_type": "code",
   "execution_count": 2,
   "metadata": {},
   "outputs": [],
   "source": [
    "import matplotlib.pyplot as plt\n",
    "import seaborn as sns"
   ]
  },
  {
   "cell_type": "markdown",
   "metadata": {},
   "source": [
    "## Prelimanaries: Combinatorics\n",
    "Before getting started, I want to have an idea of the search space for this problem. How many ways can I sell `tickets_left` over `days_left`? Let's say I have `5` tickets, and `2` days to sell them. The different permutations to do this are:\n",
    "* (0, 5) — i.e. sell 0 on `day 1`, and sell 5 on `day 2`\n",
    "* (5, 0)\n",
    "* (1, 4)\n",
    "* (4, 1)\n",
    "* (3, 2)\n",
    "* (2, 3)\n",
    "\n",
    "That gives me `6` ways to get to `5`. Cool, but is there a generic solution for this? I can frame this as a combinatorics problem where I'm looking for all the ways in which we can split `tickets_left` with `days_left - 1` dividers. \n",
    "\n",
    "Imagine the problem as a row of `5` one's. \n",
    "`11111`\n",
    "\n",
    "I can then split it into `2` groups by adding a divider somewhere along that row.<br>\n",
    "`|1111` (0, 5)<br>\n",
    "`1|1111` (1, 4)<br>\n",
    "`11|111` (2, 3)<br>\n",
    "`111|11` (3, 2)<br>\n",
    "$\\dots$\n",
    "\n",
    "From this point of view, the problem becomes: how many ways can I order `ticket_left` + `days_left - 1`, or $n + k$, items. We can find that with the following formula:\n",
    "\n",
    "$f(n, k) = \\frac{(n+k)!}{n!k!}$\n",
    "\n",
    "Let's verify!"
   ]
  },
  {
   "cell_type": "code",
   "execution_count": 267,
   "metadata": {},
   "outputs": [],
   "source": [
    "import numpy as np\n",
    "\n",
    "def f(n, k): return np.math.factorial(n+k) // (np.math.factorial(n) * np.math.factorial(k))\n",
    "\n",
    "def combos(n):\n",
    "    \"\"\"\n",
    "    find all the combinations for 2 days\n",
    "    \"\"\"\n",
    "    combos = 0\n",
    "    items = set(range(n+1))\n",
    "    for i in range(n+1):\n",
    "        if (n - i) in items:\n",
    "            combos += 1\n",
    "    return combos\n",
    "\n",
    "for i in range(5, 20):\n",
    "    assert combos(i) == f(i, 1)"
   ]
  },
  {
   "cell_type": "markdown",
   "metadata": {},
   "source": [
    "So if we have `50` tickets and `7` days to sell them, it means there are $\\frac{(56)!}{50!6!} = 32,468,436$ ways to do so!"
   ]
  },
  {
   "cell_type": "markdown",
   "metadata": {},
   "source": [
    "## Baseline\n",
    "The baseline model provided by `Kaggle` sells `10` tickets every day. "
   ]
  },
  {
   "cell_type": "code",
   "execution_count": 4,
   "metadata": {},
   "outputs": [
    {
     "name": "stdout",
     "output_type": "stream",
     "text": [
      "Ran 1000 flights starting 100 days before flight with 100 tickets. Average revenue: $13965\n",
      "Ran 1000 flights starting 14 days before flight with 50 tickets. Average revenue: $6953\n",
      "Ran 1000 flights starting 2 days before flight with 20 tickets. Average revenue: $2791\n",
      "Ran 1000 flights starting 1 days before flight with 3 tickets. Average revenue: $420\n"
     ]
    },
    {
     "data": {
      "application/javascript": [
       "parent.postMessage({\"jupyterEvent\": \"custom.exercise_interaction\", \"data\": {\"learnTutorialId\": 117, \"interactionType\": \"check\", \"questionId\": \"Aug31OptimizationChallenge\", \"outcomeType\": \"Pass\", \"valueTowardsCompletion\": 0.6032253348393986, \"failureMessage\": null, \"learnToolsVersion\": \"Testing\"}}, \"*\")"
      ],
      "text/plain": [
       "<IPython.core.display.Javascript object>"
      ]
     },
     "metadata": {},
     "output_type": "display_data"
    },
    {
     "name": "stdout",
     "output_type": "stream",
     "text": [
      "Average revenue across all flights is $6032\n",
      "CPU times: user 73.4 ms, sys: 12.8 ms, total: 86.3 ms\n",
      "Wall time: 76.9 ms\n"
     ]
    }
   ],
   "source": [
    "%%time\n",
    "def pricing_function(days_left, tickets_left, demand_level):\n",
    "    return demand_level - 10\n",
    "score_me(pricing_function, sims_per_scenario=1000)"
   ]
  },
  {
   "cell_type": "markdown",
   "metadata": {},
   "source": [
    "---\n",
    "## Method 0: Random\n",
    "What if we just randomly chose the price?"
   ]
  },
  {
   "cell_type": "code",
   "execution_count": 269,
   "metadata": {},
   "outputs": [
    {
     "name": "stdout",
     "output_type": "stream",
     "text": [
      "Ran 1000 flights starting 100 days before flight with 100 tickets. Average revenue: $9873\n",
      "Ran 1000 flights starting 14 days before flight with 50 tickets. Average revenue: $6116\n",
      "Ran 1000 flights starting 2 days before flight with 20 tickets. Average revenue: $1968\n",
      "Ran 1000 flights starting 1 days before flight with 3 tickets. Average revenue: $151\n"
     ]
    },
    {
     "data": {
      "application/javascript": [
       "parent.postMessage({\"jupyterEvent\": \"custom.exercise_interaction\", \"data\": {\"learnTutorialId\": 117, \"interactionType\": \"check\", \"questionId\": \"Aug31OptimizationChallenge\", \"outcomeType\": \"Pass\", \"valueTowardsCompletion\": 0.45272212036072235, \"failureMessage\": null, \"learnToolsVersion\": \"Testing\"}}, \"*\")"
      ],
      "text/plain": [
       "<IPython.core.display.Javascript object>"
      ]
     },
     "metadata": {},
     "output_type": "display_data"
    },
    {
     "name": "stdout",
     "output_type": "stream",
     "text": [
      "Average revenue across all flights is $4527\n",
      "CPU times: user 723 ms, sys: 14.1 ms, total: 737 ms\n",
      "Wall time: 731 ms\n"
     ]
    }
   ],
   "source": [
    "%%time\n",
    "def pricing_function(days_left, tickets_left, demand_level):\n",
    "    n_tickets = np.random.randint(0, tickets_left)\n",
    "    return demand_level - n_tickets  \n",
    "score_me(pricing_function, sims_per_scenario=1000)"
   ]
  },
  {
   "cell_type": "markdown",
   "metadata": {},
   "source": [
    "Naturally, that is a bad approach. "
   ]
  },
  {
   "cell_type": "markdown",
   "metadata": {},
   "source": [
    "---\n",
    "##  Method 1: Heuristics"
   ]
  },
  {
   "cell_type": "markdown",
   "metadata": {},
   "source": [
    "Sell whatever the average number of tickets left is."
   ]
  },
  {
   "cell_type": "code",
   "execution_count": 6,
   "metadata": {},
   "outputs": [
    {
     "name": "stdout",
     "output_type": "stream",
     "text": [
      "Ran 1000 flights starting 100 days before flight with 100 tickets. Average revenue: $14895\n",
      "Ran 1000 flights starting 14 days before flight with 50 tickets. Average revenue: $7343\n",
      "Ran 1000 flights starting 2 days before flight with 20 tickets. Average revenue: $2810\n",
      "Ran 1000 flights starting 1 days before flight with 3 tickets. Average revenue: $439\n"
     ]
    },
    {
     "data": {
      "application/javascript": [
       "parent.postMessage({\"jupyterEvent\": \"custom.exercise_interaction\", \"data\": {\"learnTutorialId\": 117, \"interactionType\": \"check\", \"questionId\": \"Aug31OptimizationChallenge\", \"outcomeType\": \"Pass\", \"valueTowardsCompletion\": 0.6371664538804088, \"failureMessage\": null, \"learnToolsVersion\": \"Testing\"}}, \"*\")"
      ],
      "text/plain": [
       "<IPython.core.display.Javascript object>"
      ]
     },
     "metadata": {},
     "output_type": "display_data"
    },
    {
     "name": "stdout",
     "output_type": "stream",
     "text": [
      "Average revenue across all flights is $6372\n",
      "CPU times: user 515 ms, sys: 9 ms, total: 524 ms\n",
      "Wall time: 518 ms\n"
     ]
    }
   ],
   "source": [
    "%%time\n",
    "def pricing_function(days_left, tickets_left, demand_level):\n",
    "    return demand_level - tickets_left // days_left\n",
    "score_me(pricing_function, sims_per_scenario=1000)"
   ]
  },
  {
   "cell_type": "markdown",
   "metadata": {},
   "source": [
    "This method isn't as fast as the baseline, but it made us an extra `$340` on average!\n",
    "\n",
    "What if we took that a step further and only sold the average number of tickets left, when the demand is over 150?"
   ]
  },
  {
   "cell_type": "code",
   "execution_count": 7,
   "metadata": {},
   "outputs": [
    {
     "name": "stdout",
     "output_type": "stream",
     "text": [
      "Ran 1000 flights starting 100 days before flight with 100 tickets. Average revenue: $16595\n",
      "Ran 1000 flights starting 14 days before flight with 50 tickets. Average revenue: $7875\n",
      "Ran 1000 flights starting 2 days before flight with 20 tickets. Average revenue: $2841\n",
      "Ran 1000 flights starting 1 days before flight with 3 tickets. Average revenue: $439\n"
     ]
    },
    {
     "data": {
      "application/javascript": [
       "parent.postMessage({\"jupyterEvent\": \"custom.exercise_interaction\", \"data\": {\"learnTutorialId\": 117, \"interactionType\": \"check\", \"questionId\": \"Aug31OptimizationChallenge\", \"outcomeType\": \"Pass\", \"valueTowardsCompletion\": 0.6937227051183201, \"failureMessage\": null, \"learnToolsVersion\": \"Testing\"}}, \"*\")"
      ],
      "text/plain": [
       "<IPython.core.display.Javascript object>"
      ]
     },
     "metadata": {},
     "output_type": "display_data"
    },
    {
     "name": "stdout",
     "output_type": "stream",
     "text": [
      "Average revenue across all flights is $6937\n",
      "CPU times: user 496 ms, sys: 10.6 ms, total: 507 ms\n",
      "Wall time: 501 ms\n"
     ]
    }
   ],
   "source": [
    "%%time\n",
    "def pricing_function(days_left, tickets_left, demand_level):\n",
    "    if days_left == 1:\n",
    "        return demand_level - tickets_left\n",
    "    if demand_level >= 150:\n",
    "        n_tickets =  tickets_left // days_left\n",
    "    else:\n",
    "        n_tickets = 0\n",
    "    return demand_level - n_tickets\n",
    "\n",
    "score_me(pricing_function, sims_per_scenario=1000)"
   ]
  },
  {
   "cell_type": "markdown",
   "metadata": {},
   "source": [
    "Now we've made `$905` above the baseline!"
   ]
  },
  {
   "cell_type": "markdown",
   "metadata": {},
   "source": [
    "---\n",
    "## Method 2: Heuristics + Probability\n",
    "\n",
    "What if we know the chance that the demand level will go up, or down in the future? That should impact the number of tickets sold on a single day.  \n",
    "\n",
    "We know from the problem statement that the demand level follows a `uniform distribution` between `100` and `200`. By calculating the inverse `CDF` of the `Uniform distribution` we can determine the chance that the next day we'll get a higher demand level. We can then use the `CDF` of the `Binomial distribution`, to calculate the chance that we'll see at least one day with a higher `demand_level` over `days_left`."
   ]
  },
  {
   "cell_type": "code",
   "execution_count": 8,
   "metadata": {},
   "outputs": [
    {
     "name": "stdout",
     "output_type": "stream",
     "text": [
      "Ran 1000 flights starting 100 days before flight with 100 tickets. Average revenue: $17723\n",
      "Ran 1000 flights starting 14 days before flight with 50 tickets. Average revenue: $8321\n",
      "Ran 1000 flights starting 2 days before flight with 20 tickets. Average revenue: $2826\n",
      "Ran 1000 flights starting 1 days before flight with 3 tickets. Average revenue: $439\n"
     ]
    },
    {
     "data": {
      "application/javascript": [
       "parent.postMessage({\"jupyterEvent\": \"custom.exercise_interaction\", \"data\": {\"learnTutorialId\": 117, \"interactionType\": \"check\", \"questionId\": \"Aug31OptimizationChallenge\", \"outcomeType\": \"Pass\", \"valueTowardsCompletion\": 0.7327112154333265, \"failureMessage\": null, \"learnToolsVersion\": \"Testing\"}}, \"*\")"
      ],
      "text/plain": [
       "<IPython.core.display.Javascript object>"
      ]
     },
     "metadata": {},
     "output_type": "display_data"
    },
    {
     "name": "stdout",
     "output_type": "stream",
     "text": [
      "Average revenue across all flights is $7327\n",
      "CPU times: user 2.48 s, sys: 83.4 ms, total: 2.57 s\n",
      "Wall time: 2.52 s\n"
     ]
    }
   ],
   "source": [
    "%%time \n",
    "import scipy as sp\n",
    "import scipy.stats    \n",
    "import scipy.special\n",
    "\n",
    "def pmf(n, k, p):\n",
    "    \"\"\"\n",
    "    pmf of binomial distribution\n",
    "    \"\"\"\n",
    "    return sp.special.comb(n, k) * (p ** k) * (1 - p) ** (n - k)\n",
    "\n",
    "def cdf(n, k, p):\n",
    "    \"\"\"\n",
    "    cdf of biomial distribution\n",
    "    \"\"\"\n",
    "    return sum([pmf(n, i, p) for i in range(0, k+1)])\n",
    "\n",
    "def chance_of_higher_demand_tomorrow(demand_level):\n",
    "    \"\"\"\n",
    "    inverse cdf of uniform distritbuion\n",
    "    \"\"\"\n",
    "    mn, mx = 100, 200\n",
    "    return 1 - (demand_level - mn) / (mx - mn)\n",
    "\n",
    "def pricing_function(days_left, tickets_left, demand_level):\n",
    "    p = chance_of_higher_demand_tomorrow(demand_level)    \n",
    "    chance_of_higher_demand = 1 - cdf(days_left, 1, p) # chance of having at least one success over {days_left} with prob {p}\n",
    "    \n",
    "    if days_left == 1:\n",
    "        n_tickets = tickets_left\n",
    "    elif chance_of_higher_demand <= 0.95:\n",
    "        n_tickets = tickets_left // days_left + ((1 - chance_of_higher_demand) / 3) * tickets_left\n",
    "\n",
    "    else:\n",
    "        n_tickets = 0\n",
    "    return demand_level - n_tickets\n",
    "\n",
    "score_me(pricing_function, sims_per_scenario=1000)"
   ]
  },
  {
   "cell_type": "markdown",
   "metadata": {},
   "source": [
    "Instead of being lead by averages, here we're actually computing the likelihood that we'll get a higher demand in the future. This leads to a `$1,295` increase from the baseline! \n"
   ]
  },
  {
   "cell_type": "markdown",
   "metadata": {},
   "source": [
    "---\n",
    "## Method 3: Dynamic Programming\n",
    "This is the provided solution from `kaggle`. By using `dynamic programming`, we start off with a small problem and then expand to a larger one. In our case, the approach is to start from `days_left - 1` and work backwards, day by day. As we move backwards, we update two variables:\n",
    "* `V` — The `value function` tells us what the best outcome is from any given state.\n",
    "* `Q` — The `Q function` is like the `value function` but includes the choice of tickets to sell on each day. "
   ]
  },
  {
   "cell_type": "code",
   "execution_count": 36,
   "metadata": {},
   "outputs": [
    {
     "name": "stdout",
     "output_type": "stream",
     "text": [
      "CPU times: user 1min 16s, sys: 394 ms, total: 1min 16s\n",
      "Wall time: 1min 16s\n"
     ]
    }
   ],
   "source": [
    "%%time\n",
    "n_demand_levels = 11\n",
    "min_demand_level = 100\n",
    "max_demand_level = 200\n",
    "demand_levels = np.linspace(min_demand_level, max_demand_level, n_demand_levels)\n",
    "\n",
    "max_tickets = 200\n",
    "max_days = 150\n",
    "# Q indices are: n_sold in day, tickets_left to start day, demand_level, days_left\n",
    "Q = np.zeros([max_tickets, max_tickets, n_demand_levels, max_days])\n",
    "# V indices are: n_left and n_days\n",
    "V = np.zeros([max_tickets, max_days]) # value function\n",
    "\n",
    "for days_left in range(max_days):\n",
    "    for tickets_left in range(max_tickets):\n",
    "        for tickets_sold in range(tickets_left+1): # allow selling all tickets\n",
    "            for demand_index, demand_level in enumerate(demand_levels):\n",
    "                price = max(demand_level - tickets_sold, 0)\n",
    "                rev_today = price * tickets_sold\n",
    "                Q[tickets_sold, tickets_left, demand_index, days_left] = rev_today + V[tickets_left-tickets_sold, days_left-1]\n",
    "        # For each demand_level, choose the optimum number to sell. Output of this is an array of size n_demand_levels\n",
    "        expected_total_rev_from_best_quantity_at_each_demand_level = Q[:, tickets_left, :, days_left].max(axis=0)\n",
    "        # take the average, since we don't know demand level ahead of time and all are equally likely\n",
    "        V[tickets_left, days_left] = expected_total_rev_from_best_quantity_at_each_demand_level.mean()"
   ]
  },
  {
   "cell_type": "code",
   "execution_count": 37,
   "metadata": {},
   "outputs": [
    {
     "name": "stdout",
     "output_type": "stream",
     "text": [
      "Ran 1000 flights starting 100 days before flight with 100 tickets. Average revenue: $18451\n",
      "Ran 1000 flights starting 14 days before flight with 50 tickets. Average revenue: $8480\n",
      "Ran 1000 flights starting 2 days before flight with 20 tickets. Average revenue: $2929\n",
      "Ran 1000 flights starting 1 days before flight with 3 tickets. Average revenue: $444\n"
     ]
    },
    {
     "data": {
      "application/javascript": [
       "parent.postMessage({\"jupyterEvent\": \"custom.exercise_interaction\", \"data\": {\"learnTutorialId\": 117, \"interactionType\": \"check\", \"questionId\": \"Aug31OptimizationChallenge\", \"outcomeType\": \"Pass\", \"valueTowardsCompletion\": 0.7576156915650651, \"failureMessage\": null, \"learnToolsVersion\": \"Testing\"}}, \"*\")"
      ],
      "text/plain": [
       "<IPython.core.display.Javascript object>"
      ]
     },
     "metadata": {},
     "output_type": "display_data"
    },
    {
     "name": "stdout",
     "output_type": "stream",
     "text": [
      "Average revenue across all flights is $7576\n"
     ]
    }
   ],
   "source": [
    "def pricing_function(days_left, tickets_left, demand_level):\n",
    "    # demand_levels contains `n_demand_levels` evenly spaced between `min_demand_level` and `max_demand_level`\n",
    "    demand_level_index = np.abs(demand_level - demand_levels).argmin()\n",
    "    \n",
    "    day_index = days_left - 1 # arrays are 0 indexed\n",
    "    tickets_index = int(tickets_left)  # in case it comes in as float, but need to index with it\n",
    "    # Q indices are: n_sold in day, tickets_left to start day, demand_level, days_left\n",
    "    relevant_Q_vals = Q[:, tickets_index, demand_level_index, day_index]\n",
    "    desired_quantity = relevant_Q_vals.argmax() # offset 0 indexing\n",
    "    price = demand_level - desired_quantity\n",
    "    return price\n",
    "\n",
    "score_me(pricing_function, sims_per_scenario=1000)"
   ]
  },
  {
   "cell_type": "code",
   "execution_count": 39,
   "metadata": {},
   "outputs": [
    {
     "data": {
      "image/png": "[encoded data removed]",
      "text/plain": [
       "<Figure size 1152x576 with 2 Axes>"
      ]
     },
     "metadata": {
      "needs_background": "light"
     },
     "output_type": "display_data"
    }
   ],
   "source": [
    "plt.figure(figsize=(16, 8))\n",
    "sns.heatmap(V);\n",
    "plt.xlabel(\"Days left\"); plt.ylabel(\"Tickets left\"); plt.title(\"Value Function\");"
   ]
  },
  {
   "cell_type": "markdown",
   "metadata": {},
   "source": [
    "---\n",
    "## Method 4: MDP\n",
    "This is a work in progress. At the moment, it is the same as the above approach but introduces a discount factor. "
   ]
  },
  {
   "cell_type": "code",
   "execution_count": 272,
   "metadata": {},
   "outputs": [],
   "source": [
    "class MDP():\n",
    "    \n",
    "    def __init__(self, max_tickets, max_days):\n",
    "        self.max_tickets = max_tickets\n",
    "        self.max_days = max_days\n",
    "        self.min_demand_level, self.max_demand_level, self.n_demand_levels = 100, 200, 11\n",
    "        self.demand_levels = np.linspace(self.min_demand_level, self.max_demand_level, self.n_demand_levels)\n",
    "        self.Q = np.zeros([self.max_tickets, self.max_tickets, self.n_demand_levels, self.max_days]) \n",
    "        self.V = np.zeros([self.max_tickets, self.max_days])      \n",
    "        # index: tickets n_sold in day, tickets_left to start day, demand_level, days_left\n",
    "\n",
    "    def expected_utility(self, tickets_left, days_left, gamma):\n",
    "        for tickets_sold in range(tickets_left+1):\n",
    "            for demand_index, demand_level in enumerate(demand_levels):\n",
    "                price = max(demand_level - tickets_sold, 0)\n",
    "                rev_today = price * tickets_sold\n",
    "                \n",
    "                self.Q[tickets_sold, tickets_left, demand_index, days_left] = rev_today + gamma * self.V[tickets_left-tickets_sold, days_left-1]\n",
    "        \n",
    "    def value_iteration(self, gamma):\n",
    "        for days_left in range(self.max_days):\n",
    "            for tickets_left in range(self.max_tickets):\n",
    "                u = self.expected_utility(tickets_left, days_left, gamma)\n",
    "                expected_total_rev_from_best_quantity_at_each_demand_level = self.Q[:, tickets_left, :, days_left].max(axis=0)\n",
    "                self.V[tickets_left, days_left] = expected_total_rev_from_best_quantity_at_each_demand_level.mean()\n",
    "\n",
    "        return self.V, self.Q\n",
    "    \n",
    "max_tickets = 200\n",
    "max_days = 150\n",
    "mdp = MDP(max_tickets, max_days)\n",
    "vi_V, vi_Q = mdp.value_iteration(0.98)"
   ]
  },
  {
   "cell_type": "code",
   "execution_count": 273,
   "metadata": {},
   "outputs": [
    {
     "data": {
      "image/png": "[encoded data removed]",
      "text/plain": [
       "<Figure size 1152x576 with 2 Axes>"
      ]
     },
     "metadata": {
      "needs_background": "light"
     },
     "output_type": "display_data"
    }
   ],
   "source": [
    "plt.figure(figsize=(16, 8))\n",
    "sns.heatmap(vi_V);\n",
    "plt.xlabel(\"Days left\"); plt.ylabel(\"Tickets left\"); plt.title(\"Value Function\");"
   ]
  },
  {
   "cell_type": "code",
   "execution_count": 274,
   "metadata": {},
   "outputs": [
    {
     "name": "stdout",
     "output_type": "stream",
     "text": [
      "Ran 1000 flights starting 100 days before flight with 100 tickets. Average revenue: $16430\n",
      "Ran 1000 flights starting 14 days before flight with 50 tickets. Average revenue: $8358\n",
      "Ran 1000 flights starting 2 days before flight with 20 tickets. Average revenue: $2889\n",
      "Ran 1000 flights starting 1 days before flight with 3 tickets. Average revenue: $440\n"
     ]
    },
    {
     "data": {
      "application/javascript": [
       "parent.postMessage({\"jupyterEvent\": \"custom.exercise_interaction\", \"data\": {\"learnTutorialId\": 117, \"interactionType\": \"check\", \"questionId\": \"Aug31OptimizationChallenge\", \"outcomeType\": \"Pass\", \"valueTowardsCompletion\": 0.7029408458579344, \"failureMessage\": null, \"learnToolsVersion\": \"Testing\"}}, \"*\")"
      ],
      "text/plain": [
       "<IPython.core.display.Javascript object>"
      ]
     },
     "metadata": {},
     "output_type": "display_data"
    },
    {
     "name": "stdout",
     "output_type": "stream",
     "text": [
      "Average revenue across all flights is $7029\n"
     ]
    }
   ],
   "source": [
    "def pricing_function(days_left, tickets_left, demand_level):\n",
    "    # demand_levels contains `n_demand_levels` evenly spaced between `min_demand_level` and `max_demand_level`\n",
    "    demand_level_index = np.abs(demand_level - demand_levels).argmin()\n",
    "    \n",
    "    day_index = days_left - 1 # arrays are 0 indexed\n",
    "    tickets_index = int(tickets_left)  # in case it comes in as float, but need to index with it\n",
    "    relevant_Q_vals = vi_Q[:, tickets_index, demand_level_index, day_index]\n",
    "    desired_quantity = relevant_Q_vals.argmax() # offset 0 indexing\n",
    "    price = demand_level - desired_quantity\n",
    "    return price\n",
    "\n",
    "score_me(pricing_function, sims_per_scenario=1000)"
   ]
  }
 ],
 "metadata": {
  "kernelspec": {
   "display_name": "Python 3",
   "language": "python",
   "name": "python3"
  },
  "language_info": {
   "codemirror_mode": {
    "name": "ipython",
    "version": 3
   },
   "file_extension": ".py",
   "mimetype": "text/x-python",
   "name": "python",
   "nbconvert_exporter": "python",
   "pygments_lexer": "ipython3",
   "version": "3.7.4"
  }
 },
 "nbformat": 4,
 "nbformat_minor": 1
}
