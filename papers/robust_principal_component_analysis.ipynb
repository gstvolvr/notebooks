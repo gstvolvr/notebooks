{
 "cells": [
  {
   "cell_type": "markdown",
   "metadata": {},
   "source": [
    "# [Robust Principal Component Analysis:](http://citeseerx.ist.psu.edu/viewdoc/download?doi=10.1.1.648.1491&rep=rep1&type=pdf)\n",
    "## Exact Recovery of Corrupted Low-Rank Matrices by Convex Optimization\n",
    "\n",
    "The paper considers the problem of finding a matrix $A$, from some observations where $D = A + E$. They prove that $A$ can be extracted using a simple `convex optimization` algo. \n",
    "\n",
    "#### Assumptions:\n",
    "1) Matrix $A$ is low rank<br>\n",
    "2) Matrix $E$ is sparse<br>\n",
    "\n",
    "### I Introduction\n",
    "They start out by mentioning some of the limitations with traditional `PCA`, indicating that it is not good at handling outliers. \n",
    "\n",
    "They continue to discuss what current research inspired their approach, and further define their objective. \n",
    "\n",
    "To confirm these limitations, I graphed a couple of examples."
   ]
  },
  {
   "cell_type": "code",
   "execution_count": 46,
   "metadata": {},
   "outputs": [
    {
     "name": "stdout",
     "output_type": "stream",
     "text": [
      "<bound method _BasePCA.get_covariance of PCA(copy=True, iterated_power='auto', n_components=None, random_state=None,\n",
      "  svd_solver='auto', tol=0.0, whiten=False)>\n",
      "[5.] [[-1.]]\n"
     ]
    },
    {
     "data": {
      "image/png": "[encoded data removed]",
      "text/plain": [
       "<Figure size 432x288 with 1 Axes>"
      ]
     },
     "metadata": {},
     "output_type": "display_data"
    }
   ],
   "source": [
    "import matplotlib.pyplot as plt\n",
    "import numpy as np\n",
    "from sklearn.decomposition import PCA\n",
    "plt.style.use(\"fivethirtyeight\")\n",
    "\n",
    "m, b, n = 10, 10, 12\n",
    "line = np.array([m * x + b for x in np.arange(-n, n)])\n",
    "pca = PCA()\n",
    "res = pca.fit_transform(line.reshape(-1, 1))\n",
    "print(pca.get_covariance)\n",
    "\n",
    "def draw_vector(v0, v1, ax=None):\n",
    "    ax = ax or plt.gca()\n",
    "    arrowprops=dict(arrowstyle='->',\n",
    "                    linewidth=2,\n",
    "                    shrinkA=0, shrinkB=0)\n",
    "#     print(v1, v0, arrowprops)\n",
    "    ax.annotate('', v1, v0, arrowprops=arrowprops)\n",
    "\n",
    "fig = plt.figure()\n",
    "plt.scatter(np.arange(-n, n), line, alpha=0.2);\n",
    "print(pca.mean_, pca.components_)"
   ]
  },
  {
   "cell_type": "markdown",
   "metadata": {},
   "source": [
    "### II Problem Setting and Main Results\n",
    "The authors formally define the problem as:<br>\n",
    "Given $D = A + E$, where $A$ and $E$ are unknown, but $A$ is known to be low rank, and $E$ is known to be sparse, recover $A$\n",
    "\n",
    "They argue that a conceptual solution would be a non-convex optimization problem that doesn't have a known solution:\n",
    "\n",
    "$min_{A,E}~rank(A) + \\gamma||E||_0~subj~A + E = D$\n",
    "\n",
    "It's intractable because of the $l^0$ norm on $E$. \n",
    "\n",
    "Instead, we can simplify it by relaxing the problem. Replace the: \n",
    "* $l^0$ norm with a $l^1$ norm\n",
    "* rank(A) with it's nuclear norm $||A||_* = \\sum_i \\sigma_i(A)$\n",
    "\n",
    "This is later simplified to the following — for almost all pairs $(A_0, E_0)$ consisting of a low rank matrix $A_0$ and a sparse matrix $E_0$:<br> \n",
    "$(A_0, E_0) = arg~min_{A, E}~||A||_* +_ \\lambda||E||_1~subj~A + E = A_0 + E_0$ \n",
    "\n",
    "$\\lambda$ in this case is the regularization parameter which is set to $\\lambda = m^{-\\frac{1}{2}}$"
   ]
  },
  {
   "cell_type": "code",
   "execution_count": null,
   "metadata": {},
   "outputs": [],
   "source": []
  }
 ],
 "metadata": {
  "kernelspec": {
   "display_name": "Python 3",
   "language": "python",
   "name": "python3"
  },
  "language_info": {
   "codemirror_mode": {
    "name": "ipython",
    "version": 3
   },
   "file_extension": ".py",
   "mimetype": "text/x-python",
   "name": "python",
   "nbconvert_exporter": "python",
   "pygments_lexer": "ipython3",
   "version": "3.7.3"
  }
 },
 "nbformat": 4,
 "nbformat_minor": 2
}
