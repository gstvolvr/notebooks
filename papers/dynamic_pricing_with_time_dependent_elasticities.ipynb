{
 "cells": [
  {
   "cell_type": "markdown",
   "metadata": {},
   "source": [
    "# [Dynamic Pricing with Time-Dependent Elasticities](https://link.springer.com/article/10.1057/rpm.2015.3)\n",
    "\n",
    "### 0 Variable Definitions\n",
    "* $p$ — price\n",
    "* $t$ — single unit of time\n",
    "* $T$ — time horizon\n",
    "* $N$ — # of items to sell\n",
    "* $r(t)$ — time inhomogenous non-negative discount rate\n",
    "* $c(t)$ — non-negative time dependent unit costs\n",
    "* $\\lambda(t, p)$ — a rate representing <i>jump intensity</i> in price $p$ at time $t$\n",
    "\n",
    "### 1 Introduction\n",
    "Firms dynamically set prices to maximize profits, and the way this is usually modeled using `dynamic pricing optimization models`. These often only consider examples of specific demand functions with constant elasticities. Problem is that the `price elasticity of demand` might vary with time. To solve this, the paper introduces `stochastic` and `deterministic` price models. \n",
    "\n",
    "In some articles, customer's arrival rate might depend on time: \n",
    "$$\\lambda(t, p) = u(t) \\cdot \\bar{F}(p)$$\n",
    "\n",
    "Where $\\lambda(t, p)$ is the demand rate, and $u$ is the arrival rate, and $\\bar{F}$ can be intepreted as the probablity that a customer's reservation price exceeds the price $p$\n",
    "\n",
    "The paper shows how to derive optimal policies of general time-dependent deterministic models.\n",
    "\n",
    "### 2 Stochastic and Deterministic Dynamic Pricing Models\n",
    "\n",
    "#### 2. 1 Stochastic Model\n",
    "A monopolist wants to sell $N$ items over a finite time horizon $T$. They use a general model with a time inhomogenous non-negative discount rate $r(t)$ and non-negative time-dependent unit costs $c(t)$. They assume a positive revenue parameter $v$, so if a sale occurs at time $t$ with prie $p$, the discounted net revenue is given by:\n",
    "\n",
    "$$e^{-R(t)} \\cdot (v\\cdot p - c(t)),~\\text{where}~R(t):= \\int_0^t r(s)~ds$$\n",
    "\n",
    "`NOTE:` what is $s$? is it the state? \n",
    "\n",
    "The dynamic of the sales process is given by a jump in intensity $\\lambda(t, p)$. The end of sale is the random time $\\tau$ when all $N$ products are sold or the horizon $T$ is reached, so $\\tau := \\min_{0\\le t \\le T} \\lbrace t: X_t = 0 \\rbrace \\wedge T$ for all remaining $t \\ge \\tau$. The evolution of the profit process was $(R_t)_t$ is connected to the inventory process and realized by net revenues. \n",
    "\n",
    "Depending on the chosen pricing strategy, the random accumulated profit up to time $t$ amounts to:\n",
    "$$R_t:=\\int_0^{t\\wedge \\tau} e^{-R(s)} \\cdot (v \\cdot p_{s-} - c(s))~dX_s$$\n",
    "\n",
    "They want to deterine a non-anticipating Markovian feedback pricing policy $p_n(t)$ such that the expected total profit will be maximized. \n",
    "$$E(R_T) := E\\left[\\int_0^{T\\wedge \\tau} e^{-R(t)} \\cdot \\left(v \\cdot p_{X_t}(t) - c(t)\\right)\\cdot\\lambda\\left(t, p_{X_t}(t)\\right)~dt|X_0=N\\right]$$\n",
    "\n",
    "By $G_t := R_T - R-t$, they denote random profits from time $t$ onward. \n",
    "\n",
    "Using the Bellman approach, the best future profits $E(G_t | X_t = n)$ describes the value function $V_n(t)$ of the stochastic control problem, which is characterized by the associated `hamilton-jacobi-bellman equation`:\n",
    "$$V_n(t) + sup_{p\\gt0}\\{\\lambda(t, p) \\cdot \\left(v\\cdot p - c(t) - \\Delta V_n(t)\\right)\\} = r(t) \\cdot V_n(t)$$\n",
    "\n",
    "Where $\\Delta V_n(t) := V_n(t) - V_{n-1}(t)$ denotes the opportunity cost. The boundary conditions are:\n",
    "$$V_0 = 0, 0 \\le t \\le T \\text{ and } (\\text{if } T \\lt \\infty)~V_n(t) = 0, 0 \\le n \\le T$$\n",
    "\n",
    "The [`hamilton-jacobi-bellman equation`](https://en.wikipedia.org/wiki/Hamilton%E2%80%93Jacobi%E2%80%93Bellman_equation) gives a necessary and sufficient condition for optimality of a control over a loss function. \n",
    "\n",
    "`NOTE:` The $sup$ means \"supremum\", which is to say, the largest.\n",
    "\n",
    "The optimality conditions for the feedback prices $p_n(t)$ are given by, $0\\le t \\le T, n = 1,2,\\dot, N$\n",
    "$$p_n(t) = \\frac{\\lambda}{-\\partial{\\lambda}/\\partial{p}}(t, p_n(t)) + \\frac{c(t)}{v} + \\frac{\\Delta V_n(t)}{v}$$"
   ]
  },
  {
   "cell_type": "code",
   "execution_count": null,
   "metadata": {},
   "outputs": [],
   "source": [
    "def discount_rate(t):\n",
    "    \"\"\"inhomogenous non-negative discount rate\n",
    "    \"\"\"\n",
    "    return \n",
    "\n",
    "def unit_costs(t):\n",
    "    \"\"\"\n",
    "    \"\"\"\n",
    "    return"
   ]
  },
  {
   "cell_type": "markdown",
   "metadata": {},
   "source": [
    "#### 2.2 Deterministic Model\n",
    "Let's look at a deterministic version of a pricing problem over $[0, T]$, where the amount still to be sold at any time $t$ is given by:\n",
    "$$\\dot{x}(t) = -\\lambda(t, p),~x(0) = N$$\n",
    "\n",
    "`NOTE`: The $\\cdot$ in $\\dot{x}(t)$ usually means the derivative with respect to time. \n",
    "\n",
    "We want to identify the \"admissible feedback control\" such that the assigned price trajectory, together with the corresponding state trajectory maximizes the profit function:\n",
    "$$\\max_{p_t\\ge0}\\int_0^{T\\wedge \\tau} e^{-R(t)} \\cdot (v \\cdot p_{t} - c(t))\\lambda(t, p_t)~dt$$\n",
    "\n",
    "With the condition that integral over the jump rate has to be less than $N$\n",
    "\n",
    "$$\\int_0^{T\\wedge \\tau} \\lambda(t, p_t) dt \\le N$$"
   ]
  },
  {
   "cell_type": "markdown",
   "metadata": {},
   "source": [
    "---\n",
    "### Appendix \n",
    "#### Price Elasticity of Demand\n",
    "It's a measure used in economics to show the responsiveness of demand to a change in a good or service's price. \n",
    "\n",
    "Coefficient of elasticity:\n",
    "$$e_{<p>} = \\frac{dQ/Q}{dP/P}$$\n",
    "\n",
    "Where $P$ is price of the good, and $Q$ is the deanded quantity"
   ]
  },
  {
   "cell_type": "markdown",
   "metadata": {},
   "source": [
    "---\n",
    "### Resources:\n",
    "* [Wikipedia — Price Elasticity of Demand](https://en.wikipedia.org/wiki/Price_elasticity_of_demand)"
   ]
  },
  {
   "cell_type": "code",
   "execution_count": null,
   "metadata": {},
   "outputs": [],
   "source": []
  }
 ],
 "metadata": {
  "kernelspec": {
   "display_name": "Python 3",
   "language": "python",
   "name": "python3"
  },
  "language_info": {
   "codemirror_mode": {
    "name": "ipython",
    "version": 3
   },
   "file_extension": ".py",
   "mimetype": "text/x-python",
   "name": "python",
   "nbconvert_exporter": "python",
   "pygments_lexer": "ipython3",
   "version": "3.7.4"
  }
 },
 "nbformat": 4,
 "nbformat_minor": 2
}
