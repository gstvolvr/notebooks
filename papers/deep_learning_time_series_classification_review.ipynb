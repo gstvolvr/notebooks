{
 "cells": [
  {
   "cell_type": "markdown",
   "metadata": {},
   "source": [
    "# [Deep Learning for Time Series Classification](https://arxiv.org/pdf/1809.04356.pdf)\n",
    "\n",
    "This paper compares different techniques for time series classification, and it proposes using deep learning techniques, as a <em>simpler</em> solution to current state of the art.\n",
    "\n",
    "From the questions that they pose in the paper, I'm interested in:<br>\n",
    "what is the current state of the art DNN for TSC?\n",
    "\n",
    "is there a current deep neural network (DNN) approach that performs just as well, but is less complex than HIVE-COTE (the current non-dnn state of the art)?\n",
    "\n",
    "## Background\n",
    "### DNNs for time series classification\n",
    "DNNs are designed to learn hierarchical representation from the data. A DNN is composed of a set of parametric functions (layers) where each layer is considered a representation of the input domain. One layer takes as input the output of its previous layer and applies a non-linearity to compute it's own output. \n",
    "\n",
    "A non-linearity can refer to something like a `sigmoid function` &mdash; you know that from `logistic regression`"
   ]
  },
  {
   "cell_type": "code",
   "execution_count": 27,
   "metadata": {},
   "outputs": [
    {
     "data": {
      "image/png": "[encoded data removed]",
      "text/plain": [
       "<Figure size 432x288 with 1 Axes>"
      ]
     },
     "metadata": {
      "needs_background": "light"
     },
     "output_type": "display_data"
    }
   ],
   "source": [
    "import numpy as np\n",
    "import matplotlib.pyplot as plt\n",
    "plt.style.use(\"fivethirtyeight\")\n",
    "%matplotlib inline\n",
    "\n",
    "def sigmoid(x):\n",
    "    return 1.0 / (1.0 + np.exp(-x))\n",
    "\n",
    "# evenly spaced numbers\n",
    "X = np.linspace(-10, 10, 50) # evenly spaces numbers\n",
    "plt.title(\"sigmoid function\")\n",
    "plt.plot(sigmoid(X));"
   ]
  },
  {
   "cell_type": "markdown",
   "metadata": {},
   "source": [
    "This process is known as `feed-forward propagation`. \n",
    "\n",
    "When training, the network is exposed to a number of known input/output with randomly initialized weights. After initialization, a forward pass through the model is applied &mdash; the output of input `x` is a vector with estimated probabilities of `x` belonging to each class.\n",
    "\n",
    "The model's performance is computed using some cost function, then using an optimization technique like `gradient descent` the weights are updated in a backward pass. We iteratively take a forward pass, followed by backpropagation to update the paremeters to minimize the loss on the training data.\n",
    "\n",
    "The paper goes on to describe multi layer perceptrons, convolutional neural nets, and eacho state networks.\n",
    "\n",
    "### Generative Models\n",
    "The goal is to find a good representation of time series prior to training a classifier &mdash. Classifiers are often preceded by an unsupervised pre-training phase such as [stack denoising auto-encoders?.](https://papers.nips.cc/paper/5023-generalized-denoising-auto-encoders-as-generative-models.pdf)\n",
    "\n",
    "### Discriminative Models\n",
    "Classifier/regression that directly learns mapping between raw input features and returns the probability distribution over the classes."
   ]
  }
 ],
 "metadata": {
  "kernelspec": {
   "display_name": "Python 3",
   "language": "python",
   "name": "python3"
  },
  "language_info": {
   "codemirror_mode": {
    "name": "ipython",
    "version": 3
   },
   "file_extension": ".py",
   "mimetype": "text/x-python",
   "name": "python",
   "nbconvert_exporter": "python",
   "pygments_lexer": "ipython3",
   "version": "3.7.3"
  }
 },
 "nbformat": 4,
 "nbformat_minor": 2
}
